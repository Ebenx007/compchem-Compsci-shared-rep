{
  "nbformat": 4,
  "nbformat_minor": 0,
  "metadata": {
    "colab": {
      "name": "4git.2_data_preprocessing.ipynb",
      "provenance": [],
      "collapsed_sections": [
        "-ngN0JvNrVf1",
        "Vb0nhCZKsJZO"
      ],
      "include_colab_link": true
    },
    "kernelspec": {
      "display_name": "Python 3",
      "name": "python3"
    }
  },
  "cells": [
    {
      "cell_type": "markdown",
      "metadata": {
        "id": "view-in-github",
        "colab_type": "text"
      },
      "source": [
        "<a href=\"https://colab.research.google.com/github/Ebenx007/compchem-Compsci-shared-rep/blob/main/2_data_preprocessing.ipynb\" target=\"_parent\"><img src=\"https://colab.research.google.com/assets/colab-badge.svg\" alt=\"Open In Colab\"/></a>"
      ]
    },
    {
      "cell_type": "code",
      "metadata": {
        "id": "yQP7pmnVpNHU"
      },
      "source": [
        "from google.colab import drive\n",
        "from pathlib import Path\n",
        "import sys\n",
        "import os\n",
        "import shutil\n",
        "import tarfile\n",
        "import zipfile\n",
        "import subprocess\n",
        "import pickle\n",
        "import re\n",
        "import glob"
      ],
      "execution_count": 1,
      "outputs": []
    },
    {
      "cell_type": "code",
      "metadata": {
        "id": "v24G22PeDBtU",
        "colab": {
          "base_uri": "https://localhost:8080/"
        },
        "outputId": "b8fd0bf9-d76d-420c-a2f2-7fed89397466"
      },
      "source": [
        "drive.mount('/content/drive/')"
      ],
      "execution_count": 2,
      "outputs": [
        {
          "output_type": "stream",
          "name": "stdout",
          "text": [
            "Mounted at /content/drive/\n"
          ]
        }
      ]
    },
    {
      "cell_type": "markdown",
      "metadata": {
        "id": "2eg0S2SDJ9_O"
      },
      "source": [
        "# 1. RESTORE RAW DATA FROM [DATA AQUISITION NOTEBOOK](https://github.com/Ebenx007/compchem-Compsci-shared-rep/blob/main/1_data_acquisition.ipynb)\n",
        "---\n",
        "---"
      ]
    },
    {
      "cell_type": "code",
      "metadata": {
        "id": "bC5Q9oLVCFhq"
      },
      "source": [
        "#Load pickled file\n",
        "def load_data(file):\n",
        " with open(file,\"rb\") as f:\n",
        "   data = pickle.load(f)\n",
        " return(data)"
      ],
      "execution_count": null,
      "outputs": []
    },
    {
      "cell_type": "code",
      "metadata": {
        "id": "bF8kEvuu2NbB"
      },
      "source": [
        "!cp \"/content/drive/My Drive/colab_root/compchem-compsci-shared-rep/raw/raw_data.tar\" ."
      ],
      "execution_count": 3,
      "outputs": []
    },
    {
      "cell_type": "code",
      "metadata": {
        "id": "ccKdM3ZZJPuP"
      },
      "source": [
        "with tarfile.open('raw_data.tar', 'r') as f:\n",
        "  f.extractall()"
      ],
      "execution_count": 4,
      "outputs": []
    },
    {
      "cell_type": "code",
      "metadata": {
        "id": "Q5g3aq5dgQrQ"
      },
      "source": [
        "#copy raw_data and metadata into pwd \n",
        "%cp -r /content/data_acquisition/* ."
      ],
      "execution_count": 6,
      "outputs": []
    },
    {
      "cell_type": "code",
      "metadata": {
        "colab": {
          "base_uri": "https://localhost:8080/"
        },
        "id": "KmEcuN7viCfJ",
        "outputId": "2cc93bab-133f-4908-a4ed-11b4cbc582d5"
      },
      "source": [
        "!ls"
      ],
      "execution_count": 7,
      "outputs": [
        {
          "output_type": "stream",
          "name": "stdout",
          "text": [
            "data_acquisition\t\t\t   ProgramData\n",
            "drive\t\t\t\t\t   programs.tar.gz\n",
            "juliet_dataset_CWE_ls.pkl\t\t   raw_data.tar\n",
            "juliet_dataset_CWE_testcases_paths_ls.pkl  sample_data\n",
            "juliet_dataset_ls.pkl\t\t\t   submissions_ls.pkl\n",
            "Juliet_Test_Suite_v1.3_for_C_Cpp.zip\t   submissions_tasks_ls.pkl\n"
          ]
        }
      ]
    },
    {
      "cell_type": "markdown",
      "metadata": {
        "id": "53jpRwH3_eN0"
      },
      "source": [
        "# 2.  DATA PREPROCESSING \n",
        "\n",
        "---\n"
      ]
    },
    {
      "cell_type": "markdown",
      "metadata": {
        "id": "KUqRViecEGSZ"
      },
      "source": [
        "##2.1 Clean Main Dataset:\n",
        "\n",
        "*   Remove Uncompilable Source Code (platform: colab(linux))\n",
        "*   Remove Non UTF8 decodable entries\n",
        "\n"
      ]
    },
    {
      "cell_type": "code",
      "metadata": {
        "colab": {
          "base_uri": "https://localhost:8080/"
        },
        "id": "tVBdjf1MTQu9",
        "outputId": "fe1dfdd6-eb18-4a43-adbd-782fdd392722"
      },
      "source": [
        "data_dir = '/content/ProgramData/'\n",
        "count_data_entries = 0\n",
        "for path, subdirs, files in os.walk(data_dir):\n",
        "    for name in files:\n",
        "      count_data_entries +=1\n",
        "print(\"{} files extracted from Programming Competition Submissions archive. \".format(count_data_entries))"
      ],
      "execution_count": null,
      "outputs": [
        {
          "output_type": "stream",
          "name": "stdout",
          "text": [
            "52000 files extracted from Programming Competition Submissions archive. \n"
          ]
        }
      ]
    },
    {
      "cell_type": "code",
      "metadata": {
        "id": "QDveBPVNWc9i"
      },
      "source": [
        "#Programming Competition Dataset Meta Data Variables   \n",
        "utf8_decodable_submisisons = []\n",
        "utf8_undecodable_submissions = []\n",
        "compiled_cpp_code = []\n",
        "compiled_c_code = []\n",
        "uncompilable_utf8_decodable_submissions = []"
      ],
      "execution_count": null,
      "outputs": []
    },
    {
      "cell_type": "markdown",
      "metadata": {
        "id": "m2De2t929KI2"
      },
      "source": [
        "> * Extract contents from .txt submissions, save c++ code in .cpp files, c code in .c files, and compile."
      ]
    },
    {
      "cell_type": "markdown",
      "metadata": {
        "id": "8E44YSxx1Pi0"
      },
      "source": [
        "###2.1.1 Exploration:"
      ]
    },
    {
      "cell_type": "code",
      "metadata": {
        "colab": {
          "base_uri": "https://localhost:8080/"
        },
        "id": "B1eILUFgOwW5",
        "outputId": "41b9b1d5-2964-4447-f466-c0ce8e713353"
      },
      "source": [
        "# Test extraction, conversion and compiling code with 10 samples   \n",
        "cpp_distinguishing_features = ['.cpp','cin','cout']\n",
        "for i in range(10):\n",
        "  with open(os.path.join('', submissions_ls[i]), 'r') as f:\n",
        "    try:\n",
        "      file_content = f.read()\n",
        "    except:\n",
        "       pass \n",
        "    if any(x in file_content for x in cpp_distinguishing_features):\n",
        "      new_cpp_filename = submissions_ls[i][:-4] + \".cpp\" \n",
        "      # the -4 for the \".txt\"\n",
        "      with open(os.path.join('', new_cpp_filename), 'w') as fp:\n",
        "        cppheader= '''\n",
        "        #include<iostream> \n",
        "        #include <math.h>\n",
        "        using namespace std;\n",
        "        '''\n",
        "        fp.write(cppheader)\n",
        "        fp.write(file_content)\n",
        "      subprocess.call([\"g++\", new_cpp_filename, \"-o\", submissions_ls[i][:-4] + '.cppout',\"-std=c++11\", '-w', '-Ofast'])\n",
        "      print(new_cpp_filename)\n",
        "\n",
        "    else:\n",
        "      new_c_filename = submissions_ls[i][:-4] + \".c\"\n",
        "      with open(os.path.join('', new_c_filename), 'w') as fp:\n",
        "        fp.write(file_content)\n",
        "      subprocess.call([\"gcc\", new_c_filename, \"-o\"+submissions_ls[i][:-4] + '.out',\"-std=c99\", '-w', '-Ofast'])\n",
        "      print(new_c_filename)\n",
        "\n"
      ],
      "execution_count": null,
      "outputs": [
        {
          "output_type": "stream",
          "name": "stdout",
          "text": [
            "ProgramData/1/397.cpp\n",
            "ProgramData/1/147.cpp\n",
            "ProgramData/1/131.cpp\n",
            "ProgramData/1/1076.c\n",
            "ProgramData/1/2272.cpp\n",
            "ProgramData/1/703.cpp\n",
            "ProgramData/1/2063.c\n",
            "ProgramData/1/1892.c\n",
            "ProgramData/1/889.cpp\n",
            "ProgramData/1/1342.cpp\n"
          ]
        }
      ]
    },
    {
      "cell_type": "code",
      "metadata": {
        "id": "3K3sE4OFW1RJ"
      },
      "source": [
        "#Exploration \n",
        "!ls ./ProgramData/1/"
      ],
      "execution_count": null,
      "outputs": []
    },
    {
      "cell_type": "code",
      "metadata": {
        "id": "jMmzyjg5MJHT",
        "colab": {
          "base_uri": "https://localhost:8080/"
        },
        "outputId": "86bc9abb-0fd9-4537-c197-dc95cfb53f14"
      },
      "source": [
        "#Extract convert and compile the rest of the submissions\n",
        "cpp_distinguishing_features = ['.cpp','cin','cout']\n",
        "print('Compiling the rest of the submitted code ...')\n",
        "for i in range(len(submissions_ls)):\n",
        "  with open(os.path.join('', submissions_ls[i]), 'r') as f:\n",
        "    try:\n",
        "      file_content = f.read()\n",
        "      utf8_decodable_submisisons.append(submissions_ls[i])\n",
        "    except:\n",
        "       utf8_undecodable_submissions.append(submissions_ls[i])\n",
        "    if any(x in file_content for x in cpp_distinguishing_features):\n",
        "      new_cpp_filename = submissions_ls[i][:-4] + \".cpp\"\n",
        "      with open(os.path.join('', new_cpp_filename), 'w') as fp:\n",
        "        cppheader= '''\n",
        "        #include<iostream> \n",
        "        #include <math.h>\n",
        "        using namespace std;\n",
        "        '''\n",
        "        fp.write(cppheader)\n",
        "        fp.write(file_content)\n",
        "      subprocess.call([\"g++\", new_cpp_filename, \"-o\", submissions_ls[i][:-4] + '.cppout',\"-std=c++11\", '-w', '-Ofast'])\n",
        "      compiled_cpp_code.append(new_cpp_filename)\n",
        "  \n",
        "\n",
        "    else:\n",
        "      new_c_filename = submissions_ls[i][:-4] + \".c\"\n",
        "      with open(os.path.join('', new_c_filename), 'w') as fp:\n",
        "        fp.write(file_content)\n",
        "      subprocess.call([\"gcc\", new_c_filename, \"-o\"+submissions_ls[i][:-4] + '.out',\"-std=c99\", '-w', '-Ofast'])\n",
        "      compiled_c_code.append(new_c_filename)\n",
        "print('...' )\n",
        "print('Code compilation completed')"
      ],
      "execution_count": null,
      "outputs": [
        {
          "output_type": "stream",
          "name": "stdout",
          "text": [
            "Compiling the rest of the submitted code ...\n",
            "...\n",
            "Code compilation completed\n"
          ]
        }
      ]
    },
    {
      "cell_type": "code",
      "metadata": {
        "id": "XKTMUCq22UdA"
      },
      "source": [
        "#Exploration\n",
        "!ls ./ProgramData/104"
      ],
      "execution_count": null,
      "outputs": []
    },
    {
      "cell_type": "code",
      "metadata": {
        "id": "tbkVCl95HVio",
        "colab": {
          "base_uri": "https://localhost:8080/"
        },
        "outputId": "67232f71-33c2-4151-c340-42005f3fe653"
      },
      "source": [
        "#Exploration\n",
        "!ls ./ProgramData/"
      ],
      "execution_count": null,
      "outputs": [
        {
          "output_type": "stream",
          "name": "stdout",
          "text": [
            "1    104  16  21  27  32  38  43  49  54  6   65  70  76  81  87  92  98\n",
            "10   11   17  22  28  33  39  44  5   55  60  66  71  77  82  88  93  99\n",
            "100  12   18  23  29  34  4   45  50  56  61  67  72  78  83  89  94\n",
            "101  13   19  24  3   35  40  46  51  57  62  68  73  79  84  9   95\n",
            "102  14   2   25  30  36  41  47  52  58  63  69  74  8   85  90  96\n",
            "103  15   20  26  31  37  42  48  53  59  64  7   75  80  86  91  97\n"
          ]
        }
      ]
    },
    {
      "cell_type": "code",
      "metadata": {
        "colab": {
          "base_uri": "https://localhost:8080/"
        },
        "id": "WBdyQCWYjIui",
        "outputId": "91235b63-d7ba-43ac-ccb4-1492cb7784af"
      },
      "source": [
        "#Exploration\n",
        "print(\"Overview of programming Competition dataset\")\n",
        "print(\"\\n Source code submissions {0}\".format(len(submissions_ls)))\n",
        "print(\"\\n Utf8 Decodable.txt files directories in dataset {0}\".format(len(utf8_decodable_submisisons)))\n",
        "print(\"\\n Utf8 Undecodable .txt files in dataset {0}\".format(len(utf8_undecodable_submissions)))\n",
        "print(\"\\n Compiled .cpp files in dataset {0}\".format(len(compiled_cpp_code)))\n",
        "print(\"\\n Compiled .c files in dataset {0}\".format(len(compiled_c_code)))\n",
        "print(\"\\n Uncompilable utf8 decodable files in dataset {0}\".format(len(uncompilable_utf8_decodable_submissions)))"
      ],
      "execution_count": null,
      "outputs": [
        {
          "output_type": "stream",
          "name": "stdout",
          "text": [
            "Overview of programming Competition dataset\n",
            "\n",
            " Source code submissions 52000\n",
            "\n",
            " Utf8 Decodable.txt files directories in dataset 51752\n",
            "\n",
            " Utf8 Undecodable .txt files in dataset 248\n",
            "\n",
            " Compiled .cpp files in dataset 15406\n",
            "\n",
            " Compiled .c files in dataset 36594\n",
            "\n",
            " Uncompilable utf8 decodable files in dataset 0\n"
          ]
        }
      ]
    },
    {
      "cell_type": "code",
      "metadata": {
        "colab": {
          "base_uri": "https://localhost:8080/"
        },
        "id": "RfgaSf4yb-Ql",
        "outputId": "a8a59171-e8ac-4475-8850-e55b0433b6c2"
      },
      "source": [
        "print('Number of Compiled C code files and visual of List')\n",
        "print(len(compiled_c_code))"
      ],
      "execution_count": null,
      "outputs": [
        {
          "output_type": "stream",
          "name": "stdout",
          "text": [
            "Number of Compiled C code files and visual of List\n",
            "36594\n"
          ]
        }
      ]
    },
    {
      "cell_type": "code",
      "metadata": {
        "id": "xipns3ZAGUGB"
      },
      "source": [
        "#Exploration\n",
        "print(compiled_c_code)"
      ],
      "execution_count": null,
      "outputs": []
    },
    {
      "cell_type": "code",
      "metadata": {
        "colab": {
          "base_uri": "https://localhost:8080/"
        },
        "id": "YzzJpjeT8tJP",
        "outputId": "9d77653a-2166-4e9e-8391-d56190994407"
      },
      "source": [
        "print('Number of Compiled C++ code files and visual of List')\n",
        "print(len(compiled_cpp_code))"
      ],
      "execution_count": null,
      "outputs": [
        {
          "output_type": "stream",
          "name": "stdout",
          "text": [
            "Number of Compiled C++ code files and visual of List\n",
            "15406\n"
          ]
        }
      ]
    },
    {
      "cell_type": "code",
      "metadata": {
        "id": "c39RG9L6GZvo"
      },
      "source": [
        "print(compiled_cpp_code)"
      ],
      "execution_count": null,
      "outputs": []
    },
    {
      "cell_type": "markdown",
      "metadata": {
        "id": "qmV_gbNzGxAU"
      },
      "source": [
        "\n",
        "> *  Pickle Programming Competition Dataset metadata for later use"
      ]
    },
    {
      "cell_type": "code",
      "metadata": {
        "id": "gSaPQCMa8mQK"
      },
      "source": [
        "with open('submissions_ls.pkl', 'wb') as fp:\n",
        "  pickle.dump(submissions_ls, fp)"
      ],
      "execution_count": null,
      "outputs": []
    },
    {
      "cell_type": "code",
      "metadata": {
        "id": "GGUMh5PrCeJc"
      },
      "source": [
        "with open('decodable_submisisons_ls.pkl', 'wb') as fp:\n",
        "  pickle.dump (utf8_decodable_submisisons, fp)"
      ],
      "execution_count": null,
      "outputs": []
    },
    {
      "cell_type": "code",
      "metadata": {
        "id": "8n8AFtdXf_ao"
      },
      "source": [
        "with open('undecodable_submisisons_ls.pkl', 'wb') as fp:\n",
        "  pickle.dump (utf8_undecodable_submissions, fp)"
      ],
      "execution_count": null,
      "outputs": []
    },
    {
      "cell_type": "code",
      "metadata": {
        "id": "eDtj8-ppbFtt"
      },
      "source": [
        "with open('cpp_compiled_ls.pkl', 'wb') as fp:\n",
        "  pickle.dump (compiled_cpp_code, fp)"
      ],
      "execution_count": null,
      "outputs": []
    },
    {
      "cell_type": "code",
      "metadata": {
        "id": "v38aTlxLcEyH"
      },
      "source": [
        "with open('c_compiled_ls.pkl', 'wb') as fp:\n",
        "  pickle.dump (compiled_c_code, fp)"
      ],
      "execution_count": null,
      "outputs": []
    },
    {
      "cell_type": "markdown",
      "metadata": {
        "id": "tU0m1vZ9FWLJ"
      },
      "source": [
        "##2.2 Clean New Dataset:\n",
        "\n",
        "*   Remove Uncompilable Source Code (platform: colab(linux))"
      ]
    },
    {
      "cell_type": "markdown",
      "metadata": {
        "id": "kQI49d-pymsC"
      },
      "source": [
        "> *   Extract files from Juliet C/C++ test suite "
      ]
    },
    {
      "cell_type": "code",
      "metadata": {
        "colab": {
          "base_uri": "https://localhost:8080/"
        },
        "id": "AQ3ngQNAA2y3",
        "outputId": "b8d25f89-1025-43f8-f425-c4e3ddb45fee"
      },
      "source": [
        "with zipfile.ZipFile('Juliet_Test_Suite_v1.3_for_C_Cpp.zip', 'r') as juliet_dataset:\n",
        "   juliet_dataset.extractall()\n",
        "   print('Done Extracting dataset')"
      ],
      "execution_count": null,
      "outputs": [
        {
          "output_type": "stream",
          "name": "stdout",
          "text": [
            "Done Extracting dataset\n"
          ]
        }
      ]
    },
    {
      "cell_type": "code",
      "metadata": {
        "colab": {
          "base_uri": "https://localhost:8080/"
        },
        "id": "YyVgRWo8lUXk",
        "outputId": "db1b6e6e-a3b1-42e5-ee77-d0a2f71ab973"
      },
      "source": [
        "#View of extracted Juliet_dataset directory\n",
        "!ls /content/C"
      ],
      "execution_count": null,
      "outputs": [
        {
          "output_type": "stream",
          "name": "stdout",
          "text": [
            "compile_all.bat\t\t py_common.py\n",
            "create_per_cwe_files.py  run_analysis_example_tool.py\n",
            "doc\t\t\t testcases\n",
            "Makefile\t\t testcasesupport\n",
            "manifest.xml\t\t update_main_cpp_and_testcases_h.py\n"
          ]
        }
      ]
    },
    {
      "cell_type": "code",
      "metadata": {
        "colab": {
          "base_uri": "https://localhost:8080/"
        },
        "id": "EK5ARGlZzvEJ",
        "outputId": "b25ce8cc-ba9e-402c-ab25-20683e984642"
      },
      "source": [
        "#Check number of code files i.e. size of dataset\n",
        "juliet_code_files_dir = '/content/C/testcases/'\n",
        "test_file_counter = 0\n",
        "for path, subdirs, files in os.walk(juliet_code_files_dir):\n",
        "    for name in files:\n",
        "      test_file_counter +=1\n",
        "print(\"{} files in unzipped Juliet archive. Matches our earlier metadata overview with zipFILE module of 106075 source code files\".format(test_file_counter))"
      ],
      "execution_count": null,
      "outputs": [
        {
          "output_type": "stream",
          "name": "stdout",
          "text": [
            "106075 files in unzipped Juliet archive. Matches our earlier metadata overview with zipFILE module of 106075 source code files\n"
          ]
        }
      ]
    },
    {
      "cell_type": "code",
      "metadata": {
        "id": "Mq_UCR3lfOXm",
        "colab": {
          "base_uri": "https://localhost:8080/"
        },
        "outputId": "2d3278f1-0015-4991-d4db-bd65578cad96"
      },
      "source": [
        "#Compilating CWE IDed compilable/makeFile-containing CWE IDed directories \n",
        "CWE_makefile_dir = []\n",
        "cwd = os.getcwd()\n",
        "print(\"Compiling ...\")\n",
        "for i in range(len(juliet_dataset_ls)):\n",
        "  if juliet_dataset_ls[i].endswith('Makefile') and 'CWE' in juliet_dataset_ls[i]:\n",
        "    CWE_makefile_dir.append(juliet_dataset_ls[i])\n",
        "    redx = re.findall(r'\\bCWE\\w.*', juliet_dataset_ls[i])\n",
        "    os.chdir(os.path.dirname(juliet_dataset_ls[i])) \n",
        "    print(redx[0][:-8]) \n",
        "    #Minus 8 for the length of the word Makefile leading to Makefile containing directories which are the only linux compilables\n",
        "    with open(os.path.join(cwd, os.path.dirname(juliet_dataset_ls[i]),'compilation.log'), 'w') as lg:\n",
        "      subprocess.run([\"make\", \"stdout=lg\"])\n",
        "    os.chdir(cwd)\n",
        "\n",
        "#152 individual CWE IDed dir with Makefiles\n",
        "print(\"Compilated all {} Makefile containing CWE IDed directories\".format(len(CWE_makefile_dir)))\n",
        "print('\\n')"
      ],
      "execution_count": null,
      "outputs": [
        {
          "output_type": "stream",
          "name": "stdout",
          "text": [
            "Compiling ...\n",
            "CWE789_Uncontrolled_Mem_Alloc/s01/\n",
            "CWE789_Uncontrolled_Mem_Alloc/s02/\n",
            "CWE484_Omitted_Break_Statement_in_Switch/\n",
            "CWE194_Unexpected_Sign_Extension/s01/\n",
            "CWE194_Unexpected_Sign_Extension/s02/\n",
            "CWE563_Unused_Variable/\n",
            "CWE588_Attempt_to_Access_Child_of_Non_Structure_Pointer/\n",
            "CWE78_OS_Command_Injection/s03/\n",
            "CWE78_OS_Command_Injection/s01/\n",
            "CWE78_OS_Command_Injection/s04/\n",
            "CWE78_OS_Command_Injection/s02/\n",
            "CWE390_Error_Without_Action/\n",
            "CWE364_Signal_Handler_Race_Condition/\n",
            "CWE188_Reliance_on_Data_Memory_Layout/\n",
            "CWE127_Buffer_Underread/s03/\n",
            "CWE127_Buffer_Underread/s01/\n",
            "CWE127_Buffer_Underread/s02/\n",
            "CWE775_Missing_Release_of_File_Descriptor_or_Handle/\n",
            "CWE667_Improper_Locking/\n",
            "CWE843_Type_Confusion/\n",
            "CWE587_Assignment_of_Fixed_Address_to_Pointer/\n",
            "CWE480_Use_of_Incorrect_Operator/\n",
            "CWE762_Mismatched_Memory_Management_Routines/s03/\n",
            "CWE762_Mismatched_Memory_Management_Routines/s07/\n",
            "CWE762_Mismatched_Memory_Management_Routines/s01/\n",
            "CWE762_Mismatched_Memory_Management_Routines/s05/\n",
            "CWE762_Mismatched_Memory_Management_Routines/s04/\n",
            "CWE762_Mismatched_Memory_Management_Routines/s06/\n",
            "CWE762_Mismatched_Memory_Management_Routines/s02/\n",
            "CWE400_Resource_Exhaustion/s01/\n",
            "CWE400_Resource_Exhaustion/s02/\n",
            "CWE252_Unchecked_Return_Value/\n",
            "CWE479_Signal_Handler_Use_of_Non_Reentrant_Function/\n",
            "CWE676_Use_of_Potentially_Dangerous_Function/\n",
            "CWE459_Incomplete_Cleanup/\n",
            "CWE377_Insecure_Temporary_File/\n",
            "CWE690_NULL_Deref_From_Return/s01/\n",
            "CWE690_NULL_Deref_From_Return/s02/\n",
            "CWE590_Free_Memory_Not_on_Heap/s03/\n",
            "CWE590_Free_Memory_Not_on_Heap/s01/\n",
            "CWE590_Free_Memory_Not_on_Heap/s05/\n",
            "CWE590_Free_Memory_Not_on_Heap/s04/\n",
            "CWE590_Free_Memory_Not_on_Heap/s02/\n",
            "CWE191_Integer_Underflow/s03/\n",
            "CWE191_Integer_Underflow/s01/\n",
            "CWE191_Integer_Underflow/s05/\n",
            "CWE191_Integer_Underflow/s04/\n",
            "CWE191_Integer_Underflow/s02/\n",
            "CWE190_Integer_Overflow/s03/\n",
            "CWE190_Integer_Overflow/s07/\n",
            "CWE190_Integer_Overflow/s01/\n",
            "CWE190_Integer_Overflow/s05/\n",
            "CWE190_Integer_Overflow/s04/\n",
            "CWE190_Integer_Overflow/s06/\n",
            "CWE190_Integer_Overflow/s02/\n",
            "CWE835_Infinite_Loop/\n",
            "CWE672_Operation_on_Resource_After_Expiration_or_Release/\n",
            "CWE440_Expected_Behavior_Violation/\n",
            "CWE681_Incorrect_Conversion_Between_Numeric_Types/\n",
            "CWE561_Dead_Code/\n",
            "CWE122_Heap_Based_Buffer_Overflow/s03/\n",
            "CWE122_Heap_Based_Buffer_Overflow/s10/\n",
            "CWE122_Heap_Based_Buffer_Overflow/s09/\n",
            "CWE122_Heap_Based_Buffer_Overflow/s07/\n",
            "CWE122_Heap_Based_Buffer_Overflow/s01/\n",
            "CWE122_Heap_Based_Buffer_Overflow/s05/\n",
            "CWE122_Heap_Based_Buffer_Overflow/s04/\n",
            "CWE122_Heap_Based_Buffer_Overflow/s08/\n",
            "CWE122_Heap_Based_Buffer_Overflow/s06/\n",
            "CWE122_Heap_Based_Buffer_Overflow/s02/\n",
            "CWE122_Heap_Based_Buffer_Overflow/s11/\n",
            "CWE482_Comparing_Instead_of_Assigning/\n",
            "CWE123_Write_What_Where_Condition/\n",
            "CWE481_Assigning_Instead_of_Comparing/\n",
            "CWE426_Untrusted_Search_Path/\n",
            "CWE468_Incorrect_Pointer_Scaling/\n",
            "CWE475_Undefined_Behavior_for_Input_to_API/\n",
            "CWE571_Expression_Always_True/\n",
            "CWE197_Numeric_Truncation_Error/s01/\n",
            "CWE197_Numeric_Truncation_Error/s02/\n",
            "CWE391_Unchecked_Error_Condition/\n",
            "CWE464_Addition_of_Data_Structure_Sentinel/\n",
            "CWE196_Unsigned_to_Signed_Conversion_Error/\n",
            "CWE469_Use_of_Pointer_Subtraction_to_Determine_Size/\n",
            "CWE476_NULL_Pointer_Dereference/\n",
            "CWE195_Signed_to_Unsigned_Conversion_Error/s01/\n",
            "CWE195_Signed_to_Unsigned_Conversion_Error/s02/\n",
            "CWE467_Use_of_sizeof_on_Pointer_Type/\n",
            "CWE511_Logic_Time_Bomb/\n",
            "CWE124_Buffer_Underwrite/s03/\n",
            "CWE124_Buffer_Underwrite/s01/\n",
            "CWE124_Buffer_Underwrite/s02/\n",
            "CWE680_Integer_Overflow_to_Buffer_Overflow/\n",
            "CWE396_Catch_Generic_Exception/\n",
            "CWE397_Throw_Generic_Exception/\n",
            "CWE36_Absolute_Path_Traversal/s01/\n",
            "CWE36_Absolute_Path_Traversal/s02/\n",
            "CWE606_Unchecked_Loop_Condition/\n",
            "CWE416_Use_After_Free/\n",
            "CWE483_Incorrect_Block_Delimitation/\n",
            "CWE134_Uncontrolled_Format_String/s03/\n",
            "CWE134_Uncontrolled_Format_String/s01/\n",
            "CWE134_Uncontrolled_Format_String/s02/\n",
            "CWE415_Double_Free/s01/\n",
            "CWE415_Double_Free/s02/\n",
            "CWE562_Return_of_Stack_Variable_Address/\n",
            "CWE427_Uncontrolled_Search_Path_Element/\n",
            "CWE404_Improper_Resource_Shutdown/\n",
            "CWE500_Public_Static_Field_Not_Final/\n",
            "CWE546_Suspicious_Comment/\n",
            "CWE242_Use_of_Inherently_Dangerous_Function/\n",
            "CWE506_Embedded_Malicious_Code/\n",
            "CWE510_Trapdoor/\n",
            "CWE398_Poor_Code_Quality/\n",
            "CWE367_TOC_TOU/\n",
            "CWE526_Info_Exposure_Environment_Variables/\n",
            "CWE773_Missing_Reference_to_Active_File_Descriptor_or_Handle/\n",
            "CWE23_Relative_Path_Traversal/s01/\n",
            "CWE23_Relative_Path_Traversal/s02/\n",
            "CWE605_Multiple_Binds_Same_Port/\n",
            "CWE685_Function_Call_With_Incorrect_Number_of_Arguments/\n",
            "CWE570_Expression_Always_False/\n",
            "CWE832_Unlock_of_Resource_That_is_Not_Locked/\n",
            "CWE401_Memory_Leak/s03/\n",
            "CWE401_Memory_Leak/s01/\n",
            "CWE401_Memory_Leak/s02/\n",
            "CWE457_Use_of_Uninitialized_Variable/s01/\n",
            "CWE457_Use_of_Uninitialized_Variable/s02/\n",
            "CWE126_Buffer_Overread/s01/\n",
            "CWE126_Buffer_Overread/s02/\n",
            "CWE121_Stack_Based_Buffer_Overflow/s03/\n",
            "CWE121_Stack_Based_Buffer_Overflow/s09/\n",
            "CWE121_Stack_Based_Buffer_Overflow/s07/\n",
            "CWE121_Stack_Based_Buffer_Overflow/s01/\n",
            "CWE121_Stack_Based_Buffer_Overflow/s05/\n",
            "CWE121_Stack_Based_Buffer_Overflow/s04/\n",
            "CWE121_Stack_Based_Buffer_Overflow/s08/\n",
            "CWE121_Stack_Based_Buffer_Overflow/s06/\n",
            "CWE121_Stack_Based_Buffer_Overflow/s02/\n",
            "CWE666_Operation_on_Resource_in_Wrong_Phase_of_Lifetime/\n",
            "CWE675_Duplicate_Operations_on_Resource/\n",
            "CWE253_Incorrect_Check_of_Function_Return_Value/\n",
            "CWE688_Function_Call_With_Incorrect_Variable_or_Reference_as_Argument/\n",
            "CWE366_Race_Condition_Within_Thread/\n",
            "CWE617_Reachable_Assertion/\n",
            "CWE369_Divide_by_Zero/s01/\n",
            "CWE369_Divide_by_Zero/s02/\n",
            "CWE674_Uncontrolled_Recursion/\n",
            "CWE758_Undefined_Behavior/\n",
            "CWE478_Missing_Default_Case_in_Switch/\n",
            "CWE761_Free_Pointer_Not_at_Start_of_Buffer/\n",
            "CWE665_Improper_Initialization/\n",
            "Compilated all 152 Makefile containing CWE IDed directories\n",
            "\n",
            "\n"
          ]
        }
      ]
    },
    {
      "cell_type": "code",
      "metadata": {
        "id": "45ppw5ewm-lu",
        "colab": {
          "base_uri": "https://localhost:8080/"
        },
        "outputId": "71d2d54f-214a-4b89-bc31-93f96e279db3"
      },
      "source": [
        "#Create list of all compiled juliet code along with c and cpp compiled code for easy parsing with appropriate tools\n",
        "\n",
        "compilable_juliet_code = []\n",
        "compilable_juliet_c_code = []\n",
        "compilable_juliet_cpp_code = []\n",
        "paths = Path('./C/testcases').glob('**/*.o')\n",
        "for path in paths:\n",
        "  if re.search(r'CWE',str(path.name)):\n",
        "    #.name to make sure the last part of the name i.e. before the suffix is verified\n",
        "    compilable_juliet_code.append(str(path))\n",
        "    if Path(str(path)[:-2]+'.c').exists():\n",
        "      #Back to Path allows you to use the .exists atribute, while str allows -2 for \".o\" and + operator for +'.c'\n",
        "      compilable_juliet_c_code.append(str(path)[:-2]+'.c')\n",
        "    if Path(str(path)[:-2]+'.cpp').exists():\n",
        "      compilable_juliet_cpp_code.append(str(path)[:-2]+'.cpp')\n",
        " \n",
        "  # str because path is an object not string\n",
        "print(\"Total of {} compilable code:\".format(len(compilable_juliet_code)))\n",
        "print(compilable_juliet_code[0])\n",
        "print(\"\\n{} of the compilable Juliet code is C:\".format(len(compilable_juliet_c_code)))\n",
        "print(compilable_juliet_c_code[0])\n",
        "print(\"\\n{} of the compilable Juliet code is C++:\".format(len(compilable_juliet_cpp_code)))\n",
        "print(compilable_juliet_cpp_code[0])\n",
        "print('\\n35551 + 30441 = {} matching the total compilable code in the Juliet dataset'.format(35551 + 30441))\n",
        "print('\\n')"
      ],
      "execution_count": null,
      "outputs": [
        {
          "output_type": "stream",
          "name": "stdout",
          "text": [
            "Total of 65992 compilable code:\n",
            "C/testcases/CWE563_Unused_Variable/CWE563_Unused_Variable__unused_value_long_82_goodG2B.o\n",
            "\n",
            "35551 of the compilable Juliet code is C:\n",
            "C/testcases/CWE563_Unused_Variable/CWE563_Unused_Variable__unused_init_variable_long_05.c\n",
            "\n",
            "30441 of the compilable Juliet code is C++:\n",
            "C/testcases/CWE563_Unused_Variable/CWE563_Unused_Variable__unused_value_long_82_goodG2B.cpp\n",
            "\n",
            "35551 + 30441 = 65992 matching the total compilable code in the Juliet dataset\n",
            "\n",
            "\n"
          ]
        }
      ]
    },
    {
      "cell_type": "markdown",
      "metadata": {
        "id": "sAS1daflGQqZ"
      },
      "source": [
        "###2.2.1 Exploration:"
      ]
    },
    {
      "cell_type": "code",
      "metadata": {
        "colab": {
          "base_uri": "https://localhost:8080/"
        },
        "id": "IWfXLh_QPsX5",
        "outputId": "f244e91c-61ec-41bf-d2a2-593ccb9d11cb"
      },
      "source": [
        "print('Number of labels/CWE IDed Makefiles is {}'.format(len(CWE_makefile_dir)))\n",
        "print('CWE IDed Makefiles is :')"
      ],
      "execution_count": null,
      "outputs": [
        {
          "output_type": "stream",
          "name": "stdout",
          "text": [
            "Number of labels/CWE IDed Makefiles is 152\n",
            "CWE IDed Makefiles is :\n"
          ]
        }
      ]
    },
    {
      "cell_type": "code",
      "metadata": {
        "id": "Gt5PiOlOfZFA"
      },
      "source": [
        "print(CWE_makefile_dir)"
      ],
      "execution_count": null,
      "outputs": []
    },
    {
      "cell_type": "code",
      "metadata": {
        "id": "MmB_ODR-L2cW"
      },
      "source": [
        "#Get juliet list from file back into python variable for further processing \n",
        "juliet_dataset_ls = load_data('juliet_dataset_ls.pkl')"
      ],
      "execution_count": null,
      "outputs": []
    },
    {
      "cell_type": "code",
      "metadata": {
        "id": "ZGqelbj38mip"
      },
      "source": [
        "with open('compilable_juliet_code_ls.pkl', 'wb') as fp:\n",
        "  pickle.dump (compilable_juliet_code, fp)"
      ],
      "execution_count": null,
      "outputs": []
    },
    {
      "cell_type": "code",
      "metadata": {
        "id": "WW_WxjCS8noT"
      },
      "source": [
        "with open('compilable_juliet_c_code_ls.pkl', 'wb') as fp:\n",
        "  pickle.dump (compilable_juliet_c_code, fp)"
      ],
      "execution_count": null,
      "outputs": []
    },
    {
      "cell_type": "code",
      "metadata": {
        "id": "kAwumtSN8q-b"
      },
      "source": [
        "with open('compilable_juliet_cpp_code_ls.pkl', 'wb') as fp:\n",
        "  pickle.dump (compilable_juliet_cpp_code, fp)"
      ],
      "execution_count": null,
      "outputs": []
    },
    {
      "cell_type": "code",
      "metadata": {
        "id": "AtqjMdysQv0s"
      },
      "source": [
        "with open('CWE_makefile_dir_ls.pkl', 'wb') as fp:\n",
        "  pickle.dump (CWE_makefile_dir, fp)"
      ],
      "execution_count": null,
      "outputs": []
    },
    {
      "cell_type": "markdown",
      "metadata": {
        "id": "MZBZ6U2bHWnw"
      },
      "source": [
        "# 3.  PREPROCESS SERIALIZE & STORE DATA \n",
        "---\n",
        ">  *  Use pycparser to extract ASTs from C code"
      ]
    },
    {
      "cell_type": "markdown",
      "metadata": {
        "id": "m5wAvsdurKR9"
      },
      "source": [
        "##3.0 Clone Pycparser Repository to ease access to its fake headers and c_json functions \n"
      ]
    },
    {
      "cell_type": "code",
      "metadata": {
        "colab": {
          "base_uri": "https://localhost:8080/"
        },
        "id": "9e7BExc--8DM",
        "outputId": "ea0296a9-8ba1-44d6-9082-8b07de7a817c"
      },
      "source": [
        "!pip list -v | grep [Pp]ycparser"
      ],
      "execution_count": null,
      "outputs": [
        {
          "output_type": "stream",
          "name": "stdout",
          "text": [
            "pycparser                     2.21           /usr/local/lib/python3.7/dist-packages pip\n"
          ]
        }
      ]
    },
    {
      "cell_type": "code",
      "metadata": {
        "id": "diyfK7O6BMqG"
      },
      "source": [
        "#see the files in a package \n",
        "!pip3 show -f pycparser"
      ],
      "execution_count": null,
      "outputs": []
    },
    {
      "cell_type": "code",
      "metadata": {
        "id": "JEu8vaw0rruO",
        "colab": {
          "base_uri": "https://localhost:8080/"
        },
        "outputId": "76ff39e1-8d23-4298-9a0f-cc76d62217f2"
      },
      "source": [
        "#Clone pycparser Repository  \n",
        "!git clone  https://github.com/eliben/pycparser.git "
      ],
      "execution_count": null,
      "outputs": [
        {
          "output_type": "stream",
          "name": "stdout",
          "text": [
            "Cloning into 'pycparser'...\n",
            "remote: Enumerating objects: 2838, done.\u001b[K\n",
            "remote: Counting objects: 100% (348/348), done.\u001b[K\n",
            "remote: Compressing objects: 100% (253/253), done.\u001b[K\n",
            "remote: Total 2838 (delta 221), reused 165 (delta 82), pack-reused 2490\u001b[K\n",
            "Receiving objects: 100% (2838/2838), 1.24 MiB | 15.09 MiB/s, done.\n",
            "Resolving deltas: 100% (1898/1898), done.\n"
          ]
        }
      ]
    },
    {
      "cell_type": "code",
      "metadata": {
        "colab": {
          "base_uri": "https://localhost:8080/"
        },
        "id": "acFezdKg5wuQ",
        "outputId": "12f1b9fc-edbf-4e89-c520-57c7eccb952f"
      },
      "source": [
        "!ls ./pycparser/examples/"
      ],
      "execution_count": null,
      "outputs": [
        {
          "output_type": "stream",
          "name": "stdout",
          "text": [
            "cdecl.py   dump_ast.py\t\t   func_defs.py    serialize_ast.py\n",
            "c_files    explore_ast.py\t   __pycache__\t   using_cpp_libc.py\n",
            "c_json.py  func_calls.py\t   README.rst\t   using_gcc_E_libc.py\n",
            "c-to-c.py  func_defs_add_param.py  rewrite_ast.py\n"
          ]
        }
      ]
    },
    {
      "cell_type": "code",
      "metadata": {
        "id": "w4hnJ2NHt6f6"
      },
      "source": [
        "root = os.getcwd()\n",
        "sys.path.append(root + \"/pycparser/examples/\")\n",
        "from c_json import to_dict, file_to_dict, file_to_json"
      ],
      "execution_count": null,
      "outputs": []
    },
    {
      "cell_type": "markdown",
      "metadata": {
        "id": "FiDTjDKkG-Vw"
      },
      "source": [
        "##3.1 Serialize Main Dataset :\n",
        "Pedagogical Programming Open Judge (OJ) system C/C++ Programming Competition Data\n"
      ]
    },
    {
      "cell_type": "code",
      "metadata": {
        "colab": {
          "base_uri": "https://localhost:8080/"
        },
        "id": "GVEVP5a_XF11",
        "outputId": "34a700ce-0ddf-4683-f888-71d6c20081b2"
      },
      "source": [
        "#Preprocessing Programming Competition Dataset for pycparser into *_pp.c\n",
        "preprocessed_main_dataset_ls = []\n",
        "print('Preprocessing main dataset Compilable c code into *_pp.c for pycparsing ...')\n",
        "for i in range(len(c_compiled_ls)):\n",
        "  input_flags = ['-nostdinc', '-E', '-Ipycparser/utils/fake_libc_include', c_compiled_ls[i]]\n",
        "  my_cmd = ['gcc'] + input_flags\n",
        "  pp_filename = c_compiled_ls[i][:-2] + '_pp.c'\n",
        "  with open(os.path.join('',pp_filename ), 'w') as outfile:\n",
        "    subprocess.run(my_cmd, stdout= outfile)\n",
        "  preprocessed_main_dataset_ls.append(pp_filename)\n",
        "print('...' )\n",
        "print('Code preprocessing complete')"
      ],
      "execution_count": null,
      "outputs": [
        {
          "output_type": "stream",
          "name": "stdout",
          "text": [
            "Preprocessing main dataset Compilable c code into *_pp.c for pycparsing ...\n",
            "...\n",
            "Code preprocessing complete\n"
          ]
        }
      ]
    },
    {
      "cell_type": "code",
      "metadata": {
        "id": "PKMRxm6deyc7"
      },
      "source": [
        "#Parse preprocessed Programming Competition main dataset with Pycparser, and store as file_path, ast-dicts and json AST_tuples  \n",
        "main_dataset_json_asts_tup_ls = []\n",
        "for i in range(len(preprocessed_main_dataset_ls)):\n",
        "  data_file_path = preprocessed_main_dataset_ls[i]\n",
        "  ast_dict = file_to_dict(data_file_path)\n",
        "  ast_json = file_to_json(data_file_path)\n",
        "  main_dataset_json_asts_tup_ls.append((data_file_path, ast_dict, ast_json)) "
      ],
      "execution_count": null,
      "outputs": []
    },
    {
      "cell_type": "code",
      "metadata": {
        "colab": {
          "base_uri": "https://localhost:8080/"
        },
        "id": "Kvzqb1E3kciH",
        "outputId": "eab114f8-de07-4887-dbda-2714195e0397"
      },
      "source": [
        "print(len(main_dataset_json_asts_tup_ls))"
      ],
      "execution_count": null,
      "outputs": [
        {
          "output_type": "stream",
          "name": "stdout",
          "text": [
            "36594\n"
          ]
        }
      ]
    },
    {
      "cell_type": "code",
      "metadata": {
        "id": "KBg6yaWkzJjk"
      },
      "source": [
        "#Explore\n",
        "main_dataset_json_asts_tup_ls[0:1]"
      ],
      "execution_count": null,
      "outputs": []
    },
    {
      "cell_type": "code",
      "metadata": {
        "id": "hNI9DrwC0Q8E"
      },
      "source": [
        "with open('data_ast__path_dict_json__tup_ls.pkl', 'wb') as fp:\n",
        "  pickle.dump (main_dataset_json_asts_tup_ls, fp)"
      ],
      "execution_count": null,
      "outputs": []
    },
    {
      "cell_type": "code",
      "metadata": {
        "id": "_u_GNdiY4g5i"
      },
      "source": [
        "#create dir to store preprocessed_main_data AST tuples for archiving\n",
        "!mkdir data_path_ast_dicts_jsons_tups_ls"
      ],
      "execution_count": null,
      "outputs": []
    },
    {
      "cell_type": "code",
      "metadata": {
        "id": "dR-1nOUw5Jmz"
      },
      "source": [
        "%cp -r data_ast__path_dict_json__tup_ls.pkl data_path_ast_dicts_jsons_tups_ls/"
      ],
      "execution_count": null,
      "outputs": []
    },
    {
      "cell_type": "code",
      "metadata": {
        "colab": {
          "base_uri": "https://localhost:8080/",
          "height": 35
        },
        "id": "g79vNWJy6B2n",
        "outputId": "63927f5f-df1d-4e9a-cef4-3d602f556aac"
      },
      "source": [
        "shutil.make_archive('preprocessed_main_data','tar','/content/','data_path_ast_dicts_jsons_tups_ls')"
      ],
      "execution_count": null,
      "outputs": [
        {
          "output_type": "execute_result",
          "data": {
            "application/vnd.google.colaboratory.intrinsic+json": {
              "type": "string"
            },
            "text/plain": [
              "'/content/preprocessed_main_data.tar'"
            ]
          },
          "metadata": {},
          "execution_count": 39
        }
      ]
    },
    {
      "cell_type": "code",
      "metadata": {
        "id": "Zik1YhCm6rH5"
      },
      "source": [
        "!cp preprocessed_main_data.tar \"/content/drive/My Drive/colab_root/compchem-compsci-shared-rep/interim/\""
      ],
      "execution_count": null,
      "outputs": []
    },
    {
      "cell_type": "markdown",
      "metadata": {
        "id": "vpIaMrolO6OB"
      },
      "source": [
        "##3.2 Serialize New Dataset :\n",
        "National Institute of Standards and Technology(NIST)'s Software Assurance Reference Dataset (SARD)--Juliet C/C++ test suite.\n"
      ]
    },
    {
      "cell_type": "code",
      "metadata": {
        "colab": {
          "base_uri": "https://localhost:8080/"
        },
        "id": "UNPHFeEf46Lu",
        "outputId": "79ec9e45-3522-434f-b943-baba6be310c1"
      },
      "source": [
        "#Preprocessing the NIST (SARD)--Juliet C/C++ test suite data for pycparser into *_pp.c\n",
        "gcc_preprocessed_nist_juliet_dataset_ls = []\n",
        "print('Preprocessing new dataset Compilable c code into *_pp.c for pycparsing ...')\n",
        "for i in range(len(compilable_juliet_c_code_ls)):\n",
        "  input_flags = ['-nostdinc', '-E', '-IC/testcasesupport/', '-Ipycparser/utils/fake_libc_include', compilable_juliet_c_code_ls[i]]\n",
        "  my_cmd = ['gcc'] + input_flags\n",
        "  pp_filename = compilable_juliet_c_code_ls[i][:-2] + '_pp.c'\n",
        "  with open(os.path.join('',pp_filename ), 'w') as outfile:\n",
        "    subprocess.run(my_cmd, stdout= outfile)\n",
        "  gcc_preprocessed_nist_juliet_dataset_ls.append(pp_filename)\n",
        "print('...' )\n",
        "print('Code preprocessing complete')"
      ],
      "execution_count": null,
      "outputs": [
        {
          "output_type": "stream",
          "name": "stdout",
          "text": [
            "Preprocessing new dataset Compilable c code into *_pp.c for pycparsing ...\n",
            "...\n",
            "Code preprocessing complete\n"
          ]
        }
      ]
    },
    {
      "cell_type": "markdown",
      "metadata": {
        "id": "gxXF91rdOd0z"
      },
      "source": [
        "For effective RAM use we split NIST dataset into mini-batches of 10K each:\n",
        "\n",
        "\n",
        "1.   mini-batch 1 (juliet_dataset__path_ast_json_1__tup_ls):(0,10000)\n",
        "2.   mini-batch 2 (juliet_dataset__path_ast_json_2__tup_ls):(10000, 20000)\n",
        "3.   mini-batch 3 ((juliet_dataset__path_ast_json_3__tup_ls):(20000, 30000)\n",
        "4.   mini-batch 4 ((juliet_dataset__path_ast_json_4__tup_ls):(30,000, len(gcc_preprocessed_nist_juliet_dataset_ls))\n",
        "\n",
        "\n",
        "\n"
      ]
    },
    {
      "cell_type": "code",
      "metadata": {
        "id": "TVGoO9hOF_Cu"
      },
      "source": [
        "#Parse 4th and last mini-batch of preprocessed NIST (SARD)--Juliet C/C++ test suite data wit Pycparser and stored as file_path, ast_dicts, and json ASTs tuples \n",
        "juliet_dataset__path_ast_json_4__tup_ls = []\n",
        "for i in range(30000, len(gcc_preprocessed_nist_juliet_dataset_ls)):\n",
        "  data_file_path = gcc_preprocessed_nist_juliet_dataset_ls[i]\n",
        "  ast_dict = file_to_dict(data_file_path)\n",
        "  ast_json = file_to_json(data_file_path)\n",
        "  juliet_dataset__path_ast_json_4__tup_ls.append((data_file_path, ast_dict, ast_json)) "
      ],
      "execution_count": null,
      "outputs": []
    },
    {
      "cell_type": "code",
      "metadata": {
        "id": "XaxNmcCcIaiy"
      },
      "source": [
        "juliet_dataset__path_ast_json_4__tup_ls[0]"
      ],
      "execution_count": null,
      "outputs": []
    },
    {
      "cell_type": "code",
      "metadata": {
        "id": "jzuyB-LKBD9X"
      },
      "source": [
        "!mkdir juliet_mini_batch_4"
      ],
      "execution_count": null,
      "outputs": []
    },
    {
      "cell_type": "code",
      "metadata": {
        "id": "C2672gkCB88v"
      },
      "source": [
        "with open('juliet_dataset__path_ast_json_4__tup_ls.pkl', 'wb') as fp:\n",
        "  pickle.dump (juliet_dataset__path_ast_json_4__tup_ls, fp)"
      ],
      "execution_count": null,
      "outputs": []
    },
    {
      "cell_type": "code",
      "metadata": {
        "id": "zwbkOuXSBSa4"
      },
      "source": [
        "#Move preprocessed main data and pickled meta data to folder for compression and storage for use in next stage of processing \n",
        "%cp -r juliet_dataset__path_ast_json_4__tup_ls.pkl juliet_mini_batch_4/"
      ],
      "execution_count": null,
      "outputs": []
    },
    {
      "cell_type": "code",
      "metadata": {
        "colab": {
          "base_uri": "https://localhost:8080/",
          "height": 35
        },
        "id": "cxBBlyMRDcog",
        "outputId": "bb646479-4f27-4d5e-de36-f4d3ccf7c04b"
      },
      "source": [
        "shutil.make_archive('juliet_mini_batch_4__path_ast_json__tup_ls','tar','/content/','juliet_mini_batch_4')"
      ],
      "execution_count": null,
      "outputs": [
        {
          "output_type": "execute_result",
          "data": {
            "application/vnd.google.colaboratory.intrinsic+json": {
              "type": "string"
            },
            "text/plain": [
              "'/content/juliet_mini_batch_4__path_ast_json__tup_ls.tar'"
            ]
          },
          "metadata": {},
          "execution_count": 68
        }
      ]
    },
    {
      "cell_type": "code",
      "metadata": {
        "id": "jKltW6kkEVqp"
      },
      "source": [
        "!cp juliet_mini_batch_4__path_ast_json__tup_ls.tar \"/content/drive/My Drive/colab_root/compchem-compsci-shared-rep/interim/\""
      ],
      "execution_count": null,
      "outputs": []
    }
  ]
}