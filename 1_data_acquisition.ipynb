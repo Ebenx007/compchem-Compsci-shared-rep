{
  "nbformat": 4,
  "nbformat_minor": 0,
  "metadata": {
    "colab": {
      "name": "1_data_acquisition.ipynb",
      "provenance": [],
      "collapsed_sections": [],
      "include_colab_link": true
    },
    "kernelspec": {
      "display_name": "Python 3",
      "name": "python3"
    }
  },
  "cells": [
    {
      "cell_type": "markdown",
      "metadata": {
        "id": "view-in-github",
        "colab_type": "text"
      },
      "source": [
        "<a href=\"https://colab.research.google.com/github/Ebenx007/compchem-Compsci-shared-rep/blob/main/1_data_acquisition.ipynb\" target=\"_parent\"><img src=\"https://colab.research.google.com/assets/colab-badge.svg\" alt=\"Open In Colab\"/></a>"
      ]
    },
    {
      "cell_type": "code",
      "metadata": {
        "id": "yQP7pmnVpNHU"
      },
      "source": [
        "from google.colab import drive\n",
        "from pathlib import Path\n",
        "import sys\n",
        "import os\n",
        "import shutil\n",
        "import tarfile\n",
        "import zipfile\n",
        "import subprocess\n",
        "import pickle\n",
        "import re\n",
        "import glob"
      ],
      "execution_count": 1,
      "outputs": []
    },
    {
      "cell_type": "code",
      "metadata": {
        "id": "v24G22PeDBtU",
        "colab": {
          "base_uri": "https://localhost:8080/"
        },
        "outputId": "78aff41a-733d-4174-c187-7fc6f228dcb3"
      },
      "source": [
        "drive.mount('/content/drive/')"
      ],
      "execution_count": 2,
      "outputs": [
        {
          "output_type": "stream",
          "name": "stdout",
          "text": [
            "Mounted at /content/drive/\n"
          ]
        }
      ]
    },
    {
      "cell_type": "markdown",
      "metadata": {
        "id": "3Emc1UbhEEjn"
      },
      "source": [
        "\n",
        "**DATA ACQUISITION**\n",
        " \n",
        "*   Get Data\n",
        "*   Explore Data"
      ]
    },
    {
      "cell_type": "markdown",
      "metadata": {
        "id": "-ngN0JvNrVf1"
      },
      "source": [
        "# 1.  GET DATA\n",
        "\n",
        "---\n",
        "\n"
      ]
    },
    {
      "cell_type": "markdown",
      "metadata": {
        "id": "2dG-Cq5zMvVc"
      },
      "source": [
        "##1.1 Main Dataset: C/C++ Programming Competition Submissions.\n",
        "Source: Pedagogical Programming Open Judge (OJ) system[(Mou et 2016)](https://arxiv.org/pdf/1409.5718.pdf)."
      ]
    },
    {
      "cell_type": "markdown",
      "metadata": {
        "id": "WUzAuMsvgzGj"
      },
      "source": [
        "Note: \n",
        "*   Colab won't download tarball. \n",
        "Hence googledrive workaround.\n",
        "*   Raw dataset from (Mou et 2016) availabe for download [here](https://drive.google.com/file/d/0B2i-vWnOu7MxVlJwQXN6eVNONUU/view?usp=sharing) \n",
        "\n",
        "\n",
        "\n",
        "\n",
        "\n",
        "\n"
      ]
    },
    {
      "cell_type": "code",
      "metadata": {
        "id": "t216YDZMNEUM"
      },
      "source": [
        "!cp \"/content/drive/My Drive/colab_root/compchem-compsci-shared-rep/raw/programs.tar.gz\" ."
      ],
      "execution_count": 5,
      "outputs": []
    },
    {
      "cell_type": "markdown",
      "metadata": {
        "id": "i0ZioIv48c_s"
      },
      "source": [
        "###1.1.1 Exploration"
      ]
    },
    {
      "cell_type": "markdown",
      "metadata": {
        "id": "4MJ_uh58xbtu"
      },
      "source": [
        "\n",
        ">   *   TOP LEVEL VIEW  of directories in the dataset tarball.\n",
        "\n"
      ]
    },
    {
      "cell_type": "code",
      "metadata": {
        "id": "WvkLR1Q8TBx1"
      },
      "source": [
        "#Also abstract into list for easy usage later\n",
        "submissions_ls = []\n",
        "submissions_tasks_ls = []\n",
        "with tarfile.open('programs.tar.gz', 'r:gz') as submissions:\n",
        "  for member in submissions:\n",
        "   if member.isdir() and member.name.count ('/') > 0:\n",
        "     # The '/' > 0 is to ensure the root directory is ignored \n",
        "       submissions_tasks_ls.append(member.name)\n",
        "       print(member.name)\n",
        "   if member.isfile():\n",
        "     submissions_ls.append (member.name)\n",
        "print(\"\\n{0} source code files in Coding competition submissions dataset\".format(len(submissions_ls)))\n",
        "print(\"\\nSubmissions on {0} coding assignments(labels)\".format(len(submissions_tasks_ls)))\n",
        "print()"
      ],
      "execution_count": null,
      "outputs": []
    },
    {
      "cell_type": "markdown",
      "metadata": {
        "id": "EDpgM5QpbcIC"
      },
      "source": [
        "> *   A closeup exploration of 2 samples from the 52000 submissions:"
      ]
    },
    {
      "cell_type": "code",
      "metadata": {
        "id": "rrl-_dKW0t1p"
      },
      "source": [
        "for i in range(2,4):\n",
        "  print(submissions_ls[i])\n",
        "  with tarfile.open('programs.tar.gz', 'r') as submissions:\n",
        "    source_code_file = submissions.extractfile(submissions_ls[i])\n",
        "    print(source_code_file.read().decode('utf-8'))\n",
        "\n"
      ],
      "execution_count": null,
      "outputs": []
    },
    {
      "cell_type": "code",
      "metadata": {
        "id": "VsvvXQ_azsaV"
      },
      "source": [
        "with tarfile.open('programs.tar.gz', 'r') as f:\n",
        "  f.extractall()"
      ],
      "execution_count": 9,
      "outputs": []
    },
    {
      "cell_type": "code",
      "metadata": {
        "colab": {
          "base_uri": "https://localhost:8080/"
        },
        "id": "tVBdjf1MTQu9",
        "outputId": "b26ab9f5-d4c6-40fb-a0d0-4e91d582874e"
      },
      "source": [
        "active_dir = '/content/ProgramData/'\n",
        "test_file_counter = 0\n",
        "for path, subdirs, files in os.walk(active_dir):\n",
        "    for name in files:\n",
        "      test_file_counter +=1\n",
        "print(\"{} files extracted from Programming Competition Submissions archive. \".format(test_file_counter))"
      ],
      "execution_count": 11,
      "outputs": [
        {
          "output_type": "stream",
          "name": "stdout",
          "text": [
            "52000 files extracted from Programming Competition Submissions archive. \n"
          ]
        }
      ]
    },
    {
      "cell_type": "code",
      "metadata": {
        "id": "S_sTacTIgSbu"
      },
      "source": [
        "with open('submisisons_ls.pkl', 'wb') as fp:\n",
        "  pickle.dump (submissions_ls, fp)"
      ],
      "execution_count": 12,
      "outputs": []
    },
    {
      "cell_type": "code",
      "metadata": {
        "id": "HsNSjU0WgXu0"
      },
      "source": [
        "with open('submissions_tasks_ls.pkl', 'wb') as fp:\n",
        "  pickle.dump (submissions_tasks_ls, fp)"
      ],
      "execution_count": 13,
      "outputs": []
    },
    {
      "cell_type": "markdown",
      "metadata": {
        "id": "HIHVWdLZd5hU"
      },
      "source": [
        "##1.2 New Dataset: Juliet C/C++ test suite\n",
        "Source: National Institute of Standards and Technology(NIST)'s [Software Assurance Reference Dataset (SARD)](https://samate.nist.gov/SRD/testsuite.php)."
      ]
    },
    {
      "cell_type": "code",
      "metadata": {
        "colab": {
          "base_uri": "https://localhost:8080/"
        },
        "id": "isPVS6RgeTj2",
        "outputId": "9c7dbd70-867a-45d5-95bc-66447ccf06df"
      },
      "source": [
        "!wget https://samate.nist.gov/SARD/testsuites/juliet/Juliet_Test_Suite_v1.3_for_C_Cpp.zip"
      ],
      "execution_count": 15,
      "outputs": [
        {
          "output_type": "stream",
          "name": "stdout",
          "text": [
            "--2021-10-13 17:27:52--  https://samate.nist.gov/SARD/testsuites/juliet/Juliet_Test_Suite_v1.3_for_C_Cpp.zip\n",
            "Resolving samate.nist.gov (samate.nist.gov)... 129.6.13.19, 2610:20:6005:13::19\n",
            "Connecting to samate.nist.gov (samate.nist.gov)|129.6.13.19|:443... connected.\n",
            "HTTP request sent, awaiting response... 200 OK\n",
            "Length: 152957342 (146M) [application/zip]\n",
            "Saving to: ‘Juliet_Test_Suite_v1.3_for_C_Cpp.zip’\n",
            "\n",
            "Juliet_Test_Suite_v 100%[===================>] 145.87M  39.9MB/s    in 3.8s    \n",
            "\n",
            "2021-10-13 17:27:56 (38.4 MB/s) - ‘Juliet_Test_Suite_v1.3_for_C_Cpp.zip’ saved [152957342/152957342]\n",
            "\n"
          ]
        }
      ]
    },
    {
      "cell_type": "markdown",
      "metadata": {
        "id": "cDss0q_nNDRm"
      },
      "source": [
        "###1.2.1 Exploration"
      ]
    },
    {
      "cell_type": "markdown",
      "metadata": {
        "id": "iQj64sDGH8GW"
      },
      "source": [
        "\n",
        "\n",
        "*   TOP LEVEL VIEW of Juliet C/C++ test suite dataset. \n",
        "\n"
      ]
    },
    {
      "cell_type": "code",
      "metadata": {
        "id": "uuQJbN8GfEPF"
      },
      "source": [
        "#Extract meta data from archive into lists for use later in processing data\n",
        "juliet_dataset_CWE_testcases_paths_ls = []\n",
        "juliet_dataset_CWE_ls = []\n",
        "juliet_dataset_ls = []\n",
        "with zipfile.ZipFile('Juliet_Test_Suite_v1.3_for_C_Cpp.zip', 'r') as juliet_dataset:\n",
        "  for member in juliet_dataset.namelist():\n",
        "    if member.endswith('/') and member.count('/') > 2:\n",
        "      # > 2  '/' count to ignore none testcases related directories in the archive and focus on your data set of interesti.e. testcases\n",
        "      juliet_dataset_CWE_testcases_paths_ls.append(member)\n",
        "      redx = re.findall(r'\\bCWE\\w.*', member)\n",
        "      juliet_dataset_CWE_ls.append(redx[0])\n",
        "      print(redx[0])  \n",
        "    if (not member.endswith('/')) and member.count('/') > 2:\n",
        "      # > 2 '/' count to append to list only files in testcases directories, ignoring files inthe root directory  \n",
        "      juliet_dataset_ls.append(member) \n",
        "\n",
        "print(\"\\nJuliet C/C++ test suite contains {0} source code files(too large to be printed on colab's strout)\".format(len(juliet_dataset_ls)))\n",
        "print(\"\\nThe files are divided into {0} CWE IDed testcases (Labels)\".format(len(juliet_dataset_CWE_ls)))\n",
        "print(\"\\nThe {0} CWE IDed testcases have paths\".format(len(juliet_dataset_CWE_testcases_paths_ls)))\n",
        "print('\\n' + str(juliet_dataset_CWE_testcases_paths_ls))\n",
        "print('\\n')"
      ],
      "execution_count": null,
      "outputs": []
    },
    {
      "cell_type": "markdown",
      "metadata": {
        "id": "-qo0tciGQcNB"
      },
      "source": [
        "\n",
        "\n",
        "*   Closeup exploration of 2 samples from the  juliet dataset\n",
        "\n"
      ]
    },
    {
      "cell_type": "code",
      "metadata": {
        "id": "5TLlzXQma5b_"
      },
      "source": [
        "for i in range(100000,100002):\n",
        "  print(juliet_dataset_ls[i])\n",
        "  with zipfile.ZipFile('Juliet_Test_Suite_v1.3_for_C_Cpp.zip', 'r') as juliet_dataset:\n",
        "    juliet_dataset_ls = juliet_dataset.namelist()\n",
        "    juliet_soure_code_file = juliet_dataset_ls[i]\n",
        "    print(juliet_dataset.read(juliet_soure_code_file).decode('utf-8'))\n",
        " "
      ],
      "execution_count": null,
      "outputs": []
    },
    {
      "cell_type": "markdown",
      "metadata": {
        "id": "xxpWxefjq6wQ"
      },
      "source": [
        "*   Pickling juliet_dataset created lists into a files for use later\n",
        "\n"
      ]
    },
    {
      "cell_type": "code",
      "metadata": {
        "id": "U1fDT1sTE2R-"
      },
      "source": [
        "with open('juliet_dataset_CWE_testcases_paths_ls.pkl', 'wb') as fp:\n",
        "  pickle.dump (juliet_dataset_CWE_testcases_paths_ls, fp)"
      ],
      "execution_count": 19,
      "outputs": []
    },
    {
      "cell_type": "code",
      "metadata": {
        "id": "_-izgSBpsRmd"
      },
      "source": [
        "with open('juliet_dataset_ls.pkl', 'wb') as fp:\n",
        "  pickle.dump (juliet_dataset_ls, fp)"
      ],
      "execution_count": 20,
      "outputs": []
    },
    {
      "cell_type": "code",
      "metadata": {
        "id": "86kLkvu0SJkU"
      },
      "source": [
        "with open('juliet_dataset_CWE_ls.pkl', 'wb') as fp:\n",
        "  pickle.dump (juliet_dataset_CWE_ls, fp)"
      ],
      "execution_count": 21,
      "outputs": []
    },
    {
      "cell_type": "markdown",
      "metadata": {
        "id": "yjx1UHQGVCG6"
      },
      "source": [
        "#Summary of Acquired Data"
      ]
    },
    {
      "cell_type": "code",
      "metadata": {
        "colab": {
          "base_uri": "https://localhost:8080/"
        },
        "id": "bdkAsIQApQ3q",
        "outputId": "2e0e6509-0b87-4c75-cdc7-650bc24165dc"
      },
      "source": [
        "!ls"
      ],
      "execution_count": 22,
      "outputs": [
        {
          "output_type": "stream",
          "name": "stdout",
          "text": [
            "drive\t\t\t\t\t   ProgramData\n",
            "juliet_dataset_CWE_ls.pkl\t\t   programs.tar.gz\n",
            "juliet_dataset_CWE_testcases_paths_ls.pkl  sample_data\n",
            "juliet_dataset_ls.pkl\t\t\t   submisisons_ls.pkl\n",
            "Juliet_Test_Suite_v1.3_for_C_Cpp.zip\t   submissions_tasks_ls.pkl\n"
          ]
        }
      ]
    },
    {
      "cell_type": "markdown",
      "metadata": {
        "id": "uRMFT3swjA4L"
      },
      "source": [
        "##Create achive of raw data for use in next phase of pipeline"
      ]
    },
    {
      "cell_type": "code",
      "metadata": {
        "id": "N6J4RKeceFe9"
      },
      "source": [
        "#create folder into which to store acquired data and meta data lists\n",
        "!mkdir data_acquisition"
      ],
      "execution_count": 23,
      "outputs": []
    },
    {
      "cell_type": "code",
      "metadata": {
        "id": "TAZnIL9ycdUv"
      },
      "source": [
        "#Move Acquired data and pickled metadata into data_acquisition folder for compression and curating for next phase of Pipelne\n",
        "%cp -r programs.tar.gz ProgramData submisisons_ls.pkl submissions_tasks_ls.pkl Juliet_Test_Suite_v1.3_for_C_Cpp.zip juliet_dataset_CWE_testcases_paths_ls.pkl juliet_dataset_CWE_ls.pkl juliet_dataset_ls.pkl data_acquisition/"
      ],
      "execution_count": 25,
      "outputs": []
    },
    {
      "cell_type": "code",
      "metadata": {
        "colab": {
          "base_uri": "https://localhost:8080/",
          "height": 35
        },
        "id": "1_NYK5UVXyXI",
        "outputId": "386ab20f-2f32-44d3-bb76-8782339d456c"
      },
      "source": [
        "#Creating tar archive of the raw data and metadata\n",
        "shutil.make_archive('raw_data','tar','/content/','data_acquisition')"
      ],
      "execution_count": 26,
      "outputs": [
        {
          "output_type": "execute_result",
          "data": {
            "application/vnd.google.colaboratory.intrinsic+json": {
              "type": "string"
            },
            "text/plain": [
              "'/content/raw_data.tar'"
            ]
          },
          "metadata": {},
          "execution_count": 26
        }
      ]
    },
    {
      "cell_type": "code",
      "metadata": {
        "id": "XGlAN8gbiK2O"
      },
      "source": [
        "#Verify tarball of raw-data\n",
        "temp_archive = []\n",
        "with tarfile.open('raw_data.tar', 'r') as green:\n",
        "  for member in green:\n",
        "    if member.isdir() and member.name.count ('/') > 0:\n",
        "     # The '/' > 0 is to ensure the root directory is ignored \n",
        "       print(member.name) \n",
        "    if member.isfile():\n",
        "     temp_archive.append (member.name)\n",
        "print(\"\\n Number of files in raw_data tarball for export to googledrive for use later {0}\".format(len(temp_archive)))"
      ],
      "execution_count": null,
      "outputs": []
    },
    {
      "cell_type": "markdown",
      "metadata": {
        "id": "LPenC84slEDb"
      },
      "source": [
        "##Store raw_data tarball in googledrive  for use in next phase of pipeline"
      ]
    },
    {
      "cell_type": "code",
      "metadata": {
        "id": "x0TQHLbulDYY"
      },
      "source": [
        "!cp raw_data.tar \"/content/drive/My Drive/colab_root/compchem-compsci-shared-rep/raw/\""
      ],
      "execution_count": 29,
      "outputs": []
    }
  ]
}