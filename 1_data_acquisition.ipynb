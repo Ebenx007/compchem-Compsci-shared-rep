{
  "nbformat": 4,
  "nbformat_minor": 0,
  "metadata": {
    "colab": {
      "name": "1.data_acquisition.ipynb",
      "provenance": [],
      "collapsed_sections": [
        "Vb0nhCZKsJZO"
      ],
      "include_colab_link": true
    },
    "kernelspec": {
      "display_name": "Python 3",
      "name": "python3"
    }
  },
  "cells": [
    {
      "cell_type": "markdown",
      "metadata": {
        "id": "view-in-github",
        "colab_type": "text"
      },
      "source": [
        "<a href=\"https://colab.research.google.com/github/Ebenx007/compchem-Compsci-shared-rep/blob/main/1_data_acquisition.ipynb\" target=\"_parent\"><img src=\"https://colab.research.google.com/assets/colab-badge.svg\" alt=\"Open In Colab\"/></a>"
      ]
    },
    {
      "cell_type": "code",
      "metadata": {
        "id": "yQP7pmnVpNHU"
      },
      "source": [
        "from google.colab import drive\n",
        "from pathlib import Path\n",
        "import sys\n",
        "import os\n",
        "import shutil\n",
        "import tarfile\n",
        "import zipfile\n",
        "import subprocess\n",
        "import pickle\n",
        "import re\n",
        "import glob"
      ],
      "execution_count": 3,
      "outputs": []
    },
    {
      "cell_type": "code",
      "metadata": {
        "id": "v24G22PeDBtU",
        "colab": {
          "base_uri": "https://localhost:8080/"
        },
        "outputId": "58604abd-fd38-479f-cdb3-fe7c5a43a0c8"
      },
      "source": [
        "drive.mount('/content/drive/')"
      ],
      "execution_count": 4,
      "outputs": [
        {
          "output_type": "stream",
          "name": "stdout",
          "text": [
            "Mounted at /content/drive/\n"
          ]
        }
      ]
    },
    {
      "cell_type": "markdown",
      "metadata": {
        "id": "3Emc1UbhEEjn"
      },
      "source": [
        "\n",
        "**DATA ACQUISITION**\n",
        " \n",
        "*   Get Data\n",
        "*   Explore Data"
      ]
    },
    {
      "cell_type": "markdown",
      "metadata": {
        "id": "-ngN0JvNrVf1"
      },
      "source": [
        "# 1.  GET DATA\n",
        "\n",
        "---\n",
        "\n"
      ]
    },
    {
      "cell_type": "markdown",
      "metadata": {
        "id": "2dG-Cq5zMvVc"
      },
      "source": [
        "##1.1 Main Dataset: C/C++ Programming Competition Submissions.\n",
        "Source: Pedagogical Programming Open Judge (OJ) system[(Mou et 2016)](https://arxiv.org/pdf/1409.5718.pdf)."
      ]
    },
    {
      "cell_type": "markdown",
      "metadata": {
        "id": "WUzAuMsvgzGj"
      },
      "source": [
        "Note: \n",
        "*   Colab will not download tarball. \n",
        "Hence googledrive.\n",
        "*   Raw data availabe for download [here](https://drive.google.com/file/d/0B2i-vWnOu7MxVlJwQXN6eVNONUU/view?usp=sharing) \n",
        "\n",
        "\n",
        "\n",
        "\n",
        "\n",
        "\n"
      ]
    },
    {
      "cell_type": "code",
      "metadata": {
        "id": "t216YDZMNEUM"
      },
      "source": [
        "!cp \"/content/drive/My Drive/colab_root/2021/programs.tar.gz\" ."
      ],
      "execution_count": 18,
      "outputs": []
    },
    {
      "cell_type": "markdown",
      "metadata": {
        "id": "i0ZioIv48c_s"
      },
      "source": [
        "###1.1.1 Exploration"
      ]
    },
    {
      "cell_type": "markdown",
      "metadata": {
        "id": "4MJ_uh58xbtu"
      },
      "source": [
        "\n",
        ">   *   TOP LEVEL VIEW  of directories in the dataset tarball.\n",
        "\n"
      ]
    },
    {
      "cell_type": "code",
      "metadata": {
        "id": "WvkLR1Q8TBx1",
        "colab": {
          "base_uri": "https://localhost:8080/"
        },
        "outputId": "92647c7f-2ee1-4de1-d9ed-c2f2562241dd"
      },
      "source": [
        "#Also abstract into list for easy usage later\n",
        "submissions_ls = []\n",
        "submissions_tasks_ls = []\n",
        "with tarfile.open('programs.tar.gz', 'r:gz') as submissions:\n",
        "  for member in submissions:\n",
        "   if member.isdir() and member.name.count ('/') > 0:\n",
        "     # The '/' > 0 is to ensure the root directory is ignored \n",
        "       submissions_tasks_ls.append(member.name)\n",
        "       print(member.name)\n",
        "   if member.isfile():\n",
        "     submissions_ls.append (member.name)\n",
        "print(\"\\n{0} source code files in Coding competition submissions dataset\".format(len(submissions_ls)))\n",
        "print(\"\\nSubmissions on {0} coding assignments(labels)\".format(len(submissions_tasks_ls)))\n",
        "print()"
      ],
      "execution_count": 25,
      "outputs": [
        {
          "output_type": "stream",
          "name": "stdout",
          "text": [
            "ProgramData/1\n",
            "ProgramData/2\n",
            "ProgramData/3\n",
            "ProgramData/4\n",
            "ProgramData/5\n",
            "ProgramData/6\n",
            "ProgramData/7\n",
            "ProgramData/8\n",
            "ProgramData/9\n",
            "ProgramData/10\n",
            "ProgramData/11\n",
            "ProgramData/12\n",
            "ProgramData/13\n",
            "ProgramData/14\n",
            "ProgramData/15\n",
            "ProgramData/16\n",
            "ProgramData/17\n",
            "ProgramData/18\n",
            "ProgramData/19\n",
            "ProgramData/20\n",
            "ProgramData/21\n",
            "ProgramData/22\n",
            "ProgramData/23\n",
            "ProgramData/24\n",
            "ProgramData/25\n",
            "ProgramData/26\n",
            "ProgramData/27\n",
            "ProgramData/28\n",
            "ProgramData/29\n",
            "ProgramData/30\n",
            "ProgramData/31\n",
            "ProgramData/32\n",
            "ProgramData/33\n",
            "ProgramData/34\n",
            "ProgramData/35\n",
            "ProgramData/36\n",
            "ProgramData/37\n",
            "ProgramData/38\n",
            "ProgramData/39\n",
            "ProgramData/40\n",
            "ProgramData/41\n",
            "ProgramData/42\n",
            "ProgramData/43\n",
            "ProgramData/44\n",
            "ProgramData/45\n",
            "ProgramData/46\n",
            "ProgramData/47\n",
            "ProgramData/48\n",
            "ProgramData/49\n",
            "ProgramData/50\n",
            "ProgramData/51\n",
            "ProgramData/52\n",
            "ProgramData/53\n",
            "ProgramData/54\n",
            "ProgramData/55\n",
            "ProgramData/56\n",
            "ProgramData/57\n",
            "ProgramData/58\n",
            "ProgramData/59\n",
            "ProgramData/60\n",
            "ProgramData/61\n",
            "ProgramData/62\n",
            "ProgramData/63\n",
            "ProgramData/64\n",
            "ProgramData/65\n",
            "ProgramData/66\n",
            "ProgramData/67\n",
            "ProgramData/68\n",
            "ProgramData/69\n",
            "ProgramData/70\n",
            "ProgramData/71\n",
            "ProgramData/72\n",
            "ProgramData/73\n",
            "ProgramData/74\n",
            "ProgramData/75\n",
            "ProgramData/76\n",
            "ProgramData/77\n",
            "ProgramData/78\n",
            "ProgramData/79\n",
            "ProgramData/80\n",
            "ProgramData/81\n",
            "ProgramData/82\n",
            "ProgramData/83\n",
            "ProgramData/84\n",
            "ProgramData/85\n",
            "ProgramData/86\n",
            "ProgramData/87\n",
            "ProgramData/88\n",
            "ProgramData/89\n",
            "ProgramData/90\n",
            "ProgramData/91\n",
            "ProgramData/92\n",
            "ProgramData/93\n",
            "ProgramData/94\n",
            "ProgramData/95\n",
            "ProgramData/96\n",
            "ProgramData/97\n",
            "ProgramData/98\n",
            "ProgramData/99\n",
            "ProgramData/100\n",
            "ProgramData/101\n",
            "ProgramData/102\n",
            "ProgramData/103\n",
            "ProgramData/104\n",
            "\n",
            "52000 source code files in Coding competition submissions dataset\n",
            "\n",
            "Submissions on 104 coding assignments(labels)\n",
            "\n"
          ]
        }
      ]
    },
    {
      "cell_type": "markdown",
      "metadata": {
        "id": "EDpgM5QpbcIC"
      },
      "source": [
        "> *   A closer look at 2 samples from the 52000 submissions:"
      ]
    },
    {
      "cell_type": "code",
      "metadata": {
        "colab": {
          "base_uri": "https://localhost:8080/"
        },
        "id": "rrl-_dKW0t1p",
        "outputId": "b100275a-d2a9-424a-c806-eaa84d38afa8"
      },
      "source": [
        "for i in range(2,4):\n",
        "  print(submissions_ls[i])\n",
        "  with tarfile.open('programs.tar.gz', 'r') as submissions:\n",
        "    source_code_file = submissions.extractfile(submissions_ls[i])\n",
        "    print(source_code_file.read().decode('utf-8'))\n",
        "\n"
      ],
      "execution_count": 26,
      "outputs": [
        {
          "output_type": "stream",
          "name": "stdout",
          "text": [
            "ProgramData/1/131.txt\n",
            "int num(int a,int b,int c)//??????????\n",
            "{\n",
            "\tint sum=0,j;//sum????\n",
            "\tif(a>c)return 0;//???????????????0\n",
            "\tif(b==1)return 1;//????????????????\n",
            "\tfor(j=a;j<=c;j++)//?????????????\n",
            "\t\tif(c%j==0)sum=sum+num(j,b-1,c/j);\n",
            "\treturn sum;\n",
            "}\n",
            "int main()\n",
            "{\n",
            "\tint k,n,m,e=0,i;//e??????\n",
            "\tcin>>n;\n",
            "\twhile(e<n)\n",
            "\t{\n",
            "\t\tcin>>m;\n",
            "\t\tk=0;//k??m????????????????\n",
            "\t\tint f=m;\n",
            "\t\tfor(i=2;i<=f;i++)\n",
            "\t\t\tif(f%i==0)\n",
            "\t\t\t{\n",
            "\t\t\t\tk++;\n",
            "\t\t\t\tf=f/i;\n",
            "\t\t\t\ti=1;\n",
            "\t\t\t}\n",
            "\t\tcout<<num(1,k,m)<<endl;//????????\n",
            "\t\te++;\n",
            "\t}\n",
            "\treturn 0;\n",
            "}\n",
            "\n",
            "ProgramData/1/1076.txt\n",
            "int decomposition(int m,int k){\n",
            "    int res=1;\n",
            "    for(int i=k;i*i<=m;i++){\n",
            "        if(m%i==0&&m/i>=i){\n",
            "          \n",
            "            res+=decomposition(m/i,i);\n",
            "        }\n",
            "    }\n",
            "    return res;\n",
            "}\n",
            "int main(){\n",
            "    int n;\n",
            "    while(scanf(\"%d\",&n)==1){\n",
            "        for(int i=0;i<n;i++){\n",
            "            int m;\n",
            "            scanf(\"%d\",&m);\n",
            "            printf(\"%d\\n\",decomposition(m,2));\n",
            "        }\n",
            "    }\n",
            "    return 0;\n",
            "}\n"
          ]
        }
      ]
    },
    {
      "cell_type": "code",
      "metadata": {
        "id": "VsvvXQ_azsaV"
      },
      "source": [
        "with tarfile.open('programs.tar.gz', 'r') as f:\n",
        "  f.extractall()\n",
        "  "
      ],
      "execution_count": 31,
      "outputs": []
    },
    {
      "cell_type": "code",
      "metadata": {
        "colab": {
          "base_uri": "https://localhost:8080/"
        },
        "id": "tVBdjf1MTQu9",
        "outputId": "570457c0-59fe-4e7f-e16a-6cfecc324cb5"
      },
      "source": [
        "active_dir = '/content/ProgramData/'\n",
        "test_file_counter = 0\n",
        "for path, subdirs, files in os.walk(active_dir):\n",
        "    for name in files:\n",
        "      test_file_counter +=1\n",
        "print(\"{} files extracted from Programming Competition Submissions archive. \".format(test_file_counter))"
      ],
      "execution_count": 32,
      "outputs": [
        {
          "output_type": "stream",
          "name": "stdout",
          "text": [
            "52000 files extracted from Programming Competition Submissions archive. \n"
          ]
        }
      ]
    },
    {
      "cell_type": "markdown",
      "metadata": {
        "id": "HIHVWdLZd5hU"
      },
      "source": [
        "##1.2 New Dataset: Juliet C/C++ test suite\n",
        "Source: National Institute of Standards and Technology(NIST)[Software Assurance Reference Dataset (SARD)](https://samate.nist.gov/SRD/testsuite.php)."
      ]
    },
    {
      "cell_type": "code",
      "metadata": {
        "colab": {
          "base_uri": "https://localhost:8080/"
        },
        "id": "isPVS6RgeTj2",
        "outputId": "ef62f0e3-352c-4dcf-f0df-de6cdfce8d31"
      },
      "source": [
        "!wget https://samate.nist.gov/SARD/testsuites/juliet/Juliet_Test_Suite_v1.3_for_C_Cpp.zip"
      ],
      "execution_count": 27,
      "outputs": [
        {
          "output_type": "stream",
          "name": "stdout",
          "text": [
            "--2021-10-12 15:51:13--  https://samate.nist.gov/SARD/testsuites/juliet/Juliet_Test_Suite_v1.3_for_C_Cpp.zip\n",
            "Resolving samate.nist.gov (samate.nist.gov)... 129.6.13.19, 2610:20:6005:13::19\n",
            "Connecting to samate.nist.gov (samate.nist.gov)|129.6.13.19|:443... connected.\n",
            "HTTP request sent, awaiting response... 200 OK\n",
            "Length: 152957342 (146M) [application/zip]\n",
            "Saving to: ‘Juliet_Test_Suite_v1.3_for_C_Cpp.zip’\n",
            "\n",
            "Juliet_Test_Suite_v 100%[===================>] 145.87M  43.9MB/s    in 3.7s    \n",
            "\n",
            "2021-10-12 15:51:17 (39.1 MB/s) - ‘Juliet_Test_Suite_v1.3_for_C_Cpp.zip’ saved [152957342/152957342]\n",
            "\n"
          ]
        }
      ]
    },
    {
      "cell_type": "markdown",
      "metadata": {
        "id": "cDss0q_nNDRm"
      },
      "source": [
        "###1.2.1 Exploration"
      ]
    },
    {
      "cell_type": "markdown",
      "metadata": {
        "id": "iQj64sDGH8GW"
      },
      "source": [
        "\n",
        "\n",
        "*   TOP LEVEL VIEW of Juliet C/C++ test suite dataset. \n",
        "\n"
      ]
    },
    {
      "cell_type": "code",
      "metadata": {
        "colab": {
          "base_uri": "https://localhost:8080/"
        },
        "id": "uuQJbN8GfEPF",
        "outputId": "bf022e76-8c3a-4572-e526-e9e75189c153"
      },
      "source": [
        "#Extract meta data from archive into lists for use later in processing data\n",
        "juliet_dataset_CWE_testcases_paths_ls = []\n",
        "juliet_dataset_CWE_ls = []\n",
        "juliet_dataset_ls = []\n",
        "with zipfile.ZipFile('Juliet_Test_Suite_v1.3_for_C_Cpp.zip', 'r') as juliet_dataset:\n",
        "  for member in juliet_dataset.namelist():\n",
        "    if member.endswith('/') and member.count('/') > 2:\n",
        "      # > 2  '/' count to ignore none testcases related directories in the archive and focus on your data set of interesti.e. testcases\n",
        "      juliet_dataset_CWE_testcases_paths_ls.append(member)\n",
        "      redx = re.findall(r'\\bCWE\\w.*', member)\n",
        "      juliet_dataset_CWE_ls.append(redx[0])\n",
        "      print(redx[0])  \n",
        "    if (not member.endswith('/')) and member.count('/') > 2:\n",
        "      # > 2 '/' count to append to list only files in testcases directories, ignoring files inthe root directory  \n",
        "      juliet_dataset_ls.append(member) \n",
        "\n",
        "print(\"\\nJuliet C/C++ test suite contains {0} source code files(too large to be printed on colab's strout)\".format(len(juliet_dataset_ls)))\n",
        "print(\"\\nThe files are divided into {0} CWE IDed testcases (Labels)\".format(len(juliet_dataset_CWE_ls)))\n",
        "print(\"\\nThe {0} CWE IDed testcases have paths\".format(len(juliet_dataset_CWE_testcases_paths_ls)))\n",
        "print('\\n' + str(juliet_dataset_CWE_testcases_paths_ls))\n",
        "print('\\n')"
      ],
      "execution_count": 29,
      "outputs": [
        {
          "output_type": "stream",
          "name": "stdout",
          "text": [
            "CWE789_Uncontrolled_Mem_Alloc/\n",
            "CWE789_Uncontrolled_Mem_Alloc/s01/\n",
            "CWE789_Uncontrolled_Mem_Alloc/s02/\n",
            "CWE484_Omitted_Break_Statement_in_Switch/\n",
            "CWE194_Unexpected_Sign_Extension/\n",
            "CWE194_Unexpected_Sign_Extension/s01/\n",
            "CWE194_Unexpected_Sign_Extension/s02/\n",
            "CWE563_Unused_Variable/\n",
            "CWE588_Attempt_to_Access_Child_of_Non_Structure_Pointer/\n",
            "CWE78_OS_Command_Injection/\n",
            "CWE78_OS_Command_Injection/s03/\n",
            "CWE78_OS_Command_Injection/s09/\n",
            "CWE78_OS_Command_Injection/s07/\n",
            "CWE78_OS_Command_Injection/s01/\n",
            "CWE78_OS_Command_Injection/s05/\n",
            "CWE78_OS_Command_Injection/s04/\n",
            "CWE78_OS_Command_Injection/s08/\n",
            "CWE78_OS_Command_Injection/s06/\n",
            "CWE78_OS_Command_Injection/s02/\n",
            "CWE390_Error_Without_Action/\n",
            "CWE364_Signal_Handler_Race_Condition/\n",
            "CWE226_Sensitive_Information_Uncleared_Before_Release/\n",
            "CWE188_Reliance_on_Data_Memory_Layout/\n",
            "CWE127_Buffer_Underread/\n",
            "CWE127_Buffer_Underread/s03/\n",
            "CWE127_Buffer_Underread/s01/\n",
            "CWE127_Buffer_Underread/s04/\n",
            "CWE127_Buffer_Underread/s02/\n",
            "CWE775_Missing_Release_of_File_Descriptor_or_Handle/\n",
            "CWE780_Use_of_RSA_Algorithm_Without_OAEP/\n",
            "CWE667_Improper_Locking/\n",
            "CWE843_Type_Confusion/\n",
            "CWE587_Assignment_of_Fixed_Address_to_Pointer/\n",
            "CWE480_Use_of_Incorrect_Operator/\n",
            "CWE259_Hard_Coded_Password/\n",
            "CWE762_Mismatched_Memory_Management_Routines/\n",
            "CWE762_Mismatched_Memory_Management_Routines/s03/\n",
            "CWE762_Mismatched_Memory_Management_Routines/s07/\n",
            "CWE762_Mismatched_Memory_Management_Routines/s01/\n",
            "CWE762_Mismatched_Memory_Management_Routines/s05/\n",
            "CWE762_Mismatched_Memory_Management_Routines/s04/\n",
            "CWE762_Mismatched_Memory_Management_Routines/s06/\n",
            "CWE762_Mismatched_Memory_Management_Routines/s02/\n",
            "CWE400_Resource_Exhaustion/\n",
            "CWE400_Resource_Exhaustion/s01/\n",
            "CWE400_Resource_Exhaustion/s02/\n",
            "CWE223_Omission_of_Security_Relevant_Information/\n",
            "CWE284_Improper_Access_Control/\n",
            "CWE252_Unchecked_Return_Value/\n",
            "CWE247_Reliance_on_DNS_Lookups_in_Security_Decision/\n",
            "CWE620_Unverified_Password_Change/\n",
            "CWE479_Signal_Handler_Use_of_Non_Reentrant_Function/\n",
            "CWE535_Info_Exposure_Shell_Error/\n",
            "CWE176_Improper_Handling_of_Unicode_Encoding/\n",
            "CWE676_Use_of_Potentially_Dangerous_Function/\n",
            "CWE459_Incomplete_Cleanup/\n",
            "CWE377_Insecure_Temporary_File/\n",
            "CWE690_NULL_Deref_From_Return/\n",
            "CWE690_NULL_Deref_From_Return/s01/\n",
            "CWE690_NULL_Deref_From_Return/s02/\n",
            "CWE590_Free_Memory_Not_on_Heap/\n",
            "CWE590_Free_Memory_Not_on_Heap/s03/\n",
            "CWE590_Free_Memory_Not_on_Heap/s01/\n",
            "CWE590_Free_Memory_Not_on_Heap/s05/\n",
            "CWE590_Free_Memory_Not_on_Heap/s04/\n",
            "CWE590_Free_Memory_Not_on_Heap/s02/\n",
            "CWE191_Integer_Underflow/\n",
            "CWE191_Integer_Underflow/s03/\n",
            "CWE191_Integer_Underflow/s01/\n",
            "CWE191_Integer_Underflow/s05/\n",
            "CWE191_Integer_Underflow/s04/\n",
            "CWE191_Integer_Underflow/s02/\n",
            "CWE325_Missing_Required_Cryptographic_Step/\n",
            "CWE190_Integer_Overflow/\n",
            "CWE190_Integer_Overflow/s03/\n",
            "CWE190_Integer_Overflow/s07/\n",
            "CWE190_Integer_Overflow/s01/\n",
            "CWE190_Integer_Overflow/s05/\n",
            "CWE190_Integer_Overflow/s04/\n",
            "CWE190_Integer_Overflow/s06/\n",
            "CWE190_Integer_Overflow/s02/\n",
            "CWE835_Infinite_Loop/\n",
            "CWE615_Info_Exposure_by_Comment/\n",
            "CWE672_Operation_on_Resource_After_Expiration_or_Release/\n",
            "CWE440_Expected_Behavior_Violation/\n",
            "CWE681_Incorrect_Conversion_Between_Numeric_Types/\n",
            "CWE561_Dead_Code/\n",
            "CWE122_Heap_Based_Buffer_Overflow/\n",
            "CWE122_Heap_Based_Buffer_Overflow/s03/\n",
            "CWE122_Heap_Based_Buffer_Overflow/s10/\n",
            "CWE122_Heap_Based_Buffer_Overflow/s09/\n",
            "CWE122_Heap_Based_Buffer_Overflow/s07/\n",
            "CWE122_Heap_Based_Buffer_Overflow/s01/\n",
            "CWE122_Heap_Based_Buffer_Overflow/s05/\n",
            "CWE122_Heap_Based_Buffer_Overflow/s04/\n",
            "CWE122_Heap_Based_Buffer_Overflow/s08/\n",
            "CWE122_Heap_Based_Buffer_Overflow/s06/\n",
            "CWE122_Heap_Based_Buffer_Overflow/s02/\n",
            "CWE122_Heap_Based_Buffer_Overflow/s11/\n",
            "CWE482_Comparing_Instead_of_Assigning/\n",
            "CWE123_Write_What_Where_Condition/\n",
            "CWE481_Assigning_Instead_of_Comparing/\n",
            "CWE244_Heap_Inspection/\n",
            "CWE426_Untrusted_Search_Path/\n",
            "CWE468_Incorrect_Pointer_Scaling/\n",
            "CWE475_Undefined_Behavior_for_Input_to_API/\n",
            "CWE571_Expression_Always_True/\n",
            "CWE591_Sensitive_Data_Storage_in_Improperly_Locked_Memory/\n",
            "CWE272_Least_Privilege_Violation/\n",
            "CWE197_Numeric_Truncation_Error/\n",
            "CWE197_Numeric_Truncation_Error/s01/\n",
            "CWE197_Numeric_Truncation_Error/s02/\n",
            "CWE391_Unchecked_Error_Condition/\n",
            "CWE328_Reversible_One_Way_Hash/\n",
            "CWE464_Addition_of_Data_Structure_Sentinel/\n",
            "CWE196_Unsigned_to_Signed_Conversion_Error/\n",
            "CWE469_Use_of_Pointer_Subtraction_to_Determine_Size/\n",
            "CWE338_Weak_PRNG/\n",
            "CWE319_Cleartext_Tx_Sensitive_Info/\n",
            "CWE476_NULL_Pointer_Dereference/\n",
            "CWE195_Signed_to_Unsigned_Conversion_Error/\n",
            "CWE195_Signed_to_Unsigned_Conversion_Error/s01/\n",
            "CWE195_Signed_to_Unsigned_Conversion_Error/s02/\n",
            "CWE467_Use_of_sizeof_on_Pointer_Type/\n",
            "CWE511_Logic_Time_Bomb/\n",
            "CWE124_Buffer_Underwrite/\n",
            "CWE124_Buffer_Underwrite/s03/\n",
            "CWE124_Buffer_Underwrite/s01/\n",
            "CWE124_Buffer_Underwrite/s04/\n",
            "CWE124_Buffer_Underwrite/s02/\n",
            "CWE680_Integer_Overflow_to_Buffer_Overflow/\n",
            "CWE396_Catch_Generic_Exception/\n",
            "CWE114_Process_Control/\n",
            "CWE397_Throw_Generic_Exception/\n",
            "CWE36_Absolute_Path_Traversal/\n",
            "CWE36_Absolute_Path_Traversal/s03/\n",
            "CWE36_Absolute_Path_Traversal/s01/\n",
            "CWE36_Absolute_Path_Traversal/s05/\n",
            "CWE36_Absolute_Path_Traversal/s04/\n",
            "CWE36_Absolute_Path_Traversal/s02/\n",
            "CWE606_Unchecked_Loop_Condition/\n",
            "CWE416_Use_After_Free/\n",
            "CWE483_Incorrect_Block_Delimitation/\n",
            "CWE134_Uncontrolled_Format_String/\n",
            "CWE134_Uncontrolled_Format_String/s03/\n",
            "CWE134_Uncontrolled_Format_String/s01/\n",
            "CWE134_Uncontrolled_Format_String/s05/\n",
            "CWE134_Uncontrolled_Format_String/s04/\n",
            "CWE134_Uncontrolled_Format_String/s06/\n",
            "CWE134_Uncontrolled_Format_String/s02/\n",
            "CWE415_Double_Free/\n",
            "CWE415_Double_Free/s01/\n",
            "CWE415_Double_Free/s02/\n",
            "CWE562_Return_of_Stack_Variable_Address/\n",
            "CWE427_Uncontrolled_Search_Path_Element/\n",
            "CWE404_Improper_Resource_Shutdown/\n",
            "CWE500_Public_Static_Field_Not_Final/\n",
            "CWE546_Suspicious_Comment/\n",
            "CWE273_Improper_Check_for_Dropped_Privileges/\n",
            "CWE242_Use_of_Inherently_Dangerous_Function/\n",
            "CWE15_External_Control_of_System_or_Configuration_Setting/\n",
            "CWE506_Embedded_Malicious_Code/\n",
            "CWE510_Trapdoor/\n",
            "CWE398_Poor_Code_Quality/\n",
            "CWE785_Path_Manipulation_Function_Without_Max_Sized_Buffer/\n",
            "CWE367_TOC_TOU/\n",
            "CWE526_Info_Exposure_Environment_Variables/\n",
            "CWE773_Missing_Reference_to_Active_File_Descriptor_or_Handle/\n",
            "CWE23_Relative_Path_Traversal/\n",
            "CWE23_Relative_Path_Traversal/s03/\n",
            "CWE23_Relative_Path_Traversal/s01/\n",
            "CWE23_Relative_Path_Traversal/s05/\n",
            "CWE23_Relative_Path_Traversal/s04/\n",
            "CWE23_Relative_Path_Traversal/s02/\n",
            "CWE90_LDAP_Injection/\n",
            "CWE327_Use_Broken_Crypto/\n",
            "CWE605_Multiple_Binds_Same_Port/\n",
            "CWE685_Function_Call_With_Incorrect_Number_of_Arguments/\n",
            "CWE570_Expression_Always_False/\n",
            "CWE321_Hard_Coded_Cryptographic_Key/\n",
            "CWE832_Unlock_of_Resource_That_is_Not_Locked/\n",
            "CWE401_Memory_Leak/\n",
            "CWE401_Memory_Leak/s03/\n",
            "CWE401_Memory_Leak/s01/\n",
            "CWE401_Memory_Leak/s02/\n",
            "CWE256_Plaintext_Storage_of_Password/\n",
            "CWE457_Use_of_Uninitialized_Variable/\n",
            "CWE457_Use_of_Uninitialized_Variable/s01/\n",
            "CWE457_Use_of_Uninitialized_Variable/s02/\n",
            "CWE126_Buffer_Overread/\n",
            "CWE126_Buffer_Overread/s03/\n",
            "CWE126_Buffer_Overread/s01/\n",
            "CWE126_Buffer_Overread/s02/\n",
            "CWE121_Stack_Based_Buffer_Overflow/\n",
            "CWE121_Stack_Based_Buffer_Overflow/s03/\n",
            "CWE121_Stack_Based_Buffer_Overflow/s09/\n",
            "CWE121_Stack_Based_Buffer_Overflow/s07/\n",
            "CWE121_Stack_Based_Buffer_Overflow/s01/\n",
            "CWE121_Stack_Based_Buffer_Overflow/s05/\n",
            "CWE121_Stack_Based_Buffer_Overflow/s04/\n",
            "CWE121_Stack_Based_Buffer_Overflow/s08/\n",
            "CWE121_Stack_Based_Buffer_Overflow/s06/\n",
            "CWE121_Stack_Based_Buffer_Overflow/s02/\n",
            "CWE666_Operation_on_Resource_in_Wrong_Phase_of_Lifetime/\n",
            "CWE675_Duplicate_Operations_on_Resource/\n",
            "CWE534_Info_Exposure_Debug_Log/\n",
            "CWE253_Incorrect_Check_of_Function_Return_Value/\n",
            "CWE688_Function_Call_With_Incorrect_Variable_or_Reference_as_Argument/\n",
            "CWE366_Race_Condition_Within_Thread/\n",
            "CWE617_Reachable_Assertion/\n",
            "CWE369_Divide_by_Zero/\n",
            "CWE369_Divide_by_Zero/s01/\n",
            "CWE369_Divide_by_Zero/s02/\n",
            "CWE674_Uncontrolled_Recursion/\n",
            "CWE758_Undefined_Behavior/\n",
            "CWE222_Truncation_of_Security_Relevant_Information/\n",
            "CWE478_Missing_Default_Case_in_Switch/\n",
            "CWE761_Free_Pointer_Not_at_Start_of_Buffer/\n",
            "CWE665_Improper_Initialization/\n",
            "\n",
            "Juliet C/C++ test suite contains 106075 source code files(too large to be printed on colab's strout)\n",
            "\n",
            "The files are divided into 219 CWE IDed testcases (Labels)\n",
            "\n",
            "The 219 CWE IDed testcases have paths\n",
            "\n",
            "['C/testcases/CWE789_Uncontrolled_Mem_Alloc/', 'C/testcases/CWE789_Uncontrolled_Mem_Alloc/s01/', 'C/testcases/CWE789_Uncontrolled_Mem_Alloc/s02/', 'C/testcases/CWE484_Omitted_Break_Statement_in_Switch/', 'C/testcases/CWE194_Unexpected_Sign_Extension/', 'C/testcases/CWE194_Unexpected_Sign_Extension/s01/', 'C/testcases/CWE194_Unexpected_Sign_Extension/s02/', 'C/testcases/CWE563_Unused_Variable/', 'C/testcases/CWE588_Attempt_to_Access_Child_of_Non_Structure_Pointer/', 'C/testcases/CWE78_OS_Command_Injection/', 'C/testcases/CWE78_OS_Command_Injection/s03/', 'C/testcases/CWE78_OS_Command_Injection/s09/', 'C/testcases/CWE78_OS_Command_Injection/s07/', 'C/testcases/CWE78_OS_Command_Injection/s01/', 'C/testcases/CWE78_OS_Command_Injection/s05/', 'C/testcases/CWE78_OS_Command_Injection/s04/', 'C/testcases/CWE78_OS_Command_Injection/s08/', 'C/testcases/CWE78_OS_Command_Injection/s06/', 'C/testcases/CWE78_OS_Command_Injection/s02/', 'C/testcases/CWE390_Error_Without_Action/', 'C/testcases/CWE364_Signal_Handler_Race_Condition/', 'C/testcases/CWE226_Sensitive_Information_Uncleared_Before_Release/', 'C/testcases/CWE188_Reliance_on_Data_Memory_Layout/', 'C/testcases/CWE127_Buffer_Underread/', 'C/testcases/CWE127_Buffer_Underread/s03/', 'C/testcases/CWE127_Buffer_Underread/s01/', 'C/testcases/CWE127_Buffer_Underread/s04/', 'C/testcases/CWE127_Buffer_Underread/s02/', 'C/testcases/CWE775_Missing_Release_of_File_Descriptor_or_Handle/', 'C/testcases/CWE780_Use_of_RSA_Algorithm_Without_OAEP/', 'C/testcases/CWE667_Improper_Locking/', 'C/testcases/CWE843_Type_Confusion/', 'C/testcases/CWE587_Assignment_of_Fixed_Address_to_Pointer/', 'C/testcases/CWE480_Use_of_Incorrect_Operator/', 'C/testcases/CWE259_Hard_Coded_Password/', 'C/testcases/CWE762_Mismatched_Memory_Management_Routines/', 'C/testcases/CWE762_Mismatched_Memory_Management_Routines/s03/', 'C/testcases/CWE762_Mismatched_Memory_Management_Routines/s07/', 'C/testcases/CWE762_Mismatched_Memory_Management_Routines/s01/', 'C/testcases/CWE762_Mismatched_Memory_Management_Routines/s05/', 'C/testcases/CWE762_Mismatched_Memory_Management_Routines/s04/', 'C/testcases/CWE762_Mismatched_Memory_Management_Routines/s06/', 'C/testcases/CWE762_Mismatched_Memory_Management_Routines/s02/', 'C/testcases/CWE400_Resource_Exhaustion/', 'C/testcases/CWE400_Resource_Exhaustion/s01/', 'C/testcases/CWE400_Resource_Exhaustion/s02/', 'C/testcases/CWE223_Omission_of_Security_Relevant_Information/', 'C/testcases/CWE284_Improper_Access_Control/', 'C/testcases/CWE252_Unchecked_Return_Value/', 'C/testcases/CWE247_Reliance_on_DNS_Lookups_in_Security_Decision/', 'C/testcases/CWE620_Unverified_Password_Change/', 'C/testcases/CWE479_Signal_Handler_Use_of_Non_Reentrant_Function/', 'C/testcases/CWE535_Info_Exposure_Shell_Error/', 'C/testcases/CWE176_Improper_Handling_of_Unicode_Encoding/', 'C/testcases/CWE676_Use_of_Potentially_Dangerous_Function/', 'C/testcases/CWE459_Incomplete_Cleanup/', 'C/testcases/CWE377_Insecure_Temporary_File/', 'C/testcases/CWE690_NULL_Deref_From_Return/', 'C/testcases/CWE690_NULL_Deref_From_Return/s01/', 'C/testcases/CWE690_NULL_Deref_From_Return/s02/', 'C/testcases/CWE590_Free_Memory_Not_on_Heap/', 'C/testcases/CWE590_Free_Memory_Not_on_Heap/s03/', 'C/testcases/CWE590_Free_Memory_Not_on_Heap/s01/', 'C/testcases/CWE590_Free_Memory_Not_on_Heap/s05/', 'C/testcases/CWE590_Free_Memory_Not_on_Heap/s04/', 'C/testcases/CWE590_Free_Memory_Not_on_Heap/s02/', 'C/testcases/CWE191_Integer_Underflow/', 'C/testcases/CWE191_Integer_Underflow/s03/', 'C/testcases/CWE191_Integer_Underflow/s01/', 'C/testcases/CWE191_Integer_Underflow/s05/', 'C/testcases/CWE191_Integer_Underflow/s04/', 'C/testcases/CWE191_Integer_Underflow/s02/', 'C/testcases/CWE325_Missing_Required_Cryptographic_Step/', 'C/testcases/CWE190_Integer_Overflow/', 'C/testcases/CWE190_Integer_Overflow/s03/', 'C/testcases/CWE190_Integer_Overflow/s07/', 'C/testcases/CWE190_Integer_Overflow/s01/', 'C/testcases/CWE190_Integer_Overflow/s05/', 'C/testcases/CWE190_Integer_Overflow/s04/', 'C/testcases/CWE190_Integer_Overflow/s06/', 'C/testcases/CWE190_Integer_Overflow/s02/', 'C/testcases/CWE835_Infinite_Loop/', 'C/testcases/CWE615_Info_Exposure_by_Comment/', 'C/testcases/CWE672_Operation_on_Resource_After_Expiration_or_Release/', 'C/testcases/CWE440_Expected_Behavior_Violation/', 'C/testcases/CWE681_Incorrect_Conversion_Between_Numeric_Types/', 'C/testcases/CWE561_Dead_Code/', 'C/testcases/CWE122_Heap_Based_Buffer_Overflow/', 'C/testcases/CWE122_Heap_Based_Buffer_Overflow/s03/', 'C/testcases/CWE122_Heap_Based_Buffer_Overflow/s10/', 'C/testcases/CWE122_Heap_Based_Buffer_Overflow/s09/', 'C/testcases/CWE122_Heap_Based_Buffer_Overflow/s07/', 'C/testcases/CWE122_Heap_Based_Buffer_Overflow/s01/', 'C/testcases/CWE122_Heap_Based_Buffer_Overflow/s05/', 'C/testcases/CWE122_Heap_Based_Buffer_Overflow/s04/', 'C/testcases/CWE122_Heap_Based_Buffer_Overflow/s08/', 'C/testcases/CWE122_Heap_Based_Buffer_Overflow/s06/', 'C/testcases/CWE122_Heap_Based_Buffer_Overflow/s02/', 'C/testcases/CWE122_Heap_Based_Buffer_Overflow/s11/', 'C/testcases/CWE482_Comparing_Instead_of_Assigning/', 'C/testcases/CWE123_Write_What_Where_Condition/', 'C/testcases/CWE481_Assigning_Instead_of_Comparing/', 'C/testcases/CWE244_Heap_Inspection/', 'C/testcases/CWE426_Untrusted_Search_Path/', 'C/testcases/CWE468_Incorrect_Pointer_Scaling/', 'C/testcases/CWE475_Undefined_Behavior_for_Input_to_API/', 'C/testcases/CWE571_Expression_Always_True/', 'C/testcases/CWE591_Sensitive_Data_Storage_in_Improperly_Locked_Memory/', 'C/testcases/CWE272_Least_Privilege_Violation/', 'C/testcases/CWE197_Numeric_Truncation_Error/', 'C/testcases/CWE197_Numeric_Truncation_Error/s01/', 'C/testcases/CWE197_Numeric_Truncation_Error/s02/', 'C/testcases/CWE391_Unchecked_Error_Condition/', 'C/testcases/CWE328_Reversible_One_Way_Hash/', 'C/testcases/CWE464_Addition_of_Data_Structure_Sentinel/', 'C/testcases/CWE196_Unsigned_to_Signed_Conversion_Error/', 'C/testcases/CWE469_Use_of_Pointer_Subtraction_to_Determine_Size/', 'C/testcases/CWE338_Weak_PRNG/', 'C/testcases/CWE319_Cleartext_Tx_Sensitive_Info/', 'C/testcases/CWE476_NULL_Pointer_Dereference/', 'C/testcases/CWE195_Signed_to_Unsigned_Conversion_Error/', 'C/testcases/CWE195_Signed_to_Unsigned_Conversion_Error/s01/', 'C/testcases/CWE195_Signed_to_Unsigned_Conversion_Error/s02/', 'C/testcases/CWE467_Use_of_sizeof_on_Pointer_Type/', 'C/testcases/CWE511_Logic_Time_Bomb/', 'C/testcases/CWE124_Buffer_Underwrite/', 'C/testcases/CWE124_Buffer_Underwrite/s03/', 'C/testcases/CWE124_Buffer_Underwrite/s01/', 'C/testcases/CWE124_Buffer_Underwrite/s04/', 'C/testcases/CWE124_Buffer_Underwrite/s02/', 'C/testcases/CWE680_Integer_Overflow_to_Buffer_Overflow/', 'C/testcases/CWE396_Catch_Generic_Exception/', 'C/testcases/CWE114_Process_Control/', 'C/testcases/CWE397_Throw_Generic_Exception/', 'C/testcases/CWE36_Absolute_Path_Traversal/', 'C/testcases/CWE36_Absolute_Path_Traversal/s03/', 'C/testcases/CWE36_Absolute_Path_Traversal/s01/', 'C/testcases/CWE36_Absolute_Path_Traversal/s05/', 'C/testcases/CWE36_Absolute_Path_Traversal/s04/', 'C/testcases/CWE36_Absolute_Path_Traversal/s02/', 'C/testcases/CWE606_Unchecked_Loop_Condition/', 'C/testcases/CWE416_Use_After_Free/', 'C/testcases/CWE483_Incorrect_Block_Delimitation/', 'C/testcases/CWE134_Uncontrolled_Format_String/', 'C/testcases/CWE134_Uncontrolled_Format_String/s03/', 'C/testcases/CWE134_Uncontrolled_Format_String/s01/', 'C/testcases/CWE134_Uncontrolled_Format_String/s05/', 'C/testcases/CWE134_Uncontrolled_Format_String/s04/', 'C/testcases/CWE134_Uncontrolled_Format_String/s06/', 'C/testcases/CWE134_Uncontrolled_Format_String/s02/', 'C/testcases/CWE415_Double_Free/', 'C/testcases/CWE415_Double_Free/s01/', 'C/testcases/CWE415_Double_Free/s02/', 'C/testcases/CWE562_Return_of_Stack_Variable_Address/', 'C/testcases/CWE427_Uncontrolled_Search_Path_Element/', 'C/testcases/CWE404_Improper_Resource_Shutdown/', 'C/testcases/CWE500_Public_Static_Field_Not_Final/', 'C/testcases/CWE546_Suspicious_Comment/', 'C/testcases/CWE273_Improper_Check_for_Dropped_Privileges/', 'C/testcases/CWE242_Use_of_Inherently_Dangerous_Function/', 'C/testcases/CWE15_External_Control_of_System_or_Configuration_Setting/', 'C/testcases/CWE506_Embedded_Malicious_Code/', 'C/testcases/CWE510_Trapdoor/', 'C/testcases/CWE398_Poor_Code_Quality/', 'C/testcases/CWE785_Path_Manipulation_Function_Without_Max_Sized_Buffer/', 'C/testcases/CWE367_TOC_TOU/', 'C/testcases/CWE526_Info_Exposure_Environment_Variables/', 'C/testcases/CWE773_Missing_Reference_to_Active_File_Descriptor_or_Handle/', 'C/testcases/CWE23_Relative_Path_Traversal/', 'C/testcases/CWE23_Relative_Path_Traversal/s03/', 'C/testcases/CWE23_Relative_Path_Traversal/s01/', 'C/testcases/CWE23_Relative_Path_Traversal/s05/', 'C/testcases/CWE23_Relative_Path_Traversal/s04/', 'C/testcases/CWE23_Relative_Path_Traversal/s02/', 'C/testcases/CWE90_LDAP_Injection/', 'C/testcases/CWE327_Use_Broken_Crypto/', 'C/testcases/CWE605_Multiple_Binds_Same_Port/', 'C/testcases/CWE685_Function_Call_With_Incorrect_Number_of_Arguments/', 'C/testcases/CWE570_Expression_Always_False/', 'C/testcases/CWE321_Hard_Coded_Cryptographic_Key/', 'C/testcases/CWE832_Unlock_of_Resource_That_is_Not_Locked/', 'C/testcases/CWE401_Memory_Leak/', 'C/testcases/CWE401_Memory_Leak/s03/', 'C/testcases/CWE401_Memory_Leak/s01/', 'C/testcases/CWE401_Memory_Leak/s02/', 'C/testcases/CWE256_Plaintext_Storage_of_Password/', 'C/testcases/CWE457_Use_of_Uninitialized_Variable/', 'C/testcases/CWE457_Use_of_Uninitialized_Variable/s01/', 'C/testcases/CWE457_Use_of_Uninitialized_Variable/s02/', 'C/testcases/CWE126_Buffer_Overread/', 'C/testcases/CWE126_Buffer_Overread/s03/', 'C/testcases/CWE126_Buffer_Overread/s01/', 'C/testcases/CWE126_Buffer_Overread/s02/', 'C/testcases/CWE121_Stack_Based_Buffer_Overflow/', 'C/testcases/CWE121_Stack_Based_Buffer_Overflow/s03/', 'C/testcases/CWE121_Stack_Based_Buffer_Overflow/s09/', 'C/testcases/CWE121_Stack_Based_Buffer_Overflow/s07/', 'C/testcases/CWE121_Stack_Based_Buffer_Overflow/s01/', 'C/testcases/CWE121_Stack_Based_Buffer_Overflow/s05/', 'C/testcases/CWE121_Stack_Based_Buffer_Overflow/s04/', 'C/testcases/CWE121_Stack_Based_Buffer_Overflow/s08/', 'C/testcases/CWE121_Stack_Based_Buffer_Overflow/s06/', 'C/testcases/CWE121_Stack_Based_Buffer_Overflow/s02/', 'C/testcases/CWE666_Operation_on_Resource_in_Wrong_Phase_of_Lifetime/', 'C/testcases/CWE675_Duplicate_Operations_on_Resource/', 'C/testcases/CWE534_Info_Exposure_Debug_Log/', 'C/testcases/CWE253_Incorrect_Check_of_Function_Return_Value/', 'C/testcases/CWE688_Function_Call_With_Incorrect_Variable_or_Reference_as_Argument/', 'C/testcases/CWE366_Race_Condition_Within_Thread/', 'C/testcases/CWE617_Reachable_Assertion/', 'C/testcases/CWE369_Divide_by_Zero/', 'C/testcases/CWE369_Divide_by_Zero/s01/', 'C/testcases/CWE369_Divide_by_Zero/s02/', 'C/testcases/CWE674_Uncontrolled_Recursion/', 'C/testcases/CWE758_Undefined_Behavior/', 'C/testcases/CWE222_Truncation_of_Security_Relevant_Information/', 'C/testcases/CWE478_Missing_Default_Case_in_Switch/', 'C/testcases/CWE761_Free_Pointer_Not_at_Start_of_Buffer/', 'C/testcases/CWE665_Improper_Initialization/']\n",
            "\n",
            "\n"
          ]
        }
      ]
    },
    {
      "cell_type": "markdown",
      "metadata": {
        "id": "-qo0tciGQcNB"
      },
      "source": [
        "\n",
        "\n",
        "*   A Look at 2 samples from the  juliet dataset\n",
        "\n"
      ]
    },
    {
      "cell_type": "code",
      "metadata": {
        "colab": {
          "base_uri": "https://localhost:8080/"
        },
        "id": "5TLlzXQma5b_",
        "outputId": "ab53e350-bfbd-4a37-e137-56fb7cb85a37"
      },
      "source": [
        "for i in range(100000,100002):\n",
        "  print(juliet_dataset_ls[i])\n",
        "  with zipfile.ZipFile('Juliet_Test_Suite_v1.3_for_C_Cpp.zip', 'r') as juliet_dataset:\n",
        "    juliet_dataset_ls = juliet_dataset.namelist()\n",
        "    juliet_soure_code_file = juliet_dataset_ls[i]\n",
        "    print(juliet_dataset.read(juliet_soure_code_file).decode('utf-8'))\n",
        " "
      ],
      "execution_count": 30,
      "outputs": [
        {
          "output_type": "stream",
          "name": "stdout",
          "text": [
            "C/testcases/CWE121_Stack_Based_Buffer_Overflow/s02/CWE121_Stack_Based_Buffer_Overflow__CWE193_char_declare_loop_12.c\n",
            "/* TEMPLATE GENERATED TESTCASE FILE\n",
            "Filename: CWE121_Stack_Based_Buffer_Overflow__CWE806_char_alloca_ncpy_01.c\n",
            "Label Definition File: CWE121_Stack_Based_Buffer_Overflow__CWE806.label.xml\n",
            "Template File: sources-sink-01.tmpl.c\n",
            "*/\n",
            "/*\n",
            " * @description\n",
            " * CWE: 121 Stack Based Buffer Overflow\n",
            " * BadSource:  Initialize data as a large string\n",
            " * GoodSource: Initialize data as a small string\n",
            " * Sink: ncpy\n",
            " *    BadSink : Copy data to string using strncpy\n",
            " * Flow Variant: 01 Baseline\n",
            " *\n",
            " * */\n",
            "\n",
            "#include \"std_testcase.h\"\n",
            "\n",
            "#include <wchar.h>\n",
            "\n",
            "#ifndef OMITBAD\n",
            "\n",
            "void CWE121_Stack_Based_Buffer_Overflow__CWE806_char_alloca_ncpy_01_bad()\n",
            "{\n",
            "    char * data;\n",
            "    char * dataBuffer = (char *)ALLOCA(100*sizeof(char));\n",
            "    data = dataBuffer;\n",
            "    /* FLAW: Initialize data as a large buffer that is larger than the small buffer used in the sink */\n",
            "    memset(data, 'A', 100-1); /* fill with 'A's */\n",
            "    data[100-1] = '\\0'; /* null terminate */\n",
            "    {\n",
            "        char dest[50] = \"\";\n",
            "        /* POTENTIAL FLAW: Possible buffer overflow if data is larger than dest */\n",
            "        strncpy(dest, data, strlen(data));\n",
            "        dest[50-1] = '\\0'; /* Ensure the destination buffer is null terminated */\n",
            "        printLine(data);\n",
            "    }\n",
            "}\n",
            "\n",
            "#endif /* OMITBAD */\n",
            "\n",
            "#ifndef OMITGOOD\n",
            "\n",
            "/* goodG2B uses the GoodSource with the BadSink */\n",
            "static void goodG2B()\n",
            "{\n",
            "    char * data;\n",
            "    char * dataBuffer = (char *)ALLOCA(100*sizeof(char));\n",
            "    data = dataBuffer;\n",
            "    /* FIX: Initialize data as a small buffer that as small or smaller than the small buffer used in the sink */\n",
            "    memset(data, 'A', 50-1); /* fill with 'A's */\n",
            "    data[50-1] = '\\0'; /* null terminate */\n",
            "    {\n",
            "        char dest[50] = \"\";\n",
            "        /* POTENTIAL FLAW: Possible buffer overflow if data is larger than dest */\n",
            "        strncpy(dest, data, strlen(data));\n",
            "        dest[50-1] = '\\0'; /* Ensure the destination buffer is null terminated */\n",
            "        printLine(data);\n",
            "    }\n",
            "}\n",
            "\n",
            "void CWE121_Stack_Based_Buffer_Overflow__CWE806_char_alloca_ncpy_01_good()\n",
            "{\n",
            "    goodG2B();\n",
            "}\n",
            "\n",
            "#endif /* OMITGOOD */\n",
            "\n",
            "/* Below is the main(). It is only used when building this testcase on\n",
            " * its own for testing or for building a binary to use in testing binary\n",
            " * analysis tools. It is not used when compiling all the testcases as one\n",
            " * application, which is how source code analysis tools are tested.\n",
            " */\n",
            "\n",
            "#ifdef INCLUDEMAIN\n",
            "\n",
            "int main(int argc, char * argv[])\n",
            "{\n",
            "    /* seed randomness */\n",
            "    srand( (unsigned)time(NULL) );\n",
            "#ifndef OMITGOOD\n",
            "    printLine(\"Calling good()...\");\n",
            "    CWE121_Stack_Based_Buffer_Overflow__CWE806_char_alloca_ncpy_01_good();\n",
            "    printLine(\"Finished good()\");\n",
            "#endif /* OMITGOOD */\n",
            "#ifndef OMITBAD\n",
            "    printLine(\"Calling bad()...\");\n",
            "    CWE121_Stack_Based_Buffer_Overflow__CWE806_char_alloca_ncpy_01_bad();\n",
            "    printLine(\"Finished bad()\");\n",
            "#endif /* OMITBAD */\n",
            "    return 0;\n",
            "}\n",
            "\n",
            "#endif\n",
            "\n",
            "C/testcases/CWE121_Stack_Based_Buffer_Overflow/s06/CWE121_Stack_Based_Buffer_Overflow__CWE806_char_alloca_ncpy_32.c\n",
            "/* TEMPLATE GENERATED TESTCASE FILE\n",
            "Filename: CWE121_Stack_Based_Buffer_Overflow__CWE806_char_alloca_ncpy_32.c\n",
            "Label Definition File: CWE121_Stack_Based_Buffer_Overflow__CWE806.label.xml\n",
            "Template File: sources-sink-32.tmpl.c\n",
            "*/\n",
            "/*\n",
            " * @description\n",
            " * CWE: 121 Stack Based Buffer Overflow\n",
            " * BadSource:  Initialize data as a large string\n",
            " * GoodSource: Initialize data as a small string\n",
            " * Sink: ncpy\n",
            " *    BadSink : Copy data to string using strncpy\n",
            " * Flow Variant: 32 Data flow using two pointers to the same value within the same function\n",
            " *\n",
            " * */\n",
            "\n",
            "#include \"std_testcase.h\"\n",
            "\n",
            "#include <wchar.h>\n",
            "\n",
            "#ifndef OMITBAD\n",
            "\n",
            "void CWE121_Stack_Based_Buffer_Overflow__CWE806_char_alloca_ncpy_32_bad()\n",
            "{\n",
            "    char * data;\n",
            "    char * *dataPtr1 = &data;\n",
            "    char * *dataPtr2 = &data;\n",
            "    char * dataBuffer = (char *)ALLOCA(100*sizeof(char));\n",
            "    data = dataBuffer;\n",
            "    {\n",
            "        char * data = *dataPtr1;\n",
            "        /* FLAW: Initialize data as a large buffer that is larger than the small buffer used in the sink */\n",
            "        memset(data, 'A', 100-1); /* fill with 'A's */\n",
            "        data[100-1] = '\\0'; /* null terminate */\n",
            "        *dataPtr1 = data;\n",
            "    }\n",
            "    {\n",
            "        char * data = *dataPtr2;\n",
            "        {\n",
            "            char dest[50] = \"\";\n",
            "            /* POTENTIAL FLAW: Possible buffer overflow if data is larger than dest */\n",
            "            strncpy(dest, data, strlen(data));\n",
            "            dest[50-1] = '\\0'; /* Ensure the destination buffer is null terminated */\n",
            "            printLine(data);\n",
            "        }\n",
            "    }\n",
            "}\n",
            "\n",
            "#endif /* OMITBAD */\n",
            "\n",
            "#ifndef OMITGOOD\n",
            "\n",
            "/* goodG2B() uses the GoodSource with the BadSink */\n",
            "static void goodG2B()\n",
            "{\n",
            "    char * data;\n",
            "    char * *dataPtr1 = &data;\n",
            "    char * *dataPtr2 = &data;\n",
            "    char * dataBuffer = (char *)ALLOCA(100*sizeof(char));\n",
            "    data = dataBuffer;\n",
            "    {\n",
            "        char * data = *dataPtr1;\n",
            "        /* FIX: Initialize data as a small buffer that as small or smaller than the small buffer used in the sink */\n",
            "        memset(data, 'A', 50-1); /* fill with 'A's */\n",
            "        data[50-1] = '\\0'; /* null terminate */\n",
            "        *dataPtr1 = data;\n",
            "    }\n",
            "    {\n",
            "        char * data = *dataPtr2;\n",
            "        {\n",
            "            char dest[50] = \"\";\n",
            "            /* POTENTIAL FLAW: Possible buffer overflow if data is larger than dest */\n",
            "            strncpy(dest, data, strlen(data));\n",
            "            dest[50-1] = '\\0'; /* Ensure the destination buffer is null terminated */\n",
            "            printLine(data);\n",
            "        }\n",
            "    }\n",
            "}\n",
            "\n",
            "void CWE121_Stack_Based_Buffer_Overflow__CWE806_char_alloca_ncpy_32_good()\n",
            "{\n",
            "    goodG2B();\n",
            "}\n",
            "\n",
            "#endif /* OMITGOOD */\n",
            "\n",
            "/* Below is the main(). It is only used when building this testcase on\n",
            " * its own for testing or for building a binary to use in testing binary\n",
            " * analysis tools. It is not used when compiling all the testcases as one\n",
            " * application, which is how source code analysis tools are tested.\n",
            " */\n",
            "#ifdef INCLUDEMAIN\n",
            "\n",
            "int main(int argc, char * argv[])\n",
            "{\n",
            "    /* seed randomness */\n",
            "    srand( (unsigned)time(NULL) );\n",
            "#ifndef OMITGOOD\n",
            "    printLine(\"Calling good()...\");\n",
            "    CWE121_Stack_Based_Buffer_Overflow__CWE806_char_alloca_ncpy_32_good();\n",
            "    printLine(\"Finished good()\");\n",
            "#endif /* OMITGOOD */\n",
            "#ifndef OMITBAD\n",
            "    printLine(\"Calling bad()...\");\n",
            "    CWE121_Stack_Based_Buffer_Overflow__CWE806_char_alloca_ncpy_32_bad();\n",
            "    printLine(\"Finished bad()\");\n",
            "#endif /* OMITBAD */\n",
            "    return 0;\n",
            "}\n",
            "\n",
            "#endif\n",
            "\n"
          ]
        }
      ]
    },
    {
      "cell_type": "markdown",
      "metadata": {
        "id": "xxpWxefjq6wQ"
      },
      "source": [
        "*   Pickling juliet_dataset created lists into a files for use later\n",
        "\n"
      ]
    },
    {
      "cell_type": "code",
      "metadata": {
        "id": "U1fDT1sTE2R-"
      },
      "source": [
        "with open('juliet_dataset_CWE_testcases_paths_ls_file', 'wb') as fp:\n",
        "  pickle.dump (juliet_dataset_CWE_testcases_paths_ls, fp)"
      ],
      "execution_count": 33,
      "outputs": []
    },
    {
      "cell_type": "code",
      "metadata": {
        "id": "_-izgSBpsRmd"
      },
      "source": [
        "with open('juliet_dataset_ls_file', 'wb') as fp:\n",
        "  pickle.dump (juliet_dataset_ls, fp)"
      ],
      "execution_count": 34,
      "outputs": []
    },
    {
      "cell_type": "code",
      "metadata": {
        "id": "86kLkvu0SJkU"
      },
      "source": [
        "with open('juliet_dataset_CWE_ls_file', 'wb') as fp:\n",
        "  pickle.dump (juliet_dataset_CWE_ls, fp)"
      ],
      "execution_count": 35,
      "outputs": []
    },
    {
      "cell_type": "markdown",
      "metadata": {
        "id": "yjx1UHQGVCG6"
      },
      "source": [
        "#Summary of Acquired Data"
      ]
    },
    {
      "cell_type": "code",
      "metadata": {
        "colab": {
          "base_uri": "https://localhost:8080/"
        },
        "id": "SXULmokOEmsP",
        "outputId": "b24b265c-5665-425a-85c1-6f094bd2bc2e"
      },
      "source": [
        "!ls"
      ],
      "execution_count": 38,
      "outputs": [
        {
          "output_type": "stream",
          "name": "stdout",
          "text": [
            "drive\n",
            "juliet_dataset_CWE_ls_file\n",
            "juliet_dataset_CWE_testcases_paths_ls_file\n",
            "juliet_dataset_ls_file\n",
            "Juliet_Test_Suite_v1.3_for_C_Cpp.zip\n",
            "ProgramData\n",
            "programs.tar.gz\n",
            "sample_data\n"
          ]
        }
      ]
    },
    {
      "cell_type": "markdown",
      "metadata": {
        "id": "uRMFT3swjA4L"
      },
      "source": [
        "##Create achive of raw data for use in next phase of pipeline"
      ]
    },
    {
      "cell_type": "code",
      "metadata": {
        "id": "N6J4RKeceFe9"
      },
      "source": [
        "#create folder into which to store acquired data and meta data lists\n",
        "!mkdir data_acquisition"
      ],
      "execution_count": 39,
      "outputs": []
    },
    {
      "cell_type": "code",
      "metadata": {
        "id": "TAZnIL9ycdUv"
      },
      "source": [
        "#Move Acquired data and pickled metadata into data_acquisition folder for compression and curating for next phase of Pipelne\n",
        "%cp -r programs.tar.gz ProgramData Juliet_Test_Suite_v1.3_for_C_Cpp.zip juliet_dataset_CWE_testcases_paths_ls_file juliet_dataset_CWE_ls_file juliet_dataset_ls_file data_acquisition/"
      ],
      "execution_count": 42,
      "outputs": []
    },
    {
      "cell_type": "code",
      "metadata": {
        "colab": {
          "base_uri": "https://localhost:8080/",
          "height": 35
        },
        "id": "1_NYK5UVXyXI",
        "outputId": "217ba750-dc37-40e8-8586-811757ae2de0"
      },
      "source": [
        "#Creating tar archive of the raw data \n",
        "shutil.make_archive('raw_data','tar','/content/','data_acquisition')"
      ],
      "execution_count": 46,
      "outputs": [
        {
          "output_type": "execute_result",
          "data": {
            "application/vnd.google.colaboratory.intrinsic+json": {
              "type": "string"
            },
            "text/plain": [
              "'/content/raw_data.tar'"
            ]
          },
          "metadata": {},
          "execution_count": 46
        }
      ]
    },
    {
      "cell_type": "code",
      "metadata": {
        "colab": {
          "base_uri": "https://localhost:8080/"
        },
        "id": "XGlAN8gbiK2O",
        "outputId": "6554a173-6b1f-4282-b9bc-f89fee59cc8b"
      },
      "source": [
        "#Verify tarball of raw-data\n",
        "temp_archive = []\n",
        "with tarfile.open('raw_data.tar', 'r') as green:\n",
        "  for member in green:\n",
        "    if member.isdir() and member.name.count ('/') > 0:\n",
        "     # The '/' > 0 is to ensure the root directory is ignored \n",
        "       print(member.name) \n",
        "    if member.isfile():\n",
        "     temp_archive.append (member.name)\n",
        "print(\"\\n Number of files in raw_data tarball for export to googledrive for use later {0}\".format(len(temp_archive)))"
      ],
      "execution_count": 49,
      "outputs": [
        {
          "output_type": "stream",
          "name": "stdout",
          "text": [
            "data_acquisition/ProgramData\n",
            "data_acquisition/ProgramData/1\n",
            "data_acquisition/ProgramData/10\n",
            "data_acquisition/ProgramData/100\n",
            "data_acquisition/ProgramData/101\n",
            "data_acquisition/ProgramData/102\n",
            "data_acquisition/ProgramData/103\n",
            "data_acquisition/ProgramData/104\n",
            "data_acquisition/ProgramData/11\n",
            "data_acquisition/ProgramData/12\n",
            "data_acquisition/ProgramData/13\n",
            "data_acquisition/ProgramData/14\n",
            "data_acquisition/ProgramData/15\n",
            "data_acquisition/ProgramData/16\n",
            "data_acquisition/ProgramData/17\n",
            "data_acquisition/ProgramData/18\n",
            "data_acquisition/ProgramData/19\n",
            "data_acquisition/ProgramData/2\n",
            "data_acquisition/ProgramData/20\n",
            "data_acquisition/ProgramData/21\n",
            "data_acquisition/ProgramData/22\n",
            "data_acquisition/ProgramData/23\n",
            "data_acquisition/ProgramData/24\n",
            "data_acquisition/ProgramData/25\n",
            "data_acquisition/ProgramData/26\n",
            "data_acquisition/ProgramData/27\n",
            "data_acquisition/ProgramData/28\n",
            "data_acquisition/ProgramData/29\n",
            "data_acquisition/ProgramData/3\n",
            "data_acquisition/ProgramData/30\n",
            "data_acquisition/ProgramData/31\n",
            "data_acquisition/ProgramData/32\n",
            "data_acquisition/ProgramData/33\n",
            "data_acquisition/ProgramData/34\n",
            "data_acquisition/ProgramData/35\n",
            "data_acquisition/ProgramData/36\n",
            "data_acquisition/ProgramData/37\n",
            "data_acquisition/ProgramData/38\n",
            "data_acquisition/ProgramData/39\n",
            "data_acquisition/ProgramData/4\n",
            "data_acquisition/ProgramData/40\n",
            "data_acquisition/ProgramData/41\n",
            "data_acquisition/ProgramData/42\n",
            "data_acquisition/ProgramData/43\n",
            "data_acquisition/ProgramData/44\n",
            "data_acquisition/ProgramData/45\n",
            "data_acquisition/ProgramData/46\n",
            "data_acquisition/ProgramData/47\n",
            "data_acquisition/ProgramData/48\n",
            "data_acquisition/ProgramData/49\n",
            "data_acquisition/ProgramData/5\n",
            "data_acquisition/ProgramData/50\n",
            "data_acquisition/ProgramData/51\n",
            "data_acquisition/ProgramData/52\n",
            "data_acquisition/ProgramData/53\n",
            "data_acquisition/ProgramData/54\n",
            "data_acquisition/ProgramData/55\n",
            "data_acquisition/ProgramData/56\n",
            "data_acquisition/ProgramData/57\n",
            "data_acquisition/ProgramData/58\n",
            "data_acquisition/ProgramData/59\n",
            "data_acquisition/ProgramData/6\n",
            "data_acquisition/ProgramData/60\n",
            "data_acquisition/ProgramData/61\n",
            "data_acquisition/ProgramData/62\n",
            "data_acquisition/ProgramData/63\n",
            "data_acquisition/ProgramData/64\n",
            "data_acquisition/ProgramData/65\n",
            "data_acquisition/ProgramData/66\n",
            "data_acquisition/ProgramData/67\n",
            "data_acquisition/ProgramData/68\n",
            "data_acquisition/ProgramData/69\n",
            "data_acquisition/ProgramData/7\n",
            "data_acquisition/ProgramData/70\n",
            "data_acquisition/ProgramData/71\n",
            "data_acquisition/ProgramData/72\n",
            "data_acquisition/ProgramData/73\n",
            "data_acquisition/ProgramData/74\n",
            "data_acquisition/ProgramData/75\n",
            "data_acquisition/ProgramData/76\n",
            "data_acquisition/ProgramData/77\n",
            "data_acquisition/ProgramData/78\n",
            "data_acquisition/ProgramData/79\n",
            "data_acquisition/ProgramData/8\n",
            "data_acquisition/ProgramData/80\n",
            "data_acquisition/ProgramData/81\n",
            "data_acquisition/ProgramData/82\n",
            "data_acquisition/ProgramData/83\n",
            "data_acquisition/ProgramData/84\n",
            "data_acquisition/ProgramData/85\n",
            "data_acquisition/ProgramData/86\n",
            "data_acquisition/ProgramData/87\n",
            "data_acquisition/ProgramData/88\n",
            "data_acquisition/ProgramData/89\n",
            "data_acquisition/ProgramData/9\n",
            "data_acquisition/ProgramData/90\n",
            "data_acquisition/ProgramData/91\n",
            "data_acquisition/ProgramData/92\n",
            "data_acquisition/ProgramData/93\n",
            "data_acquisition/ProgramData/94\n",
            "data_acquisition/ProgramData/95\n",
            "data_acquisition/ProgramData/96\n",
            "data_acquisition/ProgramData/97\n",
            "data_acquisition/ProgramData/98\n",
            "data_acquisition/ProgramData/99\n",
            "\n",
            " Number of files in raw_data tarball for export to googledrive for use later 52005\n"
          ]
        }
      ]
    },
    {
      "cell_type": "markdown",
      "metadata": {
        "id": "LPenC84slEDb"
      },
      "source": [
        "##Store raw_data tarball in googledrive  for use in next phase of pipeline"
      ]
    },
    {
      "cell_type": "code",
      "metadata": {
        "id": "x0TQHLbulDYY"
      },
      "source": [
        "!cp raw_data.tar \"/content/drive/My Drive/colab_root/2021/\""
      ],
      "execution_count": 50,
      "outputs": []
    }
  ]
}