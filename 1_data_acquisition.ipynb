{
  "nbformat": 4,
  "nbformat_minor": 0,
  "metadata": {
    "colab": {
      "name": "1.data_acquisition.ipynb",
      "provenance": [],
      "collapsed_sections": [
        "Vb0nhCZKsJZO"
      ],
      "include_colab_link": true
    },
    "kernelspec": {
      "display_name": "Python 3",
      "name": "python3"
    }
  },
  "cells": [
    {
      "cell_type": "markdown",
      "metadata": {
        "id": "view-in-github",
        "colab_type": "text"
      },
      "source": [
        "<a href=\"https://colab.research.google.com/github/Ebenx007/compchem-Compsci-shared-rep/blob/main/1_data_acquisition.ipynb\" target=\"_parent\"><img src=\"https://colab.research.google.com/assets/colab-badge.svg\" alt=\"Open In Colab\"/></a>"
      ]
    },
    {
      "cell_type": "code",
      "metadata": {
        "id": "yQP7pmnVpNHU"
      },
      "source": [
        "from google.colab import drive\n",
        "from pathlib import Path\n",
        "import sys\n",
        "import os\n",
        "import shutil\n",
        "import tarfile\n",
        "import zipfile\n",
        "import subprocess\n",
        "import pickle\n",
        "import re\n",
        "import glob"
      ],
      "execution_count": null,
      "outputs": []
    },
    {
      "cell_type": "code",
      "metadata": {
        "id": "v24G22PeDBtU",
        "colab": {
          "base_uri": "https://localhost:8080/"
        },
        "outputId": "58604abd-fd38-479f-cdb3-fe7c5a43a0c8"
      },
      "source": [
        "drive.mount('/content/drive/')"
      ],
      "execution_count": null,
      "outputs": [
        {
          "output_type": "stream",
          "name": "stdout",
          "text": [
            "Mounted at /content/drive/\n"
          ]
        }
      ]
    },
    {
      "cell_type": "markdown",
      "metadata": {
        "id": "3Emc1UbhEEjn"
      },
      "source": [
        "\n",
        "**DATA ACQUISITION**\n",
        " \n",
        "*   Get Data\n",
        "*   Explore Data"
      ]
    },
    {
      "cell_type": "markdown",
      "metadata": {
        "id": "-ngN0JvNrVf1"
      },
      "source": [
        "# 1.  GET DATA\n",
        "\n",
        "---\n",
        "\n"
      ]
    },
    {
      "cell_type": "markdown",
      "metadata": {
        "id": "2dG-Cq5zMvVc"
      },
      "source": [
        "##1.1 Main Dataset: C/C++ Programming Competition Submissions.\n",
        "Source: Pedagogical Programming Open Judge (OJ) system[(Mou et 2016)](https://arxiv.org/pdf/1409.5718.pdf)."
      ]
    },
    {
      "cell_type": "markdown",
      "metadata": {
        "id": "WUzAuMsvgzGj"
      },
      "source": [
        "Note: \n",
        "*   Colab will not download tarball. \n",
        "Hence googledrive.\n",
        "*   Raw data availabe for download [here](https://drive.google.com/file/d/0B2i-vWnOu7MxVlJwQXN6eVNONUU/view?usp=sharing) \n",
        "\n",
        "\n",
        "\n",
        "\n",
        "\n",
        "\n"
      ]
    },
    {
      "cell_type": "code",
      "metadata": {
        "id": "t216YDZMNEUM"
      },
      "source": [
        "!cp \"/content/drive/My Drive/colab_root/2021/programs.tar.gz\" ."
      ],
      "execution_count": null,
      "outputs": []
    },
    {
      "cell_type": "markdown",
      "metadata": {
        "id": "i0ZioIv48c_s"
      },
      "source": [
        "###1.1.1 Exploration"
      ]
    },
    {
      "cell_type": "markdown",
      "metadata": {
        "id": "4MJ_uh58xbtu"
      },
      "source": [
        "\n",
        ">   *   TOP LEVEL VIEW  of directories in the dataset tarball.\n",
        "\n"
      ]
    },
    {
      "cell_type": "code",
      "metadata": {
        "id": "WvkLR1Q8TBx1"
      },
      "source": [
        "#Also abstract into list for easy usage later\n",
        "submissions_ls = []\n",
        "submissions_tasks_ls = []\n",
        "with tarfile.open('programs.tar.gz', 'r:gz') as submissions:\n",
        "  for member in submissions:\n",
        "   if member.isdir() and member.name.count ('/') > 0:\n",
        "     # The '/' > 0 is to ensure the root directory is ignored \n",
        "       submissions_tasks_ls.append(member.name)\n",
        "       print(member.name)\n",
        "   if member.isfile():\n",
        "     submissions_ls.append (member.name)\n",
        "print(\"\\n{0} source code files in Coding competition submissions dataset\".format(len(submissions_ls)))\n",
        "print(\"\\nSubmissions on {0} coding assignments(labels)\".format(len(submissions_tasks_ls)))\n",
        "print()"
      ],
      "execution_count": null,
      "outputs": []
    },
    {
      "cell_type": "markdown",
      "metadata": {
        "id": "EDpgM5QpbcIC"
      },
      "source": [
        "> *   A closer look at 2 samples from the 52000 submissions:"
      ]
    },
    {
      "cell_type": "code",
      "metadata": {
        "id": "rrl-_dKW0t1p"
      },
      "source": [
        "for i in range(2,4):\n",
        "  print(submissions_ls[i])\n",
        "  with tarfile.open('programs.tar.gz', 'r') as submissions:\n",
        "    source_code_file = submissions.extractfile(submissions_ls[i])\n",
        "    print(source_code_file.read().decode('utf-8'))\n",
        "\n"
      ],
      "execution_count": null,
      "outputs": []
    },
    {
      "cell_type": "code",
      "metadata": {
        "id": "VsvvXQ_azsaV"
      },
      "source": [
        "with tarfile.open('programs.tar.gz', 'r') as f:\n",
        "  f.extractall()\n",
        "  "
      ],
      "execution_count": null,
      "outputs": []
    },
    {
      "cell_type": "code",
      "metadata": {
        "colab": {
          "base_uri": "https://localhost:8080/"
        },
        "id": "tVBdjf1MTQu9",
        "outputId": "570457c0-59fe-4e7f-e16a-6cfecc324cb5"
      },
      "source": [
        "active_dir = '/content/ProgramData/'\n",
        "test_file_counter = 0\n",
        "for path, subdirs, files in os.walk(active_dir):\n",
        "    for name in files:\n",
        "      test_file_counter +=1\n",
        "print(\"{} files extracted from Programming Competition Submissions archive. \".format(test_file_counter))"
      ],
      "execution_count": null,
      "outputs": [
        {
          "output_type": "stream",
          "name": "stdout",
          "text": [
            "52000 files extracted from Programming Competition Submissions archive. \n"
          ]
        }
      ]
    },
    {
      "cell_type": "markdown",
      "metadata": {
        "id": "HIHVWdLZd5hU"
      },
      "source": [
        "##1.2 New Dataset: Juliet C/C++ test suite\n",
        "Source: National Institute of Standards and Technology(NIST)[Software Assurance Reference Dataset (SARD)](https://samate.nist.gov/SRD/testsuite.php)."
      ]
    },
    {
      "cell_type": "code",
      "metadata": {
        "colab": {
          "base_uri": "https://localhost:8080/"
        },
        "id": "isPVS6RgeTj2",
        "outputId": "ef62f0e3-352c-4dcf-f0df-de6cdfce8d31"
      },
      "source": [
        "!wget https://samate.nist.gov/SARD/testsuites/juliet/Juliet_Test_Suite_v1.3_for_C_Cpp.zip"
      ],
      "execution_count": null,
      "outputs": [
        {
          "output_type": "stream",
          "name": "stdout",
          "text": [
            "--2021-10-12 15:51:13--  https://samate.nist.gov/SARD/testsuites/juliet/Juliet_Test_Suite_v1.3_for_C_Cpp.zip\n",
            "Resolving samate.nist.gov (samate.nist.gov)... 129.6.13.19, 2610:20:6005:13::19\n",
            "Connecting to samate.nist.gov (samate.nist.gov)|129.6.13.19|:443... connected.\n",
            "HTTP request sent, awaiting response... 200 OK\n",
            "Length: 152957342 (146M) [application/zip]\n",
            "Saving to: ‘Juliet_Test_Suite_v1.3_for_C_Cpp.zip’\n",
            "\n",
            "Juliet_Test_Suite_v 100%[===================>] 145.87M  43.9MB/s    in 3.7s    \n",
            "\n",
            "2021-10-12 15:51:17 (39.1 MB/s) - ‘Juliet_Test_Suite_v1.3_for_C_Cpp.zip’ saved [152957342/152957342]\n",
            "\n"
          ]
        }
      ]
    },
    {
      "cell_type": "markdown",
      "metadata": {
        "id": "cDss0q_nNDRm"
      },
      "source": [
        "###1.2.1 Exploration"
      ]
    },
    {
      "cell_type": "markdown",
      "metadata": {
        "id": "iQj64sDGH8GW"
      },
      "source": [
        "\n",
        "\n",
        "*   TOP LEVEL VIEW of Juliet C/C++ test suite dataset. \n",
        "\n"
      ]
    },
    {
      "cell_type": "code",
      "metadata": {
        "id": "uuQJbN8GfEPF"
      },
      "source": [
        "#Extract meta data from archive into lists for use later in processing data\n",
        "juliet_dataset_CWE_testcases_paths_ls = []\n",
        "juliet_dataset_CWE_ls = []\n",
        "juliet_dataset_ls = []\n",
        "with zipfile.ZipFile('Juliet_Test_Suite_v1.3_for_C_Cpp.zip', 'r') as juliet_dataset:\n",
        "  for member in juliet_dataset.namelist():\n",
        "    if member.endswith('/') and member.count('/') > 2:\n",
        "      # > 2  '/' count to ignore none testcases related directories in the archive and focus on your data set of interesti.e. testcases\n",
        "      juliet_dataset_CWE_testcases_paths_ls.append(member)\n",
        "      redx = re.findall(r'\\bCWE\\w.*', member)\n",
        "      juliet_dataset_CWE_ls.append(redx[0])\n",
        "      print(redx[0])  \n",
        "    if (not member.endswith('/')) and member.count('/') > 2:\n",
        "      # > 2 '/' count to append to list only files in testcases directories, ignoring files inthe root directory  \n",
        "      juliet_dataset_ls.append(member) \n",
        "\n",
        "print(\"\\nJuliet C/C++ test suite contains {0} source code files(too large to be printed on colab's strout)\".format(len(juliet_dataset_ls)))\n",
        "print(\"\\nThe files are divided into {0} CWE IDed testcases (Labels)\".format(len(juliet_dataset_CWE_ls)))\n",
        "print(\"\\nThe {0} CWE IDed testcases have paths\".format(len(juliet_dataset_CWE_testcases_paths_ls)))\n",
        "print('\\n' + str(juliet_dataset_CWE_testcases_paths_ls))\n",
        "print('\\n')"
      ],
      "execution_count": null,
      "outputs": []
    },
    {
      "cell_type": "markdown",
      "metadata": {
        "id": "-qo0tciGQcNB"
      },
      "source": [
        "\n",
        "\n",
        "*   A Look at 2 samples from the  juliet dataset\n",
        "\n"
      ]
    },
    {
      "cell_type": "code",
      "metadata": {
        "id": "5TLlzXQma5b_"
      },
      "source": [
        "for i in range(100000,100002):\n",
        "  print(juliet_dataset_ls[i])\n",
        "  with zipfile.ZipFile('Juliet_Test_Suite_v1.3_for_C_Cpp.zip', 'r') as juliet_dataset:\n",
        "    juliet_dataset_ls = juliet_dataset.namelist()\n",
        "    juliet_soure_code_file = juliet_dataset_ls[i]\n",
        "    print(juliet_dataset.read(juliet_soure_code_file).decode('utf-8'))\n",
        " "
      ],
      "execution_count": null,
      "outputs": []
    },
    {
      "cell_type": "markdown",
      "metadata": {
        "id": "xxpWxefjq6wQ"
      },
      "source": [
        "*   Pickling juliet_dataset created lists into a files for use later\n",
        "\n"
      ]
    },
    {
      "cell_type": "code",
      "metadata": {
        "id": "U1fDT1sTE2R-"
      },
      "source": [
        "with open('juliet_dataset_CWE_testcases_paths_ls_file', 'wb') as fp:\n",
        "  pickle.dump (juliet_dataset_CWE_testcases_paths_ls, fp)"
      ],
      "execution_count": null,
      "outputs": []
    },
    {
      "cell_type": "code",
      "metadata": {
        "id": "_-izgSBpsRmd"
      },
      "source": [
        "with open('juliet_dataset_ls_file', 'wb') as fp:\n",
        "  pickle.dump (juliet_dataset_ls, fp)"
      ],
      "execution_count": null,
      "outputs": []
    },
    {
      "cell_type": "code",
      "metadata": {
        "id": "86kLkvu0SJkU"
      },
      "source": [
        "with open('juliet_dataset_CWE_ls_file', 'wb') as fp:\n",
        "  pickle.dump (juliet_dataset_CWE_ls, fp)"
      ],
      "execution_count": null,
      "outputs": []
    },
    {
      "cell_type": "markdown",
      "metadata": {
        "id": "yjx1UHQGVCG6"
      },
      "source": [
        "#Summary of Acquired Data"
      ]
    },
    {
      "cell_type": "code",
      "metadata": {
        "colab": {
          "base_uri": "https://localhost:8080/"
        },
        "id": "SXULmokOEmsP",
        "outputId": "b24b265c-5665-425a-85c1-6f094bd2bc2e"
      },
      "source": [
        "!ls"
      ],
      "execution_count": null,
      "outputs": [
        {
          "output_type": "stream",
          "name": "stdout",
          "text": [
            "drive\n",
            "juliet_dataset_CWE_ls_file\n",
            "juliet_dataset_CWE_testcases_paths_ls_file\n",
            "juliet_dataset_ls_file\n",
            "Juliet_Test_Suite_v1.3_for_C_Cpp.zip\n",
            "ProgramData\n",
            "programs.tar.gz\n",
            "sample_data\n"
          ]
        }
      ]
    },
    {
      "cell_type": "markdown",
      "metadata": {
        "id": "uRMFT3swjA4L"
      },
      "source": [
        "##Create achive of raw data for use in next phase of pipeline"
      ]
    },
    {
      "cell_type": "code",
      "metadata": {
        "id": "N6J4RKeceFe9"
      },
      "source": [
        "#create folder into which to store acquired data and meta data lists\n",
        "!mkdir data_acquisition"
      ],
      "execution_count": null,
      "outputs": []
    },
    {
      "cell_type": "code",
      "metadata": {
        "id": "TAZnIL9ycdUv"
      },
      "source": [
        "#Move Acquired data and pickled metadata into data_acquisition folder for compression and curating for next phase of Pipelne\n",
        "%cp -r programs.tar.gz ProgramData Juliet_Test_Suite_v1.3_for_C_Cpp.zip juliet_dataset_CWE_testcases_paths_ls_file juliet_dataset_CWE_ls_file juliet_dataset_ls_file data_acquisition/"
      ],
      "execution_count": null,
      "outputs": []
    },
    {
      "cell_type": "code",
      "metadata": {
        "colab": {
          "base_uri": "https://localhost:8080/",
          "height": 35
        },
        "id": "1_NYK5UVXyXI",
        "outputId": "217ba750-dc37-40e8-8586-811757ae2de0"
      },
      "source": [
        "#Creating tar archive of the raw data \n",
        "shutil.make_archive('raw_data','tar','/content/','data_acquisition')"
      ],
      "execution_count": null,
      "outputs": [
        {
          "output_type": "execute_result",
          "data": {
            "application/vnd.google.colaboratory.intrinsic+json": {
              "type": "string"
            },
            "text/plain": [
              "'/content/raw_data.tar'"
            ]
          },
          "metadata": {},
          "execution_count": 46
        }
      ]
    },
    {
      "cell_type": "code",
      "metadata": {
        "id": "XGlAN8gbiK2O"
      },
      "source": [
        "#Verify tarball of raw-data\n",
        "temp_archive = []\n",
        "with tarfile.open('raw_data.tar', 'r') as green:\n",
        "  for member in green:\n",
        "    if member.isdir() and member.name.count ('/') > 0:\n",
        "     # The '/' > 0 is to ensure the root directory is ignored \n",
        "       print(member.name) \n",
        "    if member.isfile():\n",
        "     temp_archive.append (member.name)\n",
        "print(\"\\n Number of files in raw_data tarball for export to googledrive for use later {0}\".format(len(temp_archive)))"
      ],
      "execution_count": null,
      "outputs": []
    },
    {
      "cell_type": "markdown",
      "metadata": {
        "id": "LPenC84slEDb"
      },
      "source": [
        "##Store raw_data tarball in googledrive  for use in next phase of pipeline"
      ]
    },
    {
      "cell_type": "code",
      "metadata": {
        "id": "x0TQHLbulDYY"
      },
      "source": [
        "!cp raw_data.tar \"/content/drive/My Drive/colab_root/2021/\""
      ],
      "execution_count": null,
      "outputs": []
    }
  ]
}