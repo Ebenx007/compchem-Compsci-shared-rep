{
  "nbformat": 4,
  "nbformat_minor": 0,
  "metadata": {
    "colab": {
      "name": "Labeling_and_wrangling.ipynb",
      "provenance": [],
      "collapsed_sections": [
        "XwU2w9ZfiH1_"
      ],
      "include_colab_link": true
    },
    "kernelspec": {
      "display_name": "Python 3",
      "name": "python3"
    }
  },
  "cells": [
    {
      "cell_type": "markdown",
      "metadata": {
        "id": "view-in-github",
        "colab_type": "text"
      },
      "source": [
        "<a href=\"https://colab.research.google.com/github/Ebenx007/compchem-Compsci-shared-rep/blob/main/Labeling_and_wrangling.ipynb\" target=\"_parent\"><img src=\"https://colab.research.google.com/assets/colab-badge.svg\" alt=\"Open In Colab\"/></a>"
      ]
    },
    {
      "cell_type": "code",
      "metadata": {
        "id": "PNFqh7QIHSx4"
      },
      "source": [
        "#Juliet Test Suite Dataset directories:\n",
        "#Common Weakness Enumerations (CWE) \n",
        "#Source: https://samate.nist.gov/SRD/testsuite.php#standalone\n",
        "juliet_dataset_CWE_dirs = ['CWE789_Uncontrolled_Mem_Alloc/', 'CWE789_Uncontrolled_Mem_Alloc/s01/', 'CWE789_Uncontrolled_Mem_Alloc/s02/', 'CWE484_Omitted_Break_Statement_in_Switch/', 'CWE194_Unexpected_Sign_Extension/', 'CWE194_Unexpected_Sign_Extension/s01/', 'CWE194_Unexpected_Sign_Extension/s02/', 'CWE563_Unused_Variable/', 'CWE588_Attempt_to_Access_Child_of_Non_Structure_Pointer/', 'CWE78_OS_Command_Injection/', 'CWE78_OS_Command_Injection/s03/', 'CWE78_OS_Command_Injection/s09/', 'CWE78_OS_Command_Injection/s07/', 'CWE78_OS_Command_Injection/s01/', 'CWE78_OS_Command_Injection/s05/', 'CWE78_OS_Command_Injection/s04/', 'CWE78_OS_Command_Injection/s08/', 'CWE78_OS_Command_Injection/s06/', 'CWE78_OS_Command_Injection/s02/', 'CWE390_Error_Without_Action/', 'CWE364_Signal_Handler_Race_Condition/', 'CWE226_Sensitive_Information_Uncleared_Before_Release/', 'CWE188_Reliance_on_Data_Memory_Layout/', 'CWE127_Buffer_Underread/', 'CWE127_Buffer_Underread/s03/', 'CWE127_Buffer_Underread/s01/', 'CWE127_Buffer_Underread/s04/', 'CWE127_Buffer_Underread/s02/', 'CWE775_Missing_Release_of_File_Descriptor_or_Handle/', 'CWE780_Use_of_RSA_Algorithm_Without_OAEP/', 'CWE667_Improper_Locking/', 'CWE843_Type_Confusion/', 'CWE587_Assignment_of_Fixed_Address_to_Pointer/', 'CWE480_Use_of_Incorrect_Operator/', 'CWE259_Hard_Coded_Password/', 'CWE762_Mismatched_Memory_Management_Routines/', 'CWE762_Mismatched_Memory_Management_Routines/s03/', 'CWE762_Mismatched_Memory_Management_Routines/s07/', 'CWE762_Mismatched_Memory_Management_Routines/s01/', 'CWE762_Mismatched_Memory_Management_Routines/s05/', 'CWE762_Mismatched_Memory_Management_Routines/s04/', 'CWE762_Mismatched_Memory_Management_Routines/s06/', 'CWE762_Mismatched_Memory_Management_Routines/s02/', 'CWE400_Resource_Exhaustion/', 'CWE400_Resource_Exhaustion/s01/', 'CWE400_Resource_Exhaustion/s02/', 'CWE223_Omission_of_Security_Relevant_Information/', 'CWE284_Improper_Access_Control/', 'CWE252_Unchecked_Return_Value/', 'CWE247_Reliance_on_DNS_Lookups_in_Security_Decision/', 'CWE620_Unverified_Password_Change/', 'CWE479_Signal_Handler_Use_of_Non_Reentrant_Function/', 'CWE535_Info_Exposure_Shell_Error/', 'CWE176_Improper_Handling_of_Unicode_Encoding/', 'CWE676_Use_of_Potentially_Dangerous_Function/', 'CWE459_Incomplete_Cleanup/', 'CWE377_Insecure_Temporary_File/', 'CWE690_NULL_Deref_From_Return/', 'CWE690_NULL_Deref_From_Return/s01/', 'CWE690_NULL_Deref_From_Return/s02/', 'CWE590_Free_Memory_Not_on_Heap/', 'CWE590_Free_Memory_Not_on_Heap/s03/', 'CWE590_Free_Memory_Not_on_Heap/s01/', 'CWE590_Free_Memory_Not_on_Heap/s05/', 'CWE590_Free_Memory_Not_on_Heap/s04/', 'CWE590_Free_Memory_Not_on_Heap/s02/', 'CWE191_Integer_Underflow/', 'CWE191_Integer_Underflow/s03/', 'CWE191_Integer_Underflow/s01/', 'CWE191_Integer_Underflow/s05/', 'CWE191_Integer_Underflow/s04/', 'CWE191_Integer_Underflow/s02/', 'CWE325_Missing_Required_Cryptographic_Step/', 'CWE190_Integer_Overflow/', 'CWE190_Integer_Overflow/s03/', 'CWE190_Integer_Overflow/s07/', 'CWE190_Integer_Overflow/s01/', 'CWE190_Integer_Overflow/s05/', 'CWE190_Integer_Overflow/s04/', 'CWE190_Integer_Overflow/s06/', 'CWE190_Integer_Overflow/s02/', 'CWE835_Infinite_Loop/', 'CWE615_Info_Exposure_by_Comment/', 'CWE672_Operation_on_Resource_After_Expiration_or_Release/', 'CWE440_Expected_Behavior_Violation/', 'CWE681_Incorrect_Conversion_Between_Numeric_Types/', 'CWE561_Dead_Code/', 'CWE122_Heap_Based_Buffer_Overflow/', 'CWE122_Heap_Based_Buffer_Overflow/s03/', 'CWE122_Heap_Based_Buffer_Overflow/s10/', 'CWE122_Heap_Based_Buffer_Overflow/s09/', 'CWE122_Heap_Based_Buffer_Overflow/s07/', 'CWE122_Heap_Based_Buffer_Overflow/s01/', 'CWE122_Heap_Based_Buffer_Overflow/s05/', 'CWE122_Heap_Based_Buffer_Overflow/s04/', 'CWE122_Heap_Based_Buffer_Overflow/s08/', 'CWE122_Heap_Based_Buffer_Overflow/s06/', 'CWE122_Heap_Based_Buffer_Overflow/s02/', 'CWE122_Heap_Based_Buffer_Overflow/s11/', 'CWE482_Comparing_Instead_of_Assigning/', 'CWE123_Write_What_Where_Condition/', 'CWE481_Assigning_Instead_of_Comparing/', 'CWE244_Heap_Inspection/', 'CWE426_Untrusted_Search_Path/', 'CWE468_Incorrect_Pointer_Scaling/', 'CWE475_Undefined_Behavior_for_Input_to_API/', 'CWE571_Expression_Always_True/', 'CWE591_Sensitive_Data_Storage_in_Improperly_Locked_Memory/', 'CWE272_Least_Privilege_Violation/', 'CWE197_Numeric_Truncation_Error/', 'CWE197_Numeric_Truncation_Error/s01/', 'CWE197_Numeric_Truncation_Error/s02/', 'CWE391_Unchecked_Error_Condition/', 'CWE328_Reversible_One_Way_Hash/', 'CWE464_Addition_of_Data_Structure_Sentinel/', 'CWE196_Unsigned_to_Signed_Conversion_Error/', 'CWE469_Use_of_Pointer_Subtraction_to_Determine_Size/', 'CWE338_Weak_PRNG/', 'CWE319_Cleartext_Tx_Sensitive_Info/', 'CWE476_NULL_Pointer_Dereference/', 'CWE195_Signed_to_Unsigned_Conversion_Error/', 'CWE195_Signed_to_Unsigned_Conversion_Error/s01/', 'CWE195_Signed_to_Unsigned_Conversion_Error/s02/', 'CWE467_Use_of_sizeof_on_Pointer_Type/', 'CWE511_Logic_Time_Bomb/', 'CWE124_Buffer_Underwrite/', 'CWE124_Buffer_Underwrite/s03/', 'CWE124_Buffer_Underwrite/s01/', 'CWE124_Buffer_Underwrite/s04/', 'CWE124_Buffer_Underwrite/s02/', 'CWE680_Integer_Overflow_to_Buffer_Overflow/', 'CWE396_Catch_Generic_Exception/', 'CWE114_Process_Control/', 'CWE397_Throw_Generic_Exception/', 'CWE36_Absolute_Path_Traversal/', 'CWE36_Absolute_Path_Traversal/s03/', 'CWE36_Absolute_Path_Traversal/s01/', 'CWE36_Absolute_Path_Traversal/s05/', 'CWE36_Absolute_Path_Traversal/s04/', 'CWE36_Absolute_Path_Traversal/s02/', 'CWE606_Unchecked_Loop_Condition/', 'CWE416_Use_After_Free/', 'CWE483_Incorrect_Block_Delimitation/', 'CWE134_Uncontrolled_Format_String/', 'CWE134_Uncontrolled_Format_String/s03/', 'CWE134_Uncontrolled_Format_String/s01/', 'CWE134_Uncontrolled_Format_String/s05/', 'CWE134_Uncontrolled_Format_String/s04/', 'CWE134_Uncontrolled_Format_String/s06/', 'CWE134_Uncontrolled_Format_String/s02/', 'CWE415_Double_Free/', 'CWE415_Double_Free/s01/', 'CWE415_Double_Free/s02/', 'CWE562_Return_of_Stack_Variable_Address/', 'CWE427_Uncontrolled_Search_Path_Element/', 'CWE404_Improper_Resource_Shutdown/', 'CWE500_Public_Static_Field_Not_Final/', 'CWE546_Suspicious_Comment/', 'CWE273_Improper_Check_for_Dropped_Privileges/', 'CWE242_Use_of_Inherently_Dangerous_Function/', 'CWE15_External_Control_of_System_or_Configuration_Setting/', 'CWE506_Embedded_Malicious_Code/', 'CWE510_Trapdoor/', 'CWE398_Poor_Code_Quality/', 'CWE785_Path_Manipulation_Function_Without_Max_Sized_Buffer/', 'CWE367_TOC_TOU/', 'CWE526_Info_Exposure_Environment_Variables/', 'CWE773_Missing_Reference_to_Active_File_Descriptor_or_Handle/', 'CWE23_Relative_Path_Traversal/', 'CWE23_Relative_Path_Traversal/s03/', 'CWE23_Relative_Path_Traversal/s01/', 'CWE23_Relative_Path_Traversal/s05/', 'CWE23_Relative_Path_Traversal/s04/', 'CWE23_Relative_Path_Traversal/s02/', 'CWE90_LDAP_Injection/', 'CWE327_Use_Broken_Crypto/', 'CWE605_Multiple_Binds_Same_Port/', 'CWE685_Function_Call_With_Incorrect_Number_of_Arguments/', 'CWE570_Expression_Always_False/', 'CWE321_Hard_Coded_Cryptographic_Key/', 'CWE832_Unlock_of_Resource_That_is_Not_Locked/', 'CWE401_Memory_Leak/', 'CWE401_Memory_Leak/s03/', 'CWE401_Memory_Leak/s01/', 'CWE401_Memory_Leak/s02/', 'CWE256_Plaintext_Storage_of_Password/', 'CWE457_Use_of_Uninitialized_Variable/', 'CWE457_Use_of_Uninitialized_Variable/s01/', 'CWE457_Use_of_Uninitialized_Variable/s02/', 'CWE126_Buffer_Overread/', 'CWE126_Buffer_Overread/s03/', 'CWE126_Buffer_Overread/s01/', 'CWE126_Buffer_Overread/s02/', 'CWE121_Stack_Based_Buffer_Overflow/', 'CWE121_Stack_Based_Buffer_Overflow/s03/', 'CWE121_Stack_Based_Buffer_Overflow/s09/', 'CWE121_Stack_Based_Buffer_Overflow/s07/', 'CWE121_Stack_Based_Buffer_Overflow/s01/', 'CWE121_Stack_Based_Buffer_Overflow/s05/', 'CWE121_Stack_Based_Buffer_Overflow/s04/', 'CWE121_Stack_Based_Buffer_Overflow/s08/', 'CWE121_Stack_Based_Buffer_Overflow/s06/', 'CWE121_Stack_Based_Buffer_Overflow/s02/', 'CWE666_Operation_on_Resource_in_Wrong_Phase_of_Lifetime/', 'CWE675_Duplicate_Operations_on_Resource/', 'CWE534_Info_Exposure_Debug_Log/', 'CWE253_Incorrect_Check_of_Function_Return_Value/', 'CWE688_Function_Call_With_Incorrect_Variable_or_Reference_as_Argument/', 'CWE366_Race_Condition_Within_Thread/', 'CWE617_Reachable_Assertion/', 'CWE369_Divide_by_Zero/', 'CWE369_Divide_by_Zero/s01/', 'CWE369_Divide_by_Zero/s02/', 'CWE674_Uncontrolled_Recursion/', 'CWE758_Undefined_Behavior/', 'CWE222_Truncation_of_Security_Relevant_Information/', 'CWE478_Missing_Default_Case_in_Switch/', 'CWE761_Free_Pointer_Not_at_Start_of_Buffer/', 'CWE665_Improper_Initialization/']"
      ],
      "execution_count": null,
      "outputs": []
    },
    {
      "cell_type": "code",
      "metadata": {
        "id": "PXNAmwuZHPKP"
      },
      "source": [
        "#Programing Competition Dataset Directories\n",
        "ProgramData_dataset_dirs = ['ProgramData/1/', 'ProgramData/2/','ProgramData/3/','ProgramData/4/','ProgramData/5/', 'ProgramData/6/', 'ProgramData/7/', 'ProgramData/8/', 'ProgramData/9/', 'ProgramData/10/', 'ProgramData/11/', 'ProgramData/12/', 'ProgramData/13/', 'ProgramData/14/', 'ProgramData/15/', 'ProgramData/16/', 'ProgramData/17/', 'ProgramData/18/', 'ProgramData/19/', 'ProgramData/20/', 'ProgramData/21/', 'ProgramData/22/', 'ProgramData/23/', 'ProgramData/24/', 'ProgramData/25/', 'ProgramData/26/', 'ProgramData/27/', 'ProgramData/28/', 'ProgramData/29/', 'ProgramData/30/', 'ProgramData/31/', 'ProgramData/32/', 'ProgramData/33/', 'ProgramData/34/', 'ProgramData/35/', 'ProgramData/36/', 'ProgramData/37/', 'ProgramData/38/', 'ProgramData/39/', 'ProgramData/40/', 'ProgramData/41/', 'ProgramData/42/', 'ProgramData/43/', 'ProgramData/44/', 'ProgramData/45/', 'ProgramData/46/', 'ProgramData/47/', 'ProgramData/48/', 'ProgramData/49/', 'ProgramData/50/', 'ProgramData/51/', 'ProgramData/52/', 'ProgramData/53/', 'ProgramData/54/', 'ProgramData/55/', 'ProgramData/56/', 'ProgramData/57/', 'ProgramData/58/', 'ProgramData/59/', 'ProgramData/60/', 'ProgramData/61/', 'ProgramData/62/', 'ProgramData/63/', 'ProgramData/64/', 'ProgramData/65/', 'ProgramData/66/', 'ProgramData/67/', 'ProgramData/68/', 'ProgramData/69/', 'ProgramData/70/', 'ProgramData/71/', 'ProgramData/72/', 'ProgramData/73/', 'ProgramData/74/', 'ProgramData/75/', 'ProgramData/76/', 'ProgramData/77/', 'ProgramData/78/', 'ProgramData/79/', 'ProgramData/80/', 'ProgramData/81/', 'ProgramData/82/', 'ProgramData/83/', 'ProgramData/84/', 'ProgramData/85/', 'ProgramData/86/', 'ProgramData/87/', 'ProgramData/88/', 'ProgramData/89/', 'ProgramData/90/', 'ProgramData/91/', 'ProgramData/92/', 'ProgramData/93/', 'ProgramData/94/', 'ProgramData/95/', 'ProgramData/96/', 'ProgramData/97/', 'ProgramData/98/', 'ProgramData/99/', 'ProgramData/100/', 'ProgramData/101/', 'ProgramData/102/', 'ProgramData/103/', 'ProgramData/104/']"
      ],
      "execution_count": null,
      "outputs": []
    },
    {
      "cell_type": "code",
      "metadata": {
        "id": "_NqtuzIujrxi"
      },
      "source": [
        "#*****************INTEGER STRING DATA LABELING for use with pytorch tensors*************************#\n",
        "\n",
        "class IntLabelData:\n",
        "  \"\"\"\n",
        "  label string data with integer\n",
        "  \"\"\"\n",
        "  def __init__(self, dataset_list, sep, start_idx=0, first_label=1):\n",
        "    self.dataset_list = dataset_list\n",
        "    self.sep = sep\n",
        "    self.start_idx = start_idx\n",
        "    self.first_label = first_label\n",
        "    self.uids = self._dataset_uids()\n",
        "    self.labels_arr = self._label_dataset()\n",
        "  \n",
        "  \"\"\"Extract unique substring for integer_label keys\"\"\"\n",
        "  def _extract_uid(self, data):\n",
        "    sep_idx = data.find(self.sep, self.start_idx)\n",
        "    return data[:sep_idx]\n",
        "\n",
        "  \"\"\"Extract dataset uids\"\"\"\n",
        "  def _dataset_uids(self):\n",
        "    uid_strs = []\n",
        "    for each in self.dataset_list:\n",
        "      uid_strs.append(self._extract_uid(each))\n",
        "    return uid_strs\n",
        "\n",
        "  \"\"\"Create labels dictionary\"\"\" \n",
        "  def _create_labels_dict(self):\n",
        "    int_labels = [x for x in list(range(self.first_label,len(self.dataset_list) + self.first_label))]\n",
        "    sorted_uids = sorted(set(self.uids))\n",
        "    labels_dict = dict(zip(sorted_uids,int_labels))\n",
        "    return labels_dict\n",
        "\n",
        "  \"\"\"Last integer used as label in labels dictionary\"\"\"\n",
        "  def last_label(self):\n",
        "    labels = self._create_labels_dict().values()\n",
        "    higest_label = max(labels)\n",
        "    return higest_label\n",
        "  \n",
        "  \"\"\"creates an associative array of (data, integer_label) pairs\"\"\"\n",
        "  def _label_dataset(self):\n",
        "    associative_arr = []\n",
        "    ref_dict = self._create_labels_dict()\n",
        "    for data in self.dataset_list:\n",
        "      data_uid =  self._extract_uid(data)\n",
        "      data_label = ref_dict[data_uid]\n",
        "      associative_arr.append((data_label,data))\n",
        "    return associative_arr"
      ],
      "execution_count": null,
      "outputs": []
    },
    {
      "cell_type": "code",
      "metadata": {
        "id": "HfMEjKikk08q"
      },
      "source": [
        "#Merges several labeled datasets \n",
        "def merge_labeled_datasets(first, *more_labeled_datasets):\n",
        "  \"\"\"Merge several labeled_datasets\"\"\"\n",
        "  merged_labels = first.labels_arr\n",
        "  next_start_idx = first.last_label() + 1 \n",
        "  for each in more_labeled_datasets:\n",
        "    each_label_obj = IntLabelData(each.dataset_list, each.sep, each.start_idx, next_start_idx)\n",
        "    next_start_idx += each_label_obj.last_label()  \n",
        "    merged_labels += each_label_obj.labels_arr\n",
        "  return merged_labels"
      ],
      "execution_count": null,
      "outputs": []
    },
    {
      "cell_type": "code",
      "metadata": {
        "id": "opt6OX7kTUDV"
      },
      "source": [
        "#****************DATA WRANGLING*************************#"
      ],
      "execution_count": null,
      "outputs": []
    },
    {
      "cell_type": "code",
      "metadata": {
        "id": "CRKoQqb72OyK"
      },
      "source": [
        "#Download pycparser module to CWD to quickly access pycparser's fake headers for code parsing   \n",
        "!git clone  https://github.com/eliben/pycparser.git"
      ],
      "execution_count": null,
      "outputs": []
    },
    {
      "cell_type": "code",
      "metadata": {
        "id": "m5GCT_362Y5u"
      },
      "source": [
        "%%writefile c_json.py\n",
        "#------------------------------------------------------------------------------\n",
        "# pycparser: c_json.py\n",
        "#\n",
        "# by Michael White (@mypalmike)\n",
        "#\n",
        "# This example includes functions to serialize and deserialize an ast\n",
        "# to and from json format. Serializing involves walking the ast and converting\n",
        "# each node from a python Node object into a python dict. Deserializing\n",
        "# involves the opposite conversion, walking the tree formed by the\n",
        "# dict and converting each dict into the specific Node object it represents.\n",
        "# The dict itself is serialized and deserialized using the python json module.\n",
        "#\n",
        "# The dict representation is a fairly direct transformation of the object\n",
        "# attributes. Each node in the dict gets one metadata field referring to the\n",
        "# specific node class name, _nodetype. Each local attribute (i.e. not linking\n",
        "# to child nodes) has a string value or array of string values. Each child\n",
        "# attribute is either another dict or an array of dicts, exactly as in the\n",
        "# Node object representation. The \"coord\" attribute, representing the\n",
        "# node's location within the source code, is serialized/deserialized from\n",
        "# a Coord object into a string of the format \"filename:line[:column]\".\n",
        "#\n",
        "# Example TypeDecl node, with IdentifierType child node, represented as a dict:\n",
        "#     \"type\": {\n",
        "#         \"_nodetype\": \"TypeDecl\",\n",
        "#         \"coord\": \"c_files/funky.c:8\",\n",
        "#         \"declname\": \"o\",\n",
        "#         \"quals\": [],\n",
        "#         \"type\": {\n",
        "#             \"_nodetype\": \"IdentifierType\",\n",
        "#             \"coord\": \"c_files/funky.c:8\",\n",
        "#             \"names\": [\n",
        "#                 \"char\"\n",
        "#             ]\n",
        "#         }\n",
        "#     }\n",
        "#------------------------------------------------------------------------------\n",
        "# This is not required if you've installed pycparser into\n",
        "# your site-packages/ with setup.py\n",
        "#\n",
        "##sys.path.extend(['.', '..']) :\n",
        "\n",
        "import json\n",
        "import sys\n",
        "import re\n",
        "\n",
        "\n",
        "\n",
        "from pycparser import parse_file, c_ast\n",
        "from pycparser.plyparser import Coord\n",
        "\n",
        "\n",
        "RE_CHILD_ARRAY = re.compile(r'(.*)\\[(.*)\\]')\n",
        "RE_INTERNAL_ATTR = re.compile('__.*__')\n",
        "\n",
        "\n",
        "class CJsonError(Exception):\n",
        "    pass\n",
        "\n",
        "\n",
        "def memodict(fn):\n",
        "    \"\"\" Fast memoization decorator for a function taking a single argument \"\"\"\n",
        "    class memodict(dict):\n",
        "        def __missing__(self, key):\n",
        "            ret = self[key] = fn(key)\n",
        "            return ret\n",
        "    return memodict().__getitem__\n",
        "\n",
        "\n",
        "@memodict\n",
        "def child_attrs_of(klass):\n",
        "    \"\"\"\n",
        "    Given a Node class, get a set of child attrs.\n",
        "    Memoized to avoid highly repetitive string manipulation\n",
        "    \"\"\"\n",
        "    non_child_attrs = set(klass.attr_names)\n",
        "    all_attrs = set([i for i in klass.__slots__ if not RE_INTERNAL_ATTR.match(i)])\n",
        "    return all_attrs - non_child_attrs\n",
        "\n",
        "\n",
        "def to_dict(node):\n",
        "    \"\"\" Recursively convert an ast into dict representation. \"\"\"\n",
        "    klass = node.__class__\n",
        "\n",
        "    result = {}\n",
        "\n",
        "    # Metadata\n",
        "    result['_nodetype'] = klass.__name__\n",
        "\n",
        "    # Local node attributes\n",
        "    for attr in klass.attr_names:\n",
        "        result[attr] = getattr(node, attr)\n",
        "\n",
        "    # Coord object\n",
        "    if node.coord:\n",
        "        result['coord'] = str(node.coord)\n",
        "    else:\n",
        "        result['coord'] = None\n",
        "\n",
        "    # Child attributes\n",
        "    for child_name, child in node.children():\n",
        "        # Child strings are either simple (e.g. 'value') or arrays (e.g. 'block_items[1]')\n",
        "        match = RE_CHILD_ARRAY.match(child_name)\n",
        "        if match:\n",
        "            array_name, array_index = match.groups()\n",
        "            array_index = int(array_index)\n",
        "            # arrays come in order, so we verify and append.\n",
        "            result[array_name] = result.get(array_name, [])\n",
        "            if array_index != len(result[array_name]):\n",
        "                raise CJsonError('Internal ast error. Array {} out of order. '\n",
        "                    'Expected index {}, got {}'.format(\n",
        "                    array_name, len(result[array_name]), array_index))\n",
        "            result[array_name].append(to_dict(child))\n",
        "        else:\n",
        "            result[child_name] = to_dict(child)\n",
        "\n",
        "    # Any child attributes that were missing need \"None\" values in the json.\n",
        "    for child_attr in child_attrs_of(klass):\n",
        "        if child_attr not in result:\n",
        "            result[child_attr] = None\n",
        "\n",
        "    return result\n",
        "\n",
        "\n",
        "def to_json(node, **kwargs):\n",
        "    \"\"\" Convert ast node to json string \"\"\"\n",
        "    return json.dumps(to_dict(node), **kwargs)\n",
        "\n",
        "\n",
        "def file_to_dict(filename):\n",
        "    \"\"\" Load C file into dict representation of ast \"\"\"\n",
        "    ## ast = parse_file(filename, use_cpp=True) Eben's addition for direct access to pycparser fakehead \n",
        "    ast = parse_file(filename, use_cpp=True,\n",
        "            cpp_path='gcc',\n",
        "            cpp_args=['-E', r'-Iutils/fake_libc_include'])\n",
        "    return to_dict(ast)\n",
        "\n",
        "\n",
        "def file_to_json(filename, **kwargs):\n",
        "    \"\"\" Load C file into json string representation of ast \"\"\"\n",
        "     ## ast = parse_file(filename, use_cpp=True) Eben's addition for direct access to pycparser fakehead\n",
        "    ast = parse_file(filename, use_cpp=True,\n",
        "            cpp_path='gcc',\n",
        "            cpp_args=['-E', r'-Iutils/fake_libc_include'])\n",
        "    return to_json(ast, **kwargs)\n",
        "\n",
        "\n",
        "def _parse_coord(coord_str):\n",
        "    \"\"\" Parse coord string (file:line[:column]) into Coord object. \"\"\"\n",
        "    if coord_str is None:\n",
        "        return None\n",
        "\n",
        "    vals = coord_str.split(':')\n",
        "    vals.extend([None] * 3)\n",
        "    filename, line, column = vals[:3]\n",
        "    return Coord(filename, line, column)\n",
        "\n",
        "\n",
        "def _convert_to_obj(value):\n",
        "    \"\"\"\n",
        "    Convert an object in the dict representation into an object.\n",
        "    Note: Mutually recursive with from_dict.\n",
        "    \"\"\"\n",
        "    value_type = type(value)\n",
        "    if value_type == dict:\n",
        "        return from_dict(value)\n",
        "    elif value_type == list:\n",
        "        return [_convert_to_obj(item) for item in value]\n",
        "    else:\n",
        "        # String\n",
        "        return value\n",
        "\n",
        "\n",
        "def from_dict(node_dict):\n",
        "    \"\"\" Recursively build an ast from dict representation \"\"\"\n",
        "    class_name = node_dict.pop('_nodetype')\n",
        "\n",
        "    klass = getattr(c_ast, class_name)\n",
        "\n",
        "    # Create a new dict containing the key-value pairs which we can pass\n",
        "    # to node constructors.\n",
        "    objs = {}\n",
        "    for key, value in node_dict.items():\n",
        "        if key == 'coord':\n",
        "            objs[key] = _parse_coord(value)\n",
        "        else:\n",
        "            objs[key] = _convert_to_obj(value)\n",
        "\n",
        "    # Use keyword parameters, which works thanks to beautifully consistent\n",
        "    # ast Node initializers.\n",
        "    return klass(**objs)\n",
        "\n",
        "\n",
        "def from_json(ast_json):\n",
        "    \"\"\" Build an ast from json string representation \"\"\"\n",
        "    return from_dict(json.loads(ast_json))\n",
        "\n",
        "#------------------------------------------------------------------------------\n",
        "#Not needed for our case \n",
        "#if __name__ == \"__main__\":\n",
        "    #if len(sys.argv) > 1:\n",
        "        # Some test code...\n",
        "        # Do trip from C -> ast -> dict -> ast -> json, then print.\n",
        "        #ast_dict = file_to_dict(sys.argv[1])\n",
        "        #ast = from_dict(ast_dict)\n",
        "        #print(to_json(ast, sort_keys=True, indent=4))\n",
        "    #else:\n",
        "        #print(\"Please provide a filename as argument\")\n"
      ],
      "execution_count": null,
      "outputs": []
    },
    {
      "cell_type": "code",
      "metadata": {
        "id": "UEvDYZKjL922"
      },
      "source": [
        "import sys\n",
        "import numpy as np\n",
        "import os\n",
        "from tqdm import tqdm\n",
        "import networkx as nx\n",
        "\n",
        "from pycparser import parse_file, c_ast\n",
        "from pycparser.plyparser import Coord\n",
        "\n",
        "import c_json as cj\n",
        "\n",
        "class CAstNetworkx:\n",
        "  seq_children_nodes = [('Case', 'stmts'), ('Compound', 'block_items'),\n",
        "                        ('DeclList', 'decls'), ('Default', 'stmts'),\n",
        "                        ('EnumeratorList', 'enumerators'),\n",
        "                        ('ExprList', 'exprs'), ('FileAST', 'ext'),\n",
        "                        ('FuncDef', 'param_decls'), ('InitList', 'exprs'),\n",
        "                        ('NamedInitializer',  'name'), ('ParamList', 'params'),\n",
        "                        ('Struct', 'decls'), ('Union', 'decls')]\n",
        "  identifier_types = [('Decl', 'name'), ('Enum', 'name'),\n",
        "                      ('Enumerator', 'name'), ('Goto', 'name'),\n",
        "                      ('ID', 'name'), ('Label', 'name'),\n",
        "                      ('Struct', 'name'), ('Typedef', 'name'),\n",
        "                      ('Typename', 'name'), ('Union', 'name')]\n",
        "  \"\"\"\n",
        "  Construct a Networkx graph from labeled data  \n",
        "  \"\"\"\n",
        "  def __init__(self,labeled_data_tup):\n",
        "    self.labeled_data_tup = labeled_data_tup\n",
        "    self.aug_data_attrs = self._aug_data_attrs(self.labeled_data_tup) \n",
        "    self.nx_ast_graph = self._create_nx_graph(self.aug_data_attrs)\n",
        "    \n",
        "\n",
        "  #Flatten ast_nested dict to tuple(parent_names list, type, name) list.\n",
        "  def _flatten_nested_dict(self, d, parents_list = None):\n",
        "    \"\"\"\n",
        "    Iterate over nested_dict. Return tuples (parents_list, key, value) list\n",
        "    \"\"\"\n",
        "    if parents_list is None:\n",
        "      parents_list = []\n",
        "    r = []\n",
        "    for k,v in d.items():\n",
        "      if isinstance(v, dict):\n",
        "        r.extend(self._flatten_nested_dict(v, parents_list + [k]))\n",
        "      elif isinstance(v, list):\n",
        "        for ele in v:\n",
        "          if isinstance(ele, dict):\n",
        "            r.extend(self._flatten_nested_dict(ele, parents_list + [k]))\n",
        "          else:\n",
        "            r.append((parents_list, k, v))\n",
        "            \n",
        "      else:\n",
        "        r.append((parents_list, k, v))\n",
        "              \n",
        "    return r\n",
        "\n",
        "  def _aug_data_attrs(self, input):\n",
        "    \"\"\"Augment node attributes for use in networkx \"\"\"\n",
        "    label = input[0]\n",
        "    handle = input[1]\n",
        "    main_idx, nx_key_sim = 0, 0\n",
        "    main = [] #Keep all these lists in here \n",
        "    nx_nodes_uid = [] #and then return lists as a tuple which you can fix and \n",
        "    node_attrs_lst = []\n",
        "    nx_edges = []\n",
        "    sorted_edges = [] #makes it easy to give init a sorted(_edges)\n",
        "    identifiers_nodes = []\n",
        "    ID_nodes = [] \n",
        "    ast_nested_dict = cj.file_to_dict(handle)\n",
        "    for x, y, z in self._flatten_nested_dict(ast_nested_dict):\n",
        "      if y == '_nodetype':\n",
        "        main.append((main_idx, len(x), nx_key_sim, y, z, x))\n",
        "        nx_nodes_uid.append((nx_key_sim, {y : z}))\n",
        "        \n",
        "        #Root Edge. \n",
        "        main_prev_idx = main_idx - 1\n",
        "        for i in range(main_prev_idx, -1, -1):\n",
        "          if ((main[i][3] == '_nodetype')\n",
        "           and (main[i][1] == 0)\n",
        "            and (len(x) == 1 and x[-1] == 'ext')\n",
        "             and (y == '_nodetype')):\n",
        "            nx_edges.append((main[i][2], nx_key_sim, {'edge_type': 'ExtDecl'}))\n",
        "            break\n",
        "\n",
        "        #Parent Child Edge. Root_idx=0. No need to reset main_prev_idx \n",
        "        for i in range(main_prev_idx, -1, -1):\n",
        "          if ((main[i][3] == '_nodetype')\n",
        "           and (len(x) - main[i][1] == 1)\n",
        "            and (y == '_nodetype')):\n",
        "            nx_edges.append((main[i][2], nx_key_sim, {'edge_type': 'Child'}))\n",
        "            nx_edges.append((nx_key_sim, main[i][2], {'edge_type': 'Parent'}))\n",
        "            break\n",
        "\n",
        "        #Nextstmt Edge. Reset main_prev bc of break above,'Parent Child edge's. \n",
        "        main_prev_idx_reset = main_idx - 1\n",
        "        for i in range(main_prev_idx_reset, -1, -1):\n",
        "          if ((main[i][3] == '_nodetype')\n",
        "           and (len(x) - main[i][1] == 1)\n",
        "            and (y == '_nodetype')\n",
        "             and ((main[i][4],x[-1]) in CAstNetworkx.seq_children_nodes)):\n",
        "            NextStmt_i = next(\n",
        "                (ast_i for (main_i, par_lst_len, ast_i,\n",
        "                            node_type, node_name, par_lst)\n",
        "             in main[main_prev_idx_reset::-1]\n",
        "              if ((node_type == '_nodetype') \n",
        "              and (ast_i > main[i][2]) and (par_lst_len == len(x)))),None)\n",
        "            if (NextStmt_i != None):\n",
        "              nx_edges.append((NextStmt_i, nx_key_sim, {'edge_type': 'NextStmt'}))\n",
        "            break\n",
        "\n",
        "        #If CondFalse Edge.\n",
        "        main_prev_idx_reset = main_idx - 1\n",
        "        for i in range(main_prev_idx_reset, -1, -1):\n",
        "          if ((main[i][3] == '_nodetype') and (len(x) - main[i][1] == 1)\n",
        "           and (y == '_nodetype') and (main[i][4] == 'If')\n",
        "            and (x[-1] == 'iffalse')):\n",
        "            If_cond_i = next(\n",
        "                (ast_i for (main_i, par_lst_len, ast_i,\n",
        "                            node_type, node_name, par_lst)\n",
        "             in main[main_prev_idx_reset::-1] if ((node_type == '_nodetype') \n",
        "             and (ast_i > main[i][2]) and (par_lst[-1] == 'cond')\n",
        "              and (par_lst_len == len(x)))),None)\n",
        "            if ( If_cond_i != None):\n",
        "              nx_edges.append((If_cond_i, nx_key_sim, {'edge_type': 'condFalse'}))\n",
        "            break\n",
        "\n",
        "        #If CondTrue Edge.\n",
        "        main_prev_idx_reset = main_idx - 1\n",
        "        for i in range(main_prev_idx_reset, -1, -1):\n",
        "          if ((main[i][3] == '_nodetype') and (len(x) - main[i][1] == 1)\n",
        "           and (y == '_nodetype') and (main[i][4] == 'If') and (x[-1] == 'iftrue')):\n",
        "            If_cond_i = next(\n",
        "                (ast_i for (main_i, par_lst_len, ast_i,\n",
        "                            node_type, node_name, par_lst)\n",
        "             in main[main_prev_idx_reset::-1] if ((node_type == '_nodetype')\n",
        "              and (ast_i > main[i][2]) and (par_lst[-1] == 'cond')\n",
        "               and (par_lst_len == len(x)))),None)\n",
        "            if ( If_cond_i != None):\n",
        "              nx_edges.append((If_cond_i, nx_key_sim, {'edge_type': 'CondTrue'}))\n",
        "            break\n",
        "    \n",
        "        #While Edges.\n",
        "        main_prev_idx_reset = main_idx - 1\n",
        "        for i in range(main_prev_idx_reset, -1, -1):\n",
        "          if ((main[i][3] == '_nodetype')\n",
        "           and (len(x) - main[i][1] == 1)\n",
        "            and (y == '_nodetype')\n",
        "             and (main[i][4] == 'While') and (x[-1] == 'stmt')):\n",
        "            While_cond_i = next(\n",
        "                (ast_i for (main_i, par_lst_len, ast_i,\n",
        "                            node_type, node_name, par_lst)\n",
        "             in main[main_prev_idx_reset::-1]\n",
        "              if ((node_type == '_nodetype') and (ast_i > main[i][2])\n",
        "               and (par_lst[-1] == 'cond') and (par_lst_len == len(x)))),None)\n",
        "            if ( If_cond_i != None):\n",
        "              nx_edges.append((While_cond_i, nx_key_sim, {'edge_type': 'WhileExec'}))\n",
        "              nx_edges.append((nx_key_sim, While_cond_i, {'edge_type': 'WhileNext'}))\n",
        "            break\n",
        "    \n",
        "        #For Edges.\n",
        "        main_prev_idx_reset = main_idx - 1\n",
        "        for i in range(main_prev_idx_reset, -1, -1):\n",
        "          if ((main[i][3] == '_nodetype')\n",
        "           and (len(x) - main[i][1] == 1) and (y == '_nodetype')\n",
        "            and (main[i][4] == 'For') and (x[-1] == 'stmt')):\n",
        "            For_cond_i = next(\n",
        "                (ast_i for (main_i, par_lst_len, ast_i,\n",
        "                            node_type, node_name, par_lst)\n",
        "             in main[main_prev_idx_reset::-1]\n",
        "              if ((node_type == '_nodetype') and (ast_i > main[i][2])\n",
        "               and (par_lst[-1] == 'cond') and (par_lst_len == len(x)))),None)\n",
        "            if ( If_cond_i != None):\n",
        "              nx_edges.append((For_cond_i, nx_key_sim, {'edge_type': 'WhileExec'}))\n",
        "              nx_edges.append((nx_key_sim,  For_cond_i, {'edge_type': 'ForNext'}))\n",
        "            break\n",
        "        \n",
        "        #NextSib Edge\n",
        "        main_prev_idx_reset = main_idx - 1\n",
        "        for i in range(main_prev_idx_reset, -1, -1):\n",
        "          if ((main[i][3] == '_nodetype') and (len(x) - main[i][1] == 1)\n",
        "           and (y == '_nodetype')):\n",
        "            NextSib_i = next(\n",
        "                (ast_i for (main_i, par_lst_len, ast_i,\n",
        "                            node_type, node_name, par_lst)\n",
        "             in main[main_prev_idx_reset::-1] if ((node_type == '_nodetype')\n",
        "              and (nx_key_sim - ast_i == 2) and (par_lst_len == len(x)))),None)\n",
        "            if ( NextSib_i != None):\n",
        "              nx_edges.append((NextSib_i, nx_key_sim, {'edge_type': 'NextSib'}))\n",
        "            break\n",
        "    \n",
        "        nx_key_sim += 1\n",
        "\n",
        "      else:\n",
        "        main_prev_idx_reset = main_idx - 1\n",
        "        for i in range(main_prev_idx_reset, -1, -1):\n",
        "          if (main[i][3] == '_nodetype') and (main[i][1] == len(x)):\n",
        "            node_attrs_lst.append((main[i][2], main[i][4], y, z))\n",
        "            break\n",
        "        main.append((main_idx,len(x),'_', y , z, x))\n",
        "        \n",
        "        #identifier_types nodes for NextToken and NextUse use.\n",
        "        main_prev_idx_reset = main_idx - 1\n",
        "        for i in range(main_prev_idx_reset, -1, -1):\n",
        "          if ((main[i][3] == '_nodetype') and (main[i][1] == len(x))\n",
        "           and (z != None)\n",
        "            and ((main[i][4], y) in CAstNetworkx.identifier_types)):\n",
        "            identifiers_nodes.append((main[i][2], main[i][4], z))\n",
        "            if main[i][4] == 'ID':\n",
        "              ID_nodes.append((main[i][2], main[i][4], z))\n",
        "            break\n",
        "  \n",
        "      main_idx += 1\n",
        "\n",
        "    #NextToken Edge. \n",
        "    for j,k in zip(identifiers_nodes, identifiers_nodes[1:]):\n",
        "      nx_edges.append((j[0], k[0], {'edge_type': 'NextToken'}))\n",
        "    \n",
        "    #NextUse Edge\n",
        "    main_prev_idx_reset = (len(ID_nodes) - 1)\n",
        "    for item in ID_nodes[:0:-1]:\n",
        "      main_prev_idx_reset -= 1\n",
        "    NextUse_i = next((ast_i for (ast_i, node_type, node_name)\n",
        "     in ID_nodes[main_prev_idx_reset::-1] if node_name == item[2]),None)\n",
        "    if ( NextUse_i != None):\n",
        "      nx_edges.append((NextUse_i, item[0], {'edge_type': 'NextUse'})) \n",
        "    \n",
        "    #Sorted Edges\n",
        "    sorted_edges = sorted(nx_edges, key = lambda x: x[0])\n",
        "    \n",
        "    \n",
        "    return (label, handle, nx_nodes_uid, node_attrs_lst, sorted_edges)\n",
        "\n",
        "  #takes an self._aug_data_attrs(labeled_data_tup) in int\n",
        "  def _create_nx_graph(self, arg_input):\n",
        "    source_code_task_label = arg_input[0]\n",
        "    source_code_path = arg_input[1]\n",
        "    #auged_data_attrs = self._aug_data_attrs() # you will fix this when you get files manipulation working. Seems you fixed it at __init__()\n",
        "    #not needed in here any more\n",
        "    nx_g = nx.MultiDiGraph(handle = source_code_path , label = source_code_task_label)\n",
        "    nx_g.add_nodes_from(arg_input[2])\n",
        "    for a, _,c,d in arg_input[3]:\n",
        "      nx_g.nodes[a][c] = d\n",
        "    nx_g.add_edges_from(arg_input[4])\n",
        "    return nx_g\n"
      ],
      "execution_count": null,
      "outputs": []
    },
    {
      "cell_type": "markdown",
      "metadata": {
        "id": "bCkugWtluW8r"
      },
      "source": [
        "#1.SINGLE EDGE & NODE VECTOR GENERATING CODE  "
      ]
    },
    {
      "cell_type": "code",
      "metadata": {
        "id": "f-c-sdJHHij2"
      },
      "source": [
        "# %%writefile config.py\n",
        "\n",
        "pycparser_nodes =  {'ArrayDecl': 0, 'ArrayRef': 1, 'Assignment': 2, 'BinaryOp': 3, 'Break': 4, 'Case': 5,\n",
        "                    'Cast': 6, 'Compound': 7, 'CompoundLiteral': 8, 'Constant': 9, 'Continue': 10, 'Decl': 11,\n",
        "                    'DeclList': 12, 'Default': 13, 'DoWhile': 14, 'EllipsisParam': 15, 'EmptyStatement': 16,\n",
        "                    'Enum': 17, 'Enumerator': 18, 'EnumeratorList': 19, 'ExprList': 20, 'FileAST': 21, 'For': 22,\n",
        "                    'FuncCall': 23, 'FuncDecl': 24, 'FuncDef': 25, 'Goto': 26, 'ID': 27, 'IdentifierType': 28,\n",
        "                    'If': 29, 'InitList': 30, 'Label': 31, 'NamedInitializer': 32, 'ParamList': 33, 'Pragma': 34,\n",
        "                    'PtrDecl': 35, 'Return': 36, 'Struct': 37, 'StructRef': 38, 'Switch': 39, 'TernaryOp': 40, \n",
        "                    'TypeDecl': 41, 'Typedef': 42, 'Typename': 43, 'UnaryOp': 44, 'Union': 45, 'While': 46}\n",
        "\n",
        "flow_aug_edge_types = {'Child' : 0, 'CondFalse' : 1, 'CondTrue' : 2, 'ExtDecl' : 3, 'ForExec' : 4,\n",
        "                    'ForNext' : 5, 'NextSib' : 6, 'NextStmt' : 7, 'NextToken' : 8, 'NextUse' : 9, 'Parent': 10,\n",
        "                    'WhileExec' : 11, 'WhileNext' : 12}\n",
        "c_ops = {'=': 0, '+=' : 1, '-=' : 2, '*=' : 3, '/=' : 4, '%=' : 5, '>>=' : 6, \n",
        "                    '<<=' : 7, '&=' : 8, '|=' : 9, '^=' : 10, '+' : 11, '-' : 12, '*' : 13, \n",
        "                    '/' : 14, '%' : 15, '>>' : 16, '<<' : 17, '&' : 18, '|' : 19, '^' : 20, \n",
        "                    '<' : 21, '>' : 22, '<=' : 23, '>=' : 24, '==' : 25, '!=' : 26, '&&' : 27, \n",
        "                    '||' : 28, '++' : 29, '--' : 30, 'sizeof' : 31, '!' : 32, '~' : 33}\n",
        "\n",
        "c_const_dtype = { 'char' : 0 , 'int': 1, 'float' : 2, 'double': 3}"
      ],
      "execution_count": null,
      "outputs": []
    },
    {
      "cell_type": "code",
      "metadata": {
        "id": "071m18yCIsu3"
      },
      "source": [
        "#%%writefile ast_feat.py\n",
        "#import config\n",
        "#=> ***config.pycparser_nodes, config.flow_aug_edge_types, config.c_ops, config.c_const_dtype***\n",
        "import numpy as np\n",
        "\n",
        "class AstFeat:\n",
        "  \"\"\"\n",
        "  class to generate vector representation for AST nodes and edges from nx graphs of pycparser extract AST\n",
        "  \"\"\"\n",
        "  NODEFEAT_DIM = 127\n",
        "  EDGEFEAT_DIM = 13\n",
        "  def __init__(self):\n",
        "    self.parsed_node_feat = np.zeros(AstFeat.NODEFEAT_DIM)\n",
        "    self.parsed_edge_feat = np.zeros(AstFeat.EDGEFEAT_DIM)\n",
        "\n",
        "  \"\"\"Parse numeric part of coord string (file:line [:column]) into a 16bits.\"\"\"\n",
        "  def _coord_16bits(self, curr_node_feats_tup):\n",
        "    curr_node_feats_dict = curr_node_feats_tup[1]\n",
        "    coord_str = curr_node_feats_dict['coord']\n",
        "    coord_to_lst = coord_str.split(':')\n",
        "    line_col = (''.join(coord_to_lst[1:]))\n",
        "    return format(int(line_col), '16b')\n",
        "  \n",
        "  \"\"\"parse vector from nx_node node attrs\"\"\"\n",
        "  def parse_node_feat(self, curr_node_feats_tup):\n",
        "    curr_node_feats_dict = curr_node_feats_tup[1] \n",
        "    #config.pycparser_nodes: 47 i.e uid 0-46 self.parsed_node_feat idx plus 1 default idx  \n",
        "    node_uid = pycparser_nodes.get(curr_node_feats_dict.get('_nodetype'), 'Not Present')\n",
        "    if (node_uid != 'Not Present'):\n",
        "      self.parsed_node_feat[node_uid] = 1.0\n",
        "    if node_uid == 'Not Present':\n",
        "      self.parsed_node_feat[len(pycparser_nodes.keys())] = 1.0\n",
        "\n",
        "  \n",
        "    #coord [line, column] as a 16bits. No zero bit coord hence from index view no zero index\n",
        "    _coord = self._coord_16bits(curr_node_feats_tup)   \n",
        "    for i,e in enumerate(_coord):\n",
        "      if e == bin(1)[2:]:\n",
        "        self.parsed_node_feat[47 + i] = 1.0\n",
        "\n",
        "    #Translation Unit or whole program scope node attr i.e. const, static, extern, inline etc,\n",
        "    #dim_quals is an attr of ArrayDecl\n",
        "    arr_decl = curr_node_feats_dict.get('dim_quals', None)\n",
        "    if (arr_decl == 'const'):\n",
        "      self.parsed_node_feat[64] = 1.0\n",
        "    if (arr_decl == 'static'):\n",
        "      self.parsed_node_feat[65] = 1.0\n",
        "\n",
        "    #Encoding into 0 or 1.0 all (0-33 indices) 34 Assignment, Binary, or unitary operators in config.ops.\n",
        "    #the default or none op_t type is 0. \n",
        "    op_t = curr_node_feats_dict.get('op', None)\n",
        "    if (op_t != None):\n",
        "      oper_idx = c_ops[op_t]\n",
        "      self.parsed_node_feat[66 + oper_idx] = 1.0\n",
        "\n",
        "    #The 4 main constant types plus one bit for the rest of the other const types \n",
        "    const_var_t = curr_node_feats_dict.get('type', None)\n",
        "    if (const_var_t != None and ('Constant' == curr_node_feats_dict.get('_nodetype', None))):\n",
        "      const_idx = c_const_dtype[const_var_t]\n",
        "      self.parsed_node_feat[100 + const_idx] = 1.0\n",
        "    else:\n",
        "      self.parsed_node_feat[104] = 1.0\n",
        "\n",
        "    #Decl [quals]\n",
        "    decl_q = curr_node_feats_dict.get('quals', None)\n",
        "    if (decl_q == 'const' and ('Decl' == curr_node_feats_dict.get('_nodetype', None))):\n",
        "      self.parsed_node_feat[105] = 1.0\n",
        "\n",
        "    #Decl [storage] \n",
        "    decl_s = curr_node_feats_dict.get('storage', None)\n",
        "    if (decl_s == 'extern' and ('Decl' == curr_node_feats_dict.get('_nodetype', None))):\n",
        "      self.parsed_node_feat[106] = 1.0\n",
        "    if (decl_s == 'static' and ('Decl' == curr_node_feats_dict.get('_nodetype', None))):\n",
        "      self.parsed_node_feat[107] = 1.0\n",
        "\n",
        "    #funcspec in Decl\n",
        "    inl = curr_node_feats_dict.get('funcspec', None)\n",
        "    if (inl == 'inline'):\n",
        "      self.parsed_node_feat[108] = 1.0\n",
        "\n",
        "    #PtrDecl [quals]\n",
        "    pt_decl= curr_node_feats_dict.get('quals', None)\n",
        "    if (pt_decl == 'const' and ('PtrDecl' == curr_node_feats_dict.get('_nodetype', None))):\n",
        "      self.parsed_node_feat[109] = 1.0\n",
        "\n",
        "    #type in StructRef \n",
        "    struct_ref_t= curr_node_feats_dict.get('type', None)\n",
        "    if (struct_ref_t == '->' and ('StructRef' == curr_node_feats_dict.get('_nodetype', None))):\n",
        "      self.parsed_node_feat[110] = 1.0\n",
        "    \n",
        "    #TypeDecl [quals] \n",
        "    type_decl = curr_node_feats_dict.get('quals', None)\n",
        "    if (type_decl == 'const' and ('TypeDecl' == curr_node_feats_dict.get('_nodetype', None))):\n",
        "      self.parsed_node_feat[111] = 1.0\n",
        "\n",
        "    #Typedef [quals]  \n",
        "    type_def_q = curr_node_feats_dict.get('quals', None)\n",
        "    if (type_def_q == 'const' and ('Typedef' == curr_node_feats_dict.get('_nodetype', None))):\n",
        "      self.parsed_node_feat[112] = 1.0\n",
        "    \n",
        "    #Typedef [storage] \n",
        "    type_def_s = curr_node_feats_dict.get('storage', None)\n",
        "    if (type_def_s == 'extern' and ('Typedef' == curr_node_feats_dict.get('_nodetype', None))):\n",
        "      self.node_feat[113] = 1.0\n",
        "    if (type_def_s == 'static' and ('Typedef' == curr_node_feats_dict.get('_nodetype', None))):\n",
        "      self.parsed_node_feat[114] = 1.0\n",
        "\n",
        "    #Typename [quals]  \n",
        "    type_name = curr_node_feats_dict.get('quals', None)\n",
        "    if (type_name == 'const' and ('Typename' == curr_node_feats_dict.get('_nodetype', None))):\n",
        "      self.parsed_node_feat[115] = 1.0\n",
        "    \n",
        "    #isExtDeclNode\n",
        "    if curr_node_feats_tup[0] in list(G.successors(0)):\n",
        "      self.parsed_node_feat[116] = 1.0\n",
        "      \n",
        "    #isTerminalNode\n",
        "    if (len(list(G.successors(curr_node_feats_tup[0]))) == 1) and list(G.successors(curr_node_feats_tup[0]))[0] < curr_node_feats_tup[0]:\n",
        "      self.parsed_node_feat[117] = 1.0\n",
        "    \n",
        "    return self\n",
        "\n",
        "  \n",
        "  #vector of nx_edge features \n",
        "  def parse_edge_feat(self, curr_edge_feats_tup):\n",
        "    curr_edge_feats_dict = curr_edge_feats_tup[2]\n",
        "    edge_t = curr_edge_feats_dict.get('edge_type', None)\n",
        "    if (edge_t != None):\n",
        "      edge_idx = flow_aug_edge_types.get(edge_t, None)\n",
        "      self.parsed_edge_feat[edge_idx] = 1.0\n",
        "    return self\n",
        "\n",
        "\n",
        "class AstGraph:\n",
        "  \"\"\"\n",
        "  ASTGraph from nx to facilitate generation of vector representations for the entire dataset of c_AST\n",
        "  \"\"\"\n",
        "  def __init__(self, code_nx_graph):\n",
        "    self.code_nx_graph = code_nx_graph\n",
        "    self.handle = self.code_nx_graph.graph['source_code_path']\n",
        "    self.label = self.code_nx_graph.graph['source_code_task']\n",
        "    self.num_nodes = len(list(self.code_nx_graph.nodes(data=True)))\n",
        "    self.num_edges = len(list(self.code_nx_graph.edges(data=True)))\n",
        "    self.nodes_degrees = self.code_nx_graph.degree\n",
        "    self.nodes_list = list(self.code_nx_graph.nodes(data=True)) #nx_nodes tuples list (x, {node_feature: node_feature_value}) (0, {'_nodetype': 'FileAST', 'coord': 'file :15:01'})\n",
        "    self.edges_list = list(self.code_nx_graph.edges(data=True)) #nx_edge tuples list (x,y,{type:\"edge_typename\"}). With x & y as nodes \n",
        "    self.adj_list = list(self.code_nx_graph.adjacency())\n",
        "\n",
        "    self.num_node_feats = AstFeat.NODEFEAT_DIM\n",
        "    self.num_edge_feats = AstFeat.EDGEFEAT_DIM\n",
        "    self.node_features_vecs = np.zeros((self.num_nodes, self.num_node_feats)) #remember np allows reshaping\n",
        "    self.edge_features_vecs = np.zeros((self.num_edges, self.num_edge_feats))\n"
      ],
      "execution_count": null,
      "outputs": []
    },
    {
      "cell_type": "markdown",
      "metadata": {
        "id": "nPaYdCBKV89X"
      },
      "source": [
        "#2. ast_lib "
      ]
    },
    {
      "cell_type": "code",
      "metadata": {
        "id": "fFBuWBegDE3e"
      },
      "source": [
        "# %%writefile ast_lib.py\n",
        "#import config\n",
        "#=> ***config.pycparser_nodes, config.flow_aug_edge_types, config.c_ops, config.c_const_dtype***\n",
        "#import ast_feat.py\n",
        "import pickle\n",
        "import numpy as np\n",
        "import os\n",
        "import sys\n",
        "import torch\n",
        "from tqdm import tqdm\n",
        "from pathlib import Path\n",
        "\n",
        "\n",
        "def dump_features(fname):\n",
        "  print(f\"\\nfilename = {fname}\", file=sys.stderr, flush=True)\n",
        "  print(f\"\\n parsing {fname}\", file=sys.stderr, flush=True)\n",
        "  fid = open(f'{fname}.bin',\"ab\")\n",
        "  nodes_feats_vecs_list = []\n",
        "  edges_feats_vecs_list = []\n",
        "  ast_graph_list = []\n",
        "  cur_nx_ast_cnt = 0\n",
        "  #for ast_graph in cleaned_data_nx_list: fixed \n",
        "    ast_graph = AstGraph(G)# THIS G WAS FOR TESTING \n",
        "    num_nodes = ast_graph.num_nodes\n",
        "    num_edges = ast_graph.num_edges\n",
        "      \n",
        "  with open(\"logwrite\",\"w\", encoding = \"utf-8\") as debug:\n",
        "    print(f'{num_nodes}, {num_edges}\\n', file = debug)\n",
        "    for i in range(num_nodes):\n",
        "      node_deg = ast_graph.nodes_degrees[i]\n",
        "      node_feat_tup = ast_graph.nodes_list[i]\n",
        "      #Note: no 0 degree node exist. Hence we go from 1-8 indices plus 1 index for > 9. Hence starting with 117 \n",
        "      curr_node_vec = AstFeat().parse_node_feat(node_feat_tup).parsed_node_feat\n",
        "      if (node_deg <= 8):\n",
        "        curr_node_vec[117 + node_deg] = 1.0\n",
        "      else:\n",
        "        curr_node_vec[126] = 1.0\n",
        "      ast_graph.node_features_vecs[i] = curr_node_vec\n",
        "      nodes_feats_vecs_list.append(curr_node_vec)\n",
        "         \n",
        "    for i in range(num_edges):\n",
        "      edge_feat_tup = ast_graph.edges_list[i]\n",
        "      curr_edge_vec = AstFeat().parse_edge_feat(edge_feat_tup).parsed_edge_feat\n",
        "      ast_graph.edge_features_vecs[i] = curr_edge_vec\n",
        "      edges_feats_vecs_list.append(curr_edge_vec) \n",
        "         \n",
        "    ast_graph_list.append(ast_graph)\n",
        "    cur_nx_ast_cnt = cur_nx_AST_cnt + 1\n",
        "    if (cur_nx_ast_cnt % 10000 == 0):\n",
        "      print(f\"{cur_nx_ast_cnt}\", file=sys.stderr, flush=True)\n",
        "  \n",
        "  print(f\"\\n{cur_nx_ast_cnt} c ASTs processed in total\", file=sys.stderr, flush=True)\n",
        "  print(f\"num_nodes: {len(nodes_feats_vecs_list)}, num_edges: {len(edges_feats_vecs_list)}\")\n",
        "  pickle.dump(ast_graph_list, fid)\n",
        "  pickle.dump(nodes_feats_vecs_list, fid)#Do you need to dump this if your graphs have their vectors list fully updated?.\n",
        "  pickle.dump(edges_feats_vecs_list, fid)\n",
        "  fid.close()"
      ],
      "execution_count": null,
      "outputs": []
    },
    {
      "cell_type": "code",
      "metadata": {
        "colab": {
          "base_uri": "https://localhost:8080/"
        },
        "id": "ryteCMmWMN6B",
        "outputId": "faadef1a-9c93-41cc-c8a7-5d9eb016454b"
      },
      "source": [
        "##*************test*****************##\n",
        "dump_features('test.txt')"
      ],
      "execution_count": null,
      "outputs": [
        {
          "output_type": "stream",
          "name": "stderr",
          "text": [
            "\n",
            "filename = test.txt\n",
            "\n",
            " parsing test.txt\n",
            "\n",
            "1 c ASTs processed in total\n"
          ]
        },
        {
          "output_type": "stream",
          "name": "stdout",
          "text": [
            "num_nodes: 90, num_edges: 247\n"
          ]
        }
      ]
    },
    {
      "cell_type": "code",
      "metadata": {
        "colab": {
          "base_uri": "https://localhost:8080/"
        },
        "id": "MFMKIOkmMV_w",
        "outputId": "23036a7f-5a64-4988-9e2e-7102c571dfb6"
      },
      "source": [
        "!ls"
      ],
      "execution_count": null,
      "outputs": [
        {
          "output_type": "stream",
          "name": "stdout",
          "text": [
            "logwrite  sample_data  test.txt.bin\n"
          ]
        }
      ]
    },
    {
      "cell_type": "code",
      "metadata": {
        "colab": {
          "base_uri": "https://localhost:8080/"
        },
        "id": "Z55vJpb-MYDF",
        "outputId": "f38604fd-565c-49ca-a70d-5b3cff7177e9"
      },
      "source": [
        "!cat logwrite"
      ],
      "execution_count": null,
      "outputs": [
        {
          "output_type": "stream",
          "name": "stdout",
          "text": [
            "90, 247\n",
            "\n"
          ]
        }
      ]
    },
    {
      "cell_type": "code",
      "metadata": {
        "id": "5qX4yoz0MdaS"
      },
      "source": [
        "#****************load_graph PASSED TEST*****************************\n",
        "\n",
        "import pickle\n",
        "import numpy as np\n",
        "import os\n",
        "import sys\n",
        "import torch\n",
        "from tqdm import tqdm\n",
        "from pathlib import Path\n",
        "\n",
        " \n",
        "def load_astgraphs(phase):\n",
        "  fname = '%s.txt.bin' %phase \n",
        "  assert Path(fname).is_file()\n",
        "  fid = open(fname, \"rb\")\n",
        "  ast_graph_list = []\n",
        "  nodes_feats_vecs_list = []\n",
        "  edges_feats_vecs_list = []\n",
        "  total_nodes = 0\n",
        "  total_edges = 0\n",
        "  ast_graph_cnt = 0\n",
        "  print(f\"loading graphs from {fname}\", file=sys.stderr, flush=True)\n",
        "  try:\n",
        "    while True:\n",
        "      ast_graph_list = pickle.load(fid)\n",
        "      nodes_feats_vecs_list = pickle.load(fid)#Do you need to load this? I an guessing yes. So you immidiately use them \n",
        "      edges_feats_vecs_list = pickle.load(fid)# And do not have to itrate through the graphs to get them together for use\n",
        "        \n",
        "      total_nodes = len(nodes_feats_vecs_list)\n",
        "      total_edges = len(edges_feats_vecs_list) \n",
        "  except Exception:\n",
        "    fid.close()\n",
        "    if any([not ast_graph_list, not nodes_feats_vecs_list, not edges_feats_vecs_list]):\n",
        "      print(\"Records not found...\", file=sys.stderr, flush=True)\n",
        "    else:\n",
        "      print(\"End of Binary file...\", file=sys.stderr, flush=True)\n",
        "  print(f\"num_nodes: {total_nodes}\\tnum_edges: {total_edges}\", file=sys.stderr, flush=True)\n",
        "  fid.close()\n",
        "  return ast_graph_list"
      ],
      "execution_count": null,
      "outputs": []
    },
    {
      "cell_type": "code",
      "metadata": {
        "colab": {
          "base_uri": "https://localhost:8080/"
        },
        "id": "LSN2YlUcMxxG",
        "outputId": "dba77463-d7de-48c4-f66e-443c9e80c2ac"
      },
      "source": [
        "#######*************testing*****************#########\n",
        "example1 = load_astgraph('test')"
      ],
      "execution_count": null,
      "outputs": [
        {
          "output_type": "stream",
          "name": "stderr",
          "text": [
            "loading graphs from test.txt.bin\n",
            "End of Binary file...\n",
            "num_nodes: 90\tnum_edges: 247\n"
          ]
        }
      ]
    },
    {
      "cell_type": "code",
      "metadata": {
        "id": "qCBzzYD9NFOG"
      },
      "source": [
        "example1_g = example1[0]"
      ],
      "execution_count": null,
      "outputs": []
    },
    {
      "cell_type": "code",
      "metadata": {
        "colab": {
          "base_uri": "https://localhost:8080/"
        },
        "id": "FB1Q_d0ONfGB",
        "outputId": "0824563c-2277-477f-ad53-4e047348c512"
      },
      "source": [
        "print(example1_g.node_features_vecs)"
      ],
      "execution_count": null,
      "outputs": [
        {
          "output_type": "stream",
          "name": "stdout",
          "text": [
            "[[0. 0. 0. ... 0. 0. 1.]\n",
            " [0. 0. 0. ... 1. 0. 0.]\n",
            " [0. 0. 0. ... 0. 0. 0.]\n",
            " ...\n",
            " [0. 0. 0. ... 0. 0. 0.]\n",
            " [0. 0. 0. ... 0. 0. 0.]\n",
            " [0. 0. 0. ... 0. 0. 0.]]\n"
          ]
        }
      ]
    },
    {
      "cell_type": "code",
      "metadata": {
        "colab": {
          "base_uri": "https://localhost:8080/"
        },
        "id": "hnIGKmLkNl4R",
        "outputId": "5febae39-bb1f-4f05-a708-56f5004706ce"
      },
      "source": [
        "print(example1_g.node_features_vecs[0])"
      ],
      "execution_count": null,
      "outputs": [
        {
          "output_type": "stream",
          "name": "stdout",
          "text": [
            "[0. 0. 0. 0. 0. 0. 0. 0. 0. 0. 0. 0. 0. 0. 0. 0. 0. 0. 0. 0. 0. 1. 0. 0.\n",
            " 0. 0. 0. 0. 0. 0. 0. 0. 0. 0. 0. 0. 0. 0. 0. 0. 0. 0. 0. 0. 0. 0. 0. 0.\n",
            " 0. 0. 0. 0. 1. 0. 1. 1. 1. 0. 1. 1. 1. 0. 1. 0. 0. 0. 0. 0. 0. 0. 0. 0.\n",
            " 0. 0. 0. 0. 0. 0. 0. 0. 0. 0. 0. 0. 0. 0. 0. 0. 0. 0. 0. 0. 0. 0. 0. 0.\n",
            " 0. 0. 0. 0. 0. 0. 0. 0. 1. 0. 0. 0. 0. 0. 0. 0. 0. 0. 0. 0. 0. 0. 0. 0.\n",
            " 0. 0. 0. 0. 0. 0. 1.]\n"
          ]
        }
      ]
    },
    {
      "cell_type": "code",
      "metadata": {
        "colab": {
          "base_uri": "https://localhost:8080/"
        },
        "id": "boQR2xV0NuNh",
        "outputId": "6a8c7ad3-5103-4e65-91f7-c968a39819d7"
      },
      "source": [
        "print(example1_g.node_features_vecs[1])"
      ],
      "execution_count": null,
      "outputs": [
        {
          "output_type": "stream",
          "name": "stdout",
          "text": [
            "[0. 0. 0. 0. 0. 0. 0. 0. 0. 0. 0. 0. 0. 0. 0. 0. 0. 0. 0. 0. 0. 0. 0. 0.\n",
            " 0. 0. 0. 0. 0. 0. 0. 0. 0. 0. 0. 0. 0. 0. 0. 0. 0. 0. 1. 0. 0. 0. 0. 0.\n",
            " 0. 0. 0. 0. 0. 0. 0. 1. 1. 0. 1. 1. 0. 0. 1. 0. 0. 0. 0. 0. 0. 0. 0. 0.\n",
            " 0. 0. 0. 0. 0. 0. 0. 0. 0. 0. 0. 0. 0. 0. 0. 0. 0. 0. 0. 0. 0. 0. 0. 0.\n",
            " 0. 0. 0. 0. 0. 0. 0. 0. 1. 0. 0. 0. 0. 0. 0. 0. 0. 0. 0. 0. 1. 0. 0. 0.\n",
            " 0. 0. 0. 0. 1. 0. 0.]\n"
          ]
        }
      ]
    },
    {
      "cell_type": "code",
      "metadata": {
        "colab": {
          "base_uri": "https://localhost:8080/"
        },
        "id": "NLopzQRyNx4C",
        "outputId": "a06b1dd3-c946-44d1-e5d6-58f76f0ff4a6"
      },
      "source": [
        "print(example1_g.node_features_vecs[2])"
      ],
      "execution_count": null,
      "outputs": [
        {
          "output_type": "stream",
          "name": "stdout",
          "text": [
            "[0. 0. 0. 0. 0. 0. 0. 0. 0. 0. 0. 0. 0. 0. 0. 0. 0. 0. 0. 0. 0. 0. 0. 0.\n",
            " 0. 0. 0. 0. 0. 0. 0. 0. 0. 0. 0. 0. 0. 0. 0. 0. 0. 1. 0. 0. 0. 0. 0. 0.\n",
            " 0. 0. 0. 0. 0. 0. 0. 1. 1. 0. 1. 1. 0. 0. 1. 0. 0. 0. 0. 0. 0. 0. 0. 0.\n",
            " 0. 0. 0. 0. 0. 0. 0. 0. 0. 0. 0. 0. 0. 0. 0. 0. 0. 0. 0. 0. 0. 0. 0. 0.\n",
            " 0. 0. 0. 0. 0. 0. 0. 0. 1. 0. 0. 0. 0. 0. 0. 0. 0. 0. 0. 0. 0. 0. 0. 0.\n",
            " 0. 1. 0. 0. 0. 0. 0.]\n"
          ]
        }
      ]
    },
    {
      "cell_type": "code",
      "metadata": {
        "colab": {
          "base_uri": "https://localhost:8080/"
        },
        "id": "8qf-QYrON3Tb",
        "outputId": "feba06cb-f242-4b2d-a7bd-4a11622cf5cd"
      },
      "source": [
        "print(example1_g.edge_features_vecs)"
      ],
      "execution_count": null,
      "outputs": [
        {
          "output_type": "stream",
          "name": "stdout",
          "text": [
            "[[0. 0. 0. ... 0. 0. 0.]\n",
            " [1. 0. 0. ... 0. 0. 0.]\n",
            " [0. 0. 0. ... 0. 0. 0.]\n",
            " ...\n",
            " [0. 0. 0. ... 1. 0. 0.]\n",
            " [0. 0. 0. ... 0. 0. 0.]\n",
            " [0. 0. 0. ... 1. 0. 0.]]\n"
          ]
        }
      ]
    },
    {
      "cell_type": "code",
      "metadata": {
        "colab": {
          "base_uri": "https://localhost:8080/"
        },
        "id": "cA2uD9-CN9XR",
        "outputId": "784e0200-4aea-4dbf-ff5e-e09731084d9d"
      },
      "source": [
        "print(example1_g.edge_features_vecs[0])"
      ],
      "execution_count": null,
      "outputs": [
        {
          "output_type": "stream",
          "name": "stdout",
          "text": [
            "[0. 0. 0. 1. 0. 0. 0. 0. 0. 0. 0. 0. 0.]\n"
          ]
        }
      ]
    },
    {
      "cell_type": "code",
      "metadata": {
        "id": "6GcLanEPWCIv"
      },
      "source": [
        "#****************PrepareBatchFeature PASSED TESTING*****************************\n",
        "\n",
        "import pickle\n",
        "import numpy as np\n",
        "import os\n",
        "import sys\n",
        "import torch\n",
        "from tqdm import tqdm\n",
        "from pathlib import Path\n",
        "\n",
        "def prepare_batch_feature(ast_graph_list = None):\n",
        "    if ast_graph_list is None:\n",
        "      ast_graph_list = []\n",
        "    total_num_nodes = 0\n",
        "    total_num_edges = 0\n",
        "    \n",
        "    #Total Nodes & Edges \n",
        "    for i in range(len(ast_graph_list)):\n",
        "      total_num_nodes += ast_graph_list[i].num_nodes\n",
        "      total_num_edges += ast_graph_list[i].num_edges\n",
        "      \n",
        "    torch_nodes_feat = torch.zeros(total_num_nodes, AstFeat.NODEFEAT_DIM)\n",
        "    torch_edges_feat = torch.zeros(total_num_edges, AstFeat.EDGEFEAT_DIM)\n",
        "    torch_labels = torch.zeros(len(ast_graph_list), 1) #labels are integers from tuple_list of handle numbered by code tasks\n",
        "    \n",
        "    nodes_feat = torch_nodes_feat.numpy()\n",
        "    edges_feat = torch_edges_feat.numpy()    \n",
        "    labels = torch_labels.numpy()\n",
        "\n",
        "    #Upload node vector into nodes_feat\n",
        "    cur_node_idx = 0 \n",
        "    for i in range(len(ast_graph_list)):\n",
        "      for j in range(len(ast_graph_list[i].node_features_vecs)):\n",
        "        nodes_feat[cur_node_idx] = ast_graph_list[i].node_features_vecs[j]\n",
        "        cur_node_idx = cur_node_idx + 1\n",
        "  \n",
        "    #Upload edge vectors into edges_feat\n",
        "    cur_edge_idx = 0\n",
        "    for i in range(len(ast_graph_list)):\n",
        "      for j in range(len(ast_graph_list[i].edge_features_vecs)):\n",
        "        edges_feat[cur_edge_idx] = ast_graph_list[i].edge_features_vecs[j]\n",
        "        cur_edge_idx = cur_edge_idx + 1\n",
        "    \n",
        "    for i in range(len(ast_graph_list)):\n",
        "      labels[i]= ast_graph_list[i].label\n",
        "   \n",
        "    return torch_nodes_feat, torch_edges_feat, torch_labels\n"
      ],
      "execution_count": null,
      "outputs": []
    },
    {
      "cell_type": "code",
      "metadata": {
        "colab": {
          "base_uri": "https://localhost:8080/"
        },
        "id": "d-wku4w9Oa2a",
        "outputId": "9f1432af-c0fb-4d59-a832-7bc4e043bbc5"
      },
      "source": [
        "#######*************testing*****************#########\n",
        "PrepareBatchFeature(example1)"
      ],
      "execution_count": null,
      "outputs": [
        {
          "output_type": "execute_result",
          "data": {
            "text/plain": [
              "(tensor([[0., 0., 0.,  ..., 0., 0., 1.],\n",
              "         [0., 0., 0.,  ..., 1., 0., 0.],\n",
              "         [0., 0., 0.,  ..., 0., 0., 0.],\n",
              "         ...,\n",
              "         [0., 0., 0.,  ..., 0., 0., 0.],\n",
              "         [0., 0., 0.,  ..., 0., 0., 0.],\n",
              "         [0., 0., 0.,  ..., 0., 0., 0.]]),\n",
              " tensor([[0., 0., 0.,  ..., 0., 0., 0.],\n",
              "         [1., 0., 0.,  ..., 0., 0., 0.],\n",
              "         [0., 0., 0.,  ..., 0., 0., 0.],\n",
              "         ...,\n",
              "         [0., 0., 0.,  ..., 1., 0., 0.],\n",
              "         [0., 0., 0.,  ..., 0., 0., 0.],\n",
              "         [0., 0., 0.,  ..., 1., 0., 0.]]),\n",
              " tensor([[223.]]))"
            ]
          },
          "metadata": {},
          "execution_count": 37
        }
      ]
    },
    {
      "cell_type": "markdown",
      "metadata": {
        "id": "skVU9gsVXJcV"
      },
      "source": [
        "## My version (need to fix the language)"
      ]
    },
    {
      "cell_type": "markdown",
      "metadata": {
        "id": "KEf920LBZQAr"
      },
      "source": [
        "#3.DATA ENGINEERING (FA-AST IMPLEMENTATION)\n",
        "\n",
        "\n",
        "1.   DATA INGESTION\n",
        "2.   EXPLORATION AND VALIDATION\n",
        "3.   DATA WRANGLING \n",
        "4.   DATA LABELING\n",
        "\n",
        "\n",
        "\n"
      ]
    },
    {
      "cell_type": "markdown",
      "metadata": {
        "id": "XwU2w9ZfiH1_"
      },
      "source": [
        "##Header:\n",
        "   (Think defined Constants) "
      ]
    },
    {
      "cell_type": "code",
      "metadata": {
        "colab": {
          "base_uri": "https://localhost:8080/"
        },
        "id": "Dtl2yfm0aX63",
        "outputId": "6667878d-7c5b-4568-feac-1e08b7e03125"
      },
      "source": [
        "#Header\n",
        "#We use the first 48 primes as natural hash codes Ids for the \n",
        "#47 c_ast node types in pycparser #the parser we use in our experiment and\n",
        "#\"coord\" attribute representation the location of a node within the source code  \n",
        "\n",
        "pycparser_node_types = sorted([\"ArrayDecl\", \"ArrayRef\", \"Assignment\", \"BinaryOp\", \n",
        "                         \"Break\",\"Case\",\"Cast\", \"Compound\", \"CompoundLiteral\",\n",
        "                         \"Constant\", \"Continue\",\"Decl\",\"DeclList\", \"Default\",\n",
        "                         \"DoWhile\", \"EllipsisParam\", \"EmptyStatement\", \"Enum\",\n",
        "                         \"Enumerator\", \"EnumeratorList\", \"ExprList\", \"FileAST\", \n",
        "                         \"For\", \"FuncCall\", \"FuncDecl\", \"FuncDef\", \"Goto\", \"ID\", \n",
        "                         \"IdentifierType\",\"If\", \"InitList\", \"Label\", \"NamedInitializer\", \n",
        "                         \"ParamList\", \"PtrDecl\",\"Return\", \"Struct\", \"StructRef\", \n",
        "                         \"Switch\", \"TernaryOp\", \"TypeDecl\", \"Typedef\", \"Typename\", \n",
        "                         \"UnaryOp\", \"Union\", \"While\", \"Pragma\"])\n",
        "\n",
        "\n",
        "primes_for_c_ast_node_ids = sorted([2, 3, 5, 7, 11, 13, 17, 19, 23, 29,\n",
        "                   31, 37, 41, 43, 47, 53, 59, 61, 67, 71, \n",
        "                   73, 79, 83, 89, 97, 101, 103, 107, 109, 113, \n",
        "                   127, 131, 137, 139, 149, 151, 157, 163, 167, 173, \n",
        "                   179, 181, 191, 193, 197, 199, 211])\n",
        "\n",
        "node_id = dict(zip(pycparser_node_types, primes_for_c_ast_node_ids))\n",
        "\n",
        "\n",
        "print(\"\\n Node IDs: \\n {}\".format(node_id))\n",
        "print(\"\\n Sorted pycparser_node_types: \\n {}\".format(pycparser_node_types) )\n",
        "print(\"\\n Number of pycparser_node_types = {}.\".format(len(pycparser_node_types)))\n",
        "print(\"\\n Sorted 48 primes_for_c_ast_node_ids: \\n {}\".format(primes_for_c_ast_node_ids) )\n",
        "print(\"\\n Number of primes_for_c_ast_node_ids = {}.\".format(len(primes_for_c_ast_node_ids)))\n",
        "\n",
        "\n",
        "#Fa_ast_edge types. \n",
        "#Bc of the bad behavior of 0 in arithmetic we will just use the positive integers from 1 to 12. \n",
        "\n",
        "fa_ast_edge_types = sorted([\n",
        "\"Child\", \"Parent\", \"NextSib\", \"NextToken\", \"NextUse\", \n",
        "\"CondTrue\", \"CondFalse\", 'WhileExec\", \"WhileNext\", \n",
        "\"ForExec\", \"ForNext\", \"NextStmt\", \"ExtDecl\"])\n",
        "\n",
        "numbers_for_use_as_edge_ids = [1 ,2, 3, 4, 5, 6, 7, 8, 9, 10, 11, 12,13]\n",
        "\n",
        "edge_id = dict(zip(fa_ast_edge_types, numbers_for_use_as_edge_ids))\n",
        "\n",
        "print(\"\\n Edge IDs: \\n {}\".format(edge_id))\n",
        "print(\"\\n Sorted list of our fa_ast_edge: \\n {}\".format(fa_ast_edge_types))\n",
        "print(\"\\n First 12 Positive Integers for use as edge ids: \\n {}\".format(numbers_for_use_as_edge_ids))\n",
        "print(\"\\n Number of fa_ast_edge types = {}.\".format(len(fa_ast_edge_types)))"
      ],
      "execution_count": null,
      "outputs": [
        {
          "output_type": "stream",
          "text": [
            "\n",
            " Node IDs: \n",
            " {'ArrayDecl': 2, 'ArrayRef': 3, 'Assignment': 5, 'BinaryOp': 7, 'Break': 11, 'Case': 13, 'Cast': 17, 'Compound': 19, 'CompoundLiteral': 23, 'Constant': 29, 'Continue': 31, 'Coord': 37, 'Decl': 41, 'DeclList': 43, 'Default': 47, 'DoWhile': 53, 'EllipsisParam': 59, 'EmptyStatement': 61, 'Enum': 67, 'Enumerator': 71, 'EnumeratorList': 73, 'ExprList': 79, 'FileAST': 83, 'For': 89, 'FuncCall': 97, 'FuncDecl': 101, 'FuncDef': 103, 'Goto': 107, 'ID': 109, 'IdentifierType': 113, 'If': 127, 'InitList': 131, 'Label': 137, 'NamedInitializer': 139, 'ParamList': 149, 'Pragma': 151, 'PtrDecl': 157, 'Return': 163, 'Struct': 167, 'StructRef': 173, 'Switch': 179, 'TernaryOp': 181, 'TypeDecl': 191, 'Typedef': 193, 'Typename': 197, 'UnaryOp': 199, 'Union': 211, 'While': 223}\n",
            "\n",
            " Sorted pycparser_node_types: \n",
            " ['ArrayDecl', 'ArrayRef', 'Assignment', 'BinaryOp', 'Break', 'Case', 'Cast', 'Compound', 'CompoundLiteral', 'Constant', 'Continue', 'Coord', 'Decl', 'DeclList', 'Default', 'DoWhile', 'EllipsisParam', 'EmptyStatement', 'Enum', 'Enumerator', 'EnumeratorList', 'ExprList', 'FileAST', 'For', 'FuncCall', 'FuncDecl', 'FuncDef', 'Goto', 'ID', 'IdentifierType', 'If', 'InitList', 'Label', 'NamedInitializer', 'ParamList', 'Pragma', 'PtrDecl', 'Return', 'Struct', 'StructRef', 'Switch', 'TernaryOp', 'TypeDecl', 'Typedef', 'Typename', 'UnaryOp', 'Union', 'While']\n",
            "\n",
            " Number of pycparser_node_types = 48.\n",
            "\n",
            " Sorted 48 primes_for_c_ast_node_ids: \n",
            " [2, 3, 5, 7, 11, 13, 17, 19, 23, 29, 31, 37, 41, 43, 47, 53, 59, 61, 67, 71, 73, 79, 83, 89, 97, 101, 103, 107, 109, 113, 127, 131, 137, 139, 149, 151, 157, 163, 167, 173, 179, 181, 191, 193, 197, 199, 211, 223]\n",
            "\n",
            " Number of primes_for_c_ast_node_ids = 48.\n",
            "\n",
            " Edge IDs: \n",
            " {'Child': 1, 'CondFalse': 2, 'CondTrue': 3, 'ExtDecl': 4, 'ForExec': 5, 'ForNext': 6, 'NextSib': 7, 'NextStmt': 8, 'NextToken': 9, 'NextUse': 10, 'Parent': 11, 'WhileExec': 12, 'WhileNext': 13}\n",
            "\n",
            " Sorted list of our fa_ast_edge: \n",
            " ['Child', 'CondFalse', 'CondTrue', 'ExtDecl', 'ForExec', 'ForNext', 'NextSib', 'NextStmt', 'NextToken', 'NextUse', 'Parent', 'WhileExec', 'WhileNext']\n",
            "\n",
            " First 12 Positive Integers for use as edge ids: \n",
            " [1, 2, 3, 4, 5, 6, 7, 8, 9, 10, 11, 12, 13]\n",
            "\n",
            " Number of fa_ast_edge types = 13.\n"
          ],
          "name": "stdout"
        }
      ]
    },
    {
      "cell_type": "markdown",
      "metadata": {
        "id": "EdoZmXRHjBXX"
      },
      "source": [
        "##imports\n",
        "A module from pycparser Github page with functions we will use"
      ]
    },
    {
      "cell_type": "code",
      "metadata": {
        "colab": {
          "base_uri": "https://localhost:8080/",
          "height": 86
        },
        "id": "O6-kt4JpaLsm",
        "outputId": "5f8cbccb-fe62-465d-8713-b1bb76b47161"
      },
      "source": [
        "#import:\n",
        "#from pycpaser with a few tweaks for it to work on colab.\n",
        "#Rember to use the improved version with better tweaks when working with files\n",
        "\n",
        "\n",
        "#------------------------------------------------------------------------------\n",
        "# pycparser: c_json.py\n",
        "#\n",
        "# by Michael White (@mypalmike)\n",
        "#\n",
        "# This example includes functions to serialize and deserialize an ast\n",
        "# to and from json format. Serializing involves walking the ast and converting\n",
        "# each node from a python Node object into a python dict. Deserializing\n",
        "# involves the opposite conversion, walking the tree formed by the\n",
        "# dict and converting each dict into the specific Node object it represents.\n",
        "# The dict itself is serialized and deserialized using the python json module.\n",
        "#\n",
        "# The dict representation is a fairly direct transformation of the object\n",
        "# attributes. Each node in the dict gets one metadata field referring to the\n",
        "# specific node class name, _nodetype. Each local attribute (i.e. not linking\n",
        "# to child nodes) has a string value or array of string values. Each child\n",
        "# attribute is either another dict or an array of dicts, exactly as in the\n",
        "# Node object representation. The \"coord\" attribute, representing the\n",
        "# node's location within the source code, is serialized/deserialized from\n",
        "# a Coord object into a string of the format \"filename:line[:column]\".\n",
        "#\n",
        "# Example TypeDecl node, with IdentifierType child node, represented as a dict:\n",
        "#     \"type\": {\n",
        "#         \"_nodetype\": \"TypeDecl\",\n",
        "#         \"coord\": \"c_files/funky.c:8\",\n",
        "#         \"declname\": \"o\",\n",
        "#         \"quals\": [],\n",
        "#         \"type\": {\n",
        "#             \"_nodetype\": \"IdentifierType\",\n",
        "#             \"coord\": \"c_files/funky.c:8\",\n",
        "#             \"names\": [\n",
        "#                 \"char\"\n",
        "#             ]\n",
        "#         }\n",
        "#     }\n",
        "#------------------------------------------------------------------------------\n",
        "from __future__ import print_function\n",
        "\n",
        "import json\n",
        "import sys\n",
        "import re\n",
        "\n",
        "# This is not required if you've installed pycparser into\n",
        "# your site-packages/ with setup.py\n",
        "#\n",
        "## Eben's change sys.path.extend(['.', '..'])\n",
        "\n",
        "from pycparser import parse_file, c_ast\n",
        "from pycparser.plyparser import Coord\n",
        "\n",
        "\n",
        "RE_CHILD_ARRAY = re.compile(r'(.*)\\[(.*)\\]')\n",
        "RE_INTERNAL_ATTR = re.compile('__.*__')\n",
        "\n",
        "\n",
        "class CJsonError(Exception):\n",
        "    pass\n",
        "\n",
        "\n",
        "def memodict(fn):\n",
        "    \"\"\" Fast memoization decorator for a function taking a single argument \"\"\"\n",
        "    class memodict(dict):\n",
        "        def __missing__(self, key):\n",
        "            ret = self[key] = fn(key)\n",
        "            return ret\n",
        "    return memodict().__getitem__\n",
        "\n",
        "\n",
        "@memodict\n",
        "def child_attrs_of(klass):\n",
        "    \"\"\"\n",
        "    Given a Node class, get a set of child attrs.\n",
        "    Memoized to avoid highly repetitive string manipulation\n",
        "\n",
        "    \"\"\"\n",
        "    non_child_attrs = set(klass.attr_names)\n",
        "    all_attrs = set([i for i in klass.__slots__ if not RE_INTERNAL_ATTR.match(i)])\n",
        "    return all_attrs - non_child_attrs\n",
        "\n",
        "\n",
        "def to_dict(node):\n",
        "    \"\"\" Recursively convert an ast into dict representation. \"\"\"\n",
        "    klass = node.__class__\n",
        "\n",
        "    result = {}\n",
        "\n",
        "    # Metadata\n",
        "    result['_nodetype'] = klass.__name__\n",
        "\n",
        "    # Local node attributes\n",
        "    for attr in klass.attr_names:\n",
        "        result[attr] = getattr(node, attr)\n",
        "\n",
        "    # Coord object\n",
        "    if node.coord:\n",
        "        result['coord'] = str(node.coord)\n",
        "    else:\n",
        "      result['coord'] = 'file :15:01'\n",
        "        \n",
        "  #eben experiment changeing None to 1:1:1970. start of computer time or file:line[:column]<none>:15:13\n",
        "  #this worked  result['coord'] = _parse_coord('file :15:01') This the original. replace after testing\n",
        "\n",
        "    # Child attributes\n",
        "    for child_name, child in node.children():\n",
        "        # Child strings are either simple (e.g. 'value') or arrays (e.g. 'block_items[1]')\n",
        "        match = RE_CHILD_ARRAY.match(child_name)\n",
        "        if match:\n",
        "            array_name, array_index = match.groups()\n",
        "            array_index = int(array_index)\n",
        "            # arrays come in order, so we verify and append.\n",
        "            result[array_name] = result.get(array_name, [])\n",
        "            if array_index != len(result[array_name]):\n",
        "                raise CJsonError('Internal ast error. Array {} out of order. '\n",
        "                    'Expected index {}, got {}'.format(\n",
        "                    array_name, len(result[array_name]), array_index))\n",
        "            result[array_name].append(to_dict(child))\n",
        "        else:\n",
        "            result[child_name] = to_dict(child)\n",
        "\n",
        "    # Any child attributes that were missing need \"None\" values in the json.\n",
        "    for child_attr in child_attrs_of(klass):\n",
        "        if child_attr not in result:\n",
        "            result[child_attr] = None\n",
        "\n",
        "    return result\n",
        "\n",
        "\n",
        "def to_json(node, **kwargs):\n",
        "    \"\"\" Convert ast node to json string \"\"\"\n",
        "    return json.dumps(to_dict(node), **kwargs)\n",
        "\n",
        "\"\"\"\n",
        "# to avoid probles while not yet working with files \n",
        "def file_to_dict(filename):\n",
        "    ### Load C file into dict representation of ast### \n",
        "    ast = parse_file(filename, use_cpp=True)\n",
        "    return to_dict(ast)\n",
        "\n",
        "\n",
        "def file_to_json(filename, **kwargs):\n",
        "    ### Load C file into json string representation of ast ###\n",
        "    ast = parse_file(filename, use_cpp=True)\n",
        "    return to_json(ast, **kwargs)\n",
        "\"\"\"\n",
        "\n",
        "def _parse_coord(coord_str):\n",
        "    \"\"\" Parse coord string (file:line[:column]) into Coord object. \"\"\"\n",
        "    if coord_str is None:\n",
        "        return None\n",
        "\n",
        "    vals = coord_str.split(':')\n",
        "    vals.extend([None] * 3)\n",
        "    filename, line, column = vals[:3]\n",
        "    return Coord(filename, line, column)\n",
        "\n",
        "\n",
        "def _convert_to_obj(value):\n",
        "    \"\"\"\n",
        "    Convert an object in the dict representation into an object.\n",
        "    Note: Mutually recursive with from_dict.\n",
        "\n",
        "    \"\"\"\n",
        "    value_type = type(value)\n",
        "    if value_type == dict:\n",
        "        return from_dict(value)\n",
        "    elif value_type == list:\n",
        "        return [_convert_to_obj(item) for item in value]\n",
        "    else:\n",
        "        # String\n",
        "        return value\n",
        "\n",
        "\n",
        "def from_dict(node_dict):\n",
        "    \"\"\" Recursively build an ast from dict representation \"\"\"\n",
        "    class_name = node_dict.pop('_nodetype')\n",
        "\n",
        "    klass = getattr(c_ast, class_name)\n",
        "\n",
        "    # Create a new dict containing the key-value pairs which we can pass\n",
        "    # to node constructors.\n",
        "    objs = {}\n",
        "    for key, value in node_dict.items():\n",
        "        if key == 'coord':\n",
        "            objs[key] = _parse_coord(value)\n",
        "        else:\n",
        "            objs[key] = _convert_to_obj(value)\n",
        "\n",
        "    # Use keyword parameters, which works thanks to beautifully consistent\n",
        "    # ast Node initializers.\n",
        "    return klass(**objs)\n",
        "\n",
        "\n",
        "def from_json(ast_json):\n",
        "    \"\"\" Build an ast from json string representation \"\"\"\n",
        "    return from_dict(json.loads(ast_json))\n",
        "\n",
        "\n",
        "#------------------------------------------------------------------------------\n",
        "\"\"\"\n",
        "if __name__ == \"__main__\":\n",
        "    if len(sys.argv) > 1:\n",
        "        # Some test code...\n",
        "        # Do trip from C -> ast -> dict -> ast -> json, then print.\n",
        "        ast_dict = file_to_dict(sys.argv[1])\n",
        "        ast = from_dict(ast_dict)\n",
        "        print(to_json(ast, sort_keys=True, indent=4))\n",
        "    else:\n",
        "        print(\"Please provide a filename as argument\")\n",
        "\"\"\""
      ],
      "execution_count": null,
      "outputs": [
        {
          "output_type": "execute_result",
          "data": {
            "application/vnd.google.colaboratory.intrinsic+json": {
              "type": "string"
            },
            "text/plain": [
              "'\\nif __name__ == \"__main__\":\\n    if len(sys.argv) > 1:\\n        # Some test code...\\n        # Do trip from C -> ast -> dict -> ast -> json, then print.\\n        ast_dict = file_to_dict(sys.argv[1])\\n        ast = from_dict(ast_dict)\\n        print(to_json(ast, sort_keys=True, indent=4))\\n    else:\\n        print(\"Please provide a filename as argument\")\\n'"
            ]
          },
          "metadata": {},
          "execution_count": 1
        }
      ]
    },
    {
      "cell_type": "markdown",
      "metadata": {
        "id": "eWfs9PknBUjo"
      },
      "source": [
        "## Get Nodes and Edges from c ast for NetworkX implimentation  "
      ]
    },
    {
      "cell_type": "code",
      "metadata": {
        "id": "C_WpYHcKnkd_"
      },
      "source": [
        "#Sample code for texting\n",
        "\n",
        "text = r\"\"\"\n",
        "    typedef int Node, Hash;\n",
        "    void HashPrint(Hash* hash, void (*PrintFunc)(char*, char*))\n",
        "    {\n",
        "        unsigned int i;\n",
        "        if (hash == NULL || hash->heads == NULL)\n",
        "            return;\n",
        "        for (i = 0; i < hash->table_size; ++i)\n",
        "        {\n",
        "            Node* temp = hash->heads[i];\n",
        "            while (temp != NULL)\n",
        "            {\n",
        "                PrintFunc(temp->entry->key, temp->entry->value);\n",
        "                temp = temp->next;\n",
        "            }\n",
        "        }\n",
        "    }\n",
        "\"\"\"\n"
      ],
      "execution_count": null,
      "outputs": []
    },
    {
      "cell_type": "code",
      "metadata": {
        "id": "8ivhOBW5rKsZ"
      },
      "source": [
        "from pycparser import c_parser\n",
        "\n",
        "parser = c_parser.CParser()\n",
        "sample_ast = parser.parse(text, filename='<none>')\n",
        "#parsed sample_ast print out too long (> 5000 lines)"
      ],
      "execution_count": null,
      "outputs": []
    },
    {
      "cell_type": "code",
      "metadata": {
        "colab": {
          "base_uri": "https://localhost:8080/"
        },
        "id": "F0s4m74Ut1S9",
        "outputId": "fb76691d-ad35-437c-a49e-52c81c4c3ab5"
      },
      "source": [
        "dict_node = to_dict(sample_ast)\n",
        "print(dict_node)"
      ],
      "execution_count": null,
      "outputs": [
        {
          "output_type": "stream",
          "name": "stdout",
          "text": [
            "{'_nodetype': 'FileAST', 'coord': 'file :15:01', 'ext': [{'_nodetype': 'Typedef', 'name': 'Node', 'quals': [], 'storage': ['typedef'], 'coord': '<none>:2:17', 'type': {'_nodetype': 'TypeDecl', 'declname': 'Node', 'quals': [], 'coord': '<none>:2:17', 'type': {'_nodetype': 'IdentifierType', 'names': ['int'], 'coord': '<none>:2:13'}}}, {'_nodetype': 'Typedef', 'name': 'Hash', 'quals': [], 'storage': ['typedef'], 'coord': '<none>:2:23', 'type': {'_nodetype': 'TypeDecl', 'declname': 'Hash', 'quals': [], 'coord': '<none>:2:23', 'type': {'_nodetype': 'IdentifierType', 'names': ['int'], 'coord': '<none>:2:13'}}}, {'_nodetype': 'FuncDef', 'coord': '<none>:3:10', 'decl': {'_nodetype': 'Decl', 'name': 'HashPrint', 'quals': [], 'storage': [], 'funcspec': [], 'coord': '<none>:3:10', 'type': {'_nodetype': 'FuncDecl', 'coord': '<none>:3:10', 'args': {'_nodetype': 'ParamList', 'coord': '<none>:3:24', 'params': [{'_nodetype': 'Decl', 'name': 'hash', 'quals': [], 'storage': [], 'funcspec': [], 'coord': '<none>:3:24', 'type': {'_nodetype': 'PtrDecl', 'quals': [], 'coord': '<none>:3:24', 'type': {'_nodetype': 'TypeDecl', 'declname': 'hash', 'quals': [], 'coord': '<none>:3:26', 'type': {'_nodetype': 'IdentifierType', 'names': ['Hash'], 'coord': '<none>:3:20'}}}, 'bitsize': None, 'init': None}, {'_nodetype': 'Decl', 'name': 'PrintFunc', 'quals': [], 'storage': [], 'funcspec': [], 'coord': '<none>:3:38', 'type': {'_nodetype': 'PtrDecl', 'quals': [], 'coord': '<none>:3:38', 'type': {'_nodetype': 'FuncDecl', 'coord': '<none>:3:38', 'args': {'_nodetype': 'ParamList', 'coord': '<none>:0:1', 'params': [{'_nodetype': 'Typename', 'name': None, 'quals': [], 'coord': '<none>:0:1', 'type': {'_nodetype': 'PtrDecl', 'quals': [], 'coord': '<none>:3:54', 'type': {'_nodetype': 'TypeDecl', 'declname': None, 'quals': [], 'coord': 'file :15:01', 'type': {'_nodetype': 'IdentifierType', 'names': ['char'], 'coord': '<none>:3:50'}}}}, {'_nodetype': 'Typename', 'name': None, 'quals': [], 'coord': '<none>:0:1', 'type': {'_nodetype': 'PtrDecl', 'quals': [], 'coord': '<none>:3:61', 'type': {'_nodetype': 'TypeDecl', 'declname': None, 'quals': [], 'coord': 'file :15:01', 'type': {'_nodetype': 'IdentifierType', 'names': ['char'], 'coord': '<none>:3:57'}}}}]}, 'type': {'_nodetype': 'TypeDecl', 'declname': 'PrintFunc', 'quals': [], 'coord': '<none>:3:39', 'type': {'_nodetype': 'IdentifierType', 'names': ['void'], 'coord': '<none>:3:32'}}}}, 'bitsize': None, 'init': None}]}, 'type': {'_nodetype': 'TypeDecl', 'declname': 'HashPrint', 'quals': [], 'coord': '<none>:3:10', 'type': {'_nodetype': 'IdentifierType', 'names': ['void'], 'coord': '<none>:3:5'}}}, 'bitsize': None, 'init': None}, 'body': {'_nodetype': 'Compound', 'coord': '<none>:4:1', 'block_items': [{'_nodetype': 'Decl', 'name': 'i', 'quals': [], 'storage': [], 'funcspec': [], 'coord': '<none>:5:22', 'type': {'_nodetype': 'TypeDecl', 'declname': 'i', 'quals': [], 'coord': '<none>:5:22', 'type': {'_nodetype': 'IdentifierType', 'names': ['unsigned', 'int'], 'coord': '<none>:5:9'}}, 'bitsize': None, 'init': None}, {'_nodetype': 'If', 'coord': '<none>:6:9', 'cond': {'_nodetype': 'BinaryOp', 'op': '||', 'coord': '<none>:6:13', 'left': {'_nodetype': 'BinaryOp', 'op': '==', 'coord': '<none>:6:13', 'left': {'_nodetype': 'ID', 'name': 'hash', 'coord': '<none>:6:13'}, 'right': {'_nodetype': 'ID', 'name': 'NULL', 'coord': '<none>:6:21'}}, 'right': {'_nodetype': 'BinaryOp', 'op': '==', 'coord': '<none>:6:29', 'left': {'_nodetype': 'StructRef', 'type': '->', 'coord': '<none>:6:29', 'name': {'_nodetype': 'ID', 'name': 'hash', 'coord': '<none>:6:29'}, 'field': {'_nodetype': 'ID', 'name': 'heads', 'coord': '<none>:6:35'}}, 'right': {'_nodetype': 'ID', 'name': 'NULL', 'coord': '<none>:6:44'}}}, 'iftrue': {'_nodetype': 'Return', 'coord': '<none>:7:13', 'expr': None}, 'iffalse': None}, {'_nodetype': 'For', 'coord': '<none>:8:9', 'init': {'_nodetype': 'Assignment', 'op': '=', 'coord': '<none>:8:14', 'lvalue': {'_nodetype': 'ID', 'name': 'i', 'coord': '<none>:8:14'}, 'rvalue': {'_nodetype': 'Constant', 'type': 'int', 'value': '0', 'coord': '<none>:8:18'}}, 'cond': {'_nodetype': 'BinaryOp', 'op': '<', 'coord': '<none>:8:21', 'left': {'_nodetype': 'ID', 'name': 'i', 'coord': '<none>:8:21'}, 'right': {'_nodetype': 'StructRef', 'type': '->', 'coord': '<none>:8:25', 'name': {'_nodetype': 'ID', 'name': 'hash', 'coord': '<none>:8:25'}, 'field': {'_nodetype': 'ID', 'name': 'table_size', 'coord': '<none>:8:31'}}}, 'next': {'_nodetype': 'UnaryOp', 'op': '++', 'coord': '<none>:8:45', 'expr': {'_nodetype': 'ID', 'name': 'i', 'coord': '<none>:8:45'}}, 'stmt': {'_nodetype': 'Compound', 'coord': '<none>:9:1', 'block_items': [{'_nodetype': 'Decl', 'name': 'temp', 'quals': [], 'storage': [], 'funcspec': [], 'coord': '<none>:10:17', 'type': {'_nodetype': 'PtrDecl', 'quals': [], 'coord': '<none>:10:17', 'type': {'_nodetype': 'TypeDecl', 'declname': 'temp', 'quals': [], 'coord': '<none>:10:19', 'type': {'_nodetype': 'IdentifierType', 'names': ['Node'], 'coord': '<none>:10:13'}}}, 'init': {'_nodetype': 'ArrayRef', 'coord': '<none>:10:26', 'name': {'_nodetype': 'StructRef', 'type': '->', 'coord': '<none>:10:26', 'name': {'_nodetype': 'ID', 'name': 'hash', 'coord': '<none>:10:26'}, 'field': {'_nodetype': 'ID', 'name': 'heads', 'coord': '<none>:10:32'}}, 'subscript': {'_nodetype': 'ID', 'name': 'i', 'coord': '<none>:10:38'}}, 'bitsize': None}, {'_nodetype': 'While', 'coord': '<none>:11:13', 'cond': {'_nodetype': 'BinaryOp', 'op': '!=', 'coord': '<none>:11:20', 'left': {'_nodetype': 'ID', 'name': 'temp', 'coord': '<none>:11:20'}, 'right': {'_nodetype': 'ID', 'name': 'NULL', 'coord': '<none>:11:28'}}, 'stmt': {'_nodetype': 'Compound', 'coord': '<none>:12:1', 'block_items': [{'_nodetype': 'FuncCall', 'coord': '<none>:13:17', 'name': {'_nodetype': 'ID', 'name': 'PrintFunc', 'coord': '<none>:13:17'}, 'args': {'_nodetype': 'ExprList', 'coord': '<none>:13:27', 'exprs': [{'_nodetype': 'StructRef', 'type': '->', 'coord': '<none>:13:27', 'name': {'_nodetype': 'StructRef', 'type': '->', 'coord': '<none>:13:27', 'name': {'_nodetype': 'ID', 'name': 'temp', 'coord': '<none>:13:27'}, 'field': {'_nodetype': 'ID', 'name': 'entry', 'coord': '<none>:13:33'}}, 'field': {'_nodetype': 'ID', 'name': 'key', 'coord': '<none>:13:40'}}, {'_nodetype': 'StructRef', 'type': '->', 'coord': '<none>:13:45', 'name': {'_nodetype': 'StructRef', 'type': '->', 'coord': '<none>:13:45', 'name': {'_nodetype': 'ID', 'name': 'temp', 'coord': '<none>:13:45'}, 'field': {'_nodetype': 'ID', 'name': 'entry', 'coord': '<none>:13:51'}}, 'field': {'_nodetype': 'ID', 'name': 'value', 'coord': '<none>:13:58'}}]}}, {'_nodetype': 'Assignment', 'op': '=', 'coord': '<none>:14:17', 'lvalue': {'_nodetype': 'ID', 'name': 'temp', 'coord': '<none>:14:17'}, 'rvalue': {'_nodetype': 'StructRef', 'type': '->', 'coord': '<none>:14:24', 'name': {'_nodetype': 'ID', 'name': 'temp', 'coord': '<none>:14:24'}, 'field': {'_nodetype': 'ID', 'name': 'next', 'coord': '<none>:14:30'}}}]}}]}}]}, 'param_decls': None}]}\n"
          ]
        }
      ]
    },
    {
      "cell_type": "code",
      "metadata": {
        "id": "UywMuXee01pR"
      },
      "source": [
        "#Flattens Nested dicts updated Aug 11, 2021 to account for safe use of list in parameter \n",
        "def flatten_nested_dict(d, parents=None):\n",
        "    \"\"\"\n",
        "    This function iterates over nested dicts and returns a list of tuples: (key, value, parent_keys)\n",
        "    \"\"\"\n",
        "    if parents is None:\n",
        "      parents = [] #creating a new list for local namespace each time function runs.\n",
        "    r = []\n",
        "\n",
        "    for k,v in d.items():\n",
        "        if isinstance(v, dict):\n",
        "            r.extend(flatten_nested_dict(v, parents + [k]))\n",
        "        elif isinstance(v, list):\n",
        "          for ele in v:\n",
        "            if isinstance(ele, dict):\n",
        "              r.extend(flatten_nested_dict(ele, parents + [k]))\n",
        "            else:\n",
        "              r.append((parents, k, v))\n",
        "          \n",
        "        else:\n",
        "            r.append((parents, k, v))\n",
        "            \n",
        "    return r\n"
      ],
      "execution_count": null,
      "outputs": []
    },
    {
      "cell_type": "code",
      "metadata": {
        "id": "B73RIIFALsTD"
      },
      "source": [
        "#June 18,2021. BEST VERSION\n",
        "#1.coordate as node attributes.\n",
        "#2.edge indexing i.e from top to bottom.\n",
        "#Main's Entry format: (main index, len of parent_list, ast&coord index for use in nx, entrytype, entryname, parent list)\n",
        "main_indx, nx_key_sim = 0, 0\n",
        "main = []\n",
        "nx_nodes_uid = []\n",
        "node_attrs_lst = []\n",
        "nx_edges = []\n",
        "sorted_edges = [] \n",
        "parent_child_edges = []\n",
        "nodes_with_seq_children = [('Case', 'stmts'), ('Compound', 'block_items'), ('DeclList', 'decls'), ('Default', 'stmts'), ('EnumeratorList', 'enumerators'), ('ExprList', 'exprs'), ('FileAST', 'ext'),  ('FuncDef', 'param_decls'), ('InitList', 'exprs'), ('NamedInitializer',  'name'), ('ParamList', 'params'), ('Struct', 'decls'), ('Union', 'decls')]\n",
        "identifier_nodes_types = [('Decl', 'name'), ('Enum', 'name'), ('Enumerator', 'name'), ('Goto', 'name'), ('ID', 'name'), ('Label', 'name'),('Struct', 'name'), ('Typedef', 'name'), ('Typename', 'name'), ('Union', 'name')]\n",
        "identifiers_nodes = []\n",
        "ID_nodes = []\n",
        "\n",
        "\n",
        "for x, y, z in flatten_nested_dict(dict_node):\n",
        "\n",
        "  if y == '_nodetype' :\n",
        "    main.append((main_indx, len(x), nx_key_sim, y, z, x))\n",
        "    #print((main_indx, len(x),nx_key_sim, y, z, x))\n",
        "    nx_nodes_uid.append((nx_key_sim, {y : z}))\n",
        "    \n",
        "\n",
        "    #Root Edge\n",
        "    indices_b4_curr_root_child = main_indx - 1\n",
        "    for i in range(indices_b4_curr_root_child, -1, -1):\n",
        "      if ((main[i][3] == '_nodetype') and (main[i][1] == 0) and (len(x) == 1 and x[-1] == 'ext') and (y == '_nodetype')):\n",
        "        #print(\"Root edge {}\".format((main[i][2], nx_key_sim, {'edge_type': 'ExtDecl'})))\n",
        "        nx_edges.append((main[i][2], nx_key_sim, {'edge_type': 'ExtDecl'}))\n",
        "        break\n",
        "\n",
        "    #Parent Child Edge\n",
        "    indices_b4_curr_par_child = main_indx - 1\n",
        "    for i in range(indices_b4_curr_root_child, -1, -1):\n",
        "      if ((main[i][3] == '_nodetype') and (len(x) - main[i][1] == 1) and (y == '_nodetype')):\n",
        "        #print(\"Child edge {}\".format((main[i][2], nx_key_sim, {'edge_type': 'Child'})))\n",
        "        #print(\"Parent edge {}\".format((nx_key_sim, main[i][2], {'edge_type': 'Parent'})))\n",
        "        parent_child_edges.append((main[i][2], nx_key_sim, {'edge_type': 'Child'}))\n",
        "        parent_child_edges.append((nx_key_sim, main[i][2], {'edge_type': 'Parent'}))\n",
        "        nx_edges.append((main[i][2], nx_key_sim, {'edge_type': 'Child'}))\n",
        "        nx_edges.append((nx_key_sim, main[i][2], {'edge_type': 'Parent'}))\n",
        "        break\n",
        "\n",
        "    #Nextstmt Edge\n",
        "    indices_b4_curr_node = main_indx - 1\n",
        "    for i in range(indices_b4_curr_node, -1, -1):\n",
        "      if ((main[i][3] == '_nodetype') and (len(x) - main[i][1] == 1) and (y == '_nodetype') and ((main[i][4],x[-1]) in nodes_with_seq_children)):\n",
        "        NextStmt_i = next((ast_i for (main_i, par_lst_len, ast_i, node_type, node_name, par_lst) in main[indices_b4_curr_node::-1] if ((node_type == '_nodetype') and (ast_i > main[i][2]) and (par_lst_len == len(x)))),None)\n",
        "        if (NextStmt_i != None):\n",
        "          #print(\"Nextstmt edge {}\".format((NextStmt_i, nx_key_sim, {'edge_type': 'NextStmt'})))\n",
        "          nx_edges.append((NextStmt_i, nx_key_sim, {'edge_type': 'NextStmt'}))\n",
        "        break\n",
        "\n",
        "    #If CondFalse Edge\n",
        "    indices_b4_curr_node = main_indx - 1\n",
        "    for i in range(indices_b4_curr_node, -1, -1):\n",
        "      if ((main[i][3] == '_nodetype') and (len(x) - main[i][1] == 1) and (y == '_nodetype') and (main[i][4] == 'If') and (x[-1] == 'iffalse')):\n",
        "        If_cond_i = next((ast_i for (main_i, par_lst_len, ast_i, node_type, node_name, par_lst) in main[indices_b4_curr_node::-1] if ((node_type == '_nodetype') and (ast_i > main[i][2]) and (par_lst[-1] == 'cond') and (par_lst_len == len(x)))),None)\n",
        "        if ( If_cond_i != None):\n",
        "          #print(\"IF condFalse edge {}\".format((If_cond_i, nx_key_sim, {'edge_type': 'condFalse'})))\n",
        "          nx_edges.append((If_cond_i, nx_key_sim, {'edge_type': 'condFalse'}))\n",
        "        break\n",
        "\n",
        "    #If CondTrue Edge\n",
        "    indices_b4_curr_node = main_indx - 1\n",
        "    for i in range(indices_b4_curr_node, -1, -1):\n",
        "      if ((main[i][3] == '_nodetype') and (len(x) - main[i][1] == 1) and (y == '_nodetype') and (main[i][4] == 'If') and (x[-1] == 'iftrue')):\n",
        "        If_cond_i = next((ast_i for (main_i, par_lst_len, ast_i, node_type, node_name, par_lst) in main[indices_b4_curr_node::-1] if ((node_type == '_nodetype') and (ast_i > main[i][2]) and (par_lst[-1] == 'cond') and (par_lst_len == len(x)))),None)\n",
        "        if ( If_cond_i != None):\n",
        "          #print(\"IF condTrue edges {}\".format((If_cond_i, nx_key_sim, {'edge_type': 'CondTrue'})))\n",
        "          nx_edges.append((If_cond_i, nx_key_sim, {'edge_type': 'CondTrue'}))\n",
        "        break\n",
        "    \n",
        "    #While Edges\n",
        "    indices_b4_curr_node = main_indx - 1\n",
        "    for i in range(indices_b4_curr_node, -1, -1):\n",
        "      if ((main[i][3] == '_nodetype') and (len(x) - main[i][1] == 1) and (y == '_nodetype') and (main[i][4] == 'While') and (x[-1] == 'stmt')):\n",
        "        While_cond_i = next((ast_i for (main_i, par_lst_len, ast_i, node_type, node_name, par_lst) in main[indices_b4_curr_node::-1] if ((node_type == '_nodetype') and (ast_i > main[i][2]) and (par_lst[-1] == 'cond') and (par_lst_len == len(x)))),None)\n",
        "        if ( If_cond_i != None):\n",
        "          #print(\"WhileExec edges {}\".format((While_cond_i, nx_key_sim, {'edge_type': 'WhileExec'})))\n",
        "          nx_edges.append((While_cond_i, nx_key_sim, {'edge_type': 'WhileExec'}))\n",
        "          #print(\"WhileNext edge {}\".format((nx_key_sim, While_cond_i, {'edge_type': 'WhileNext'})))\n",
        "          nx_edges.append((nx_key_sim, While_cond_i, {'edge_type': 'WhileNext'}))\n",
        "        break\n",
        "    \n",
        "    #For Edges\n",
        "    indices_b4_curr_node = main_indx - 1\n",
        "    for i in range(indices_b4_curr_node, -1, -1):\n",
        "      if ((main[i][3] == '_nodetype') and (len(x) - main[i][1] == 1) and (y == '_nodetype') and (main[i][4] == 'For') and (x[-1] == 'stmt')):\n",
        "        For_cond_i = next((ast_i for (main_i, par_lst_len, ast_i, node_type, node_name, par_lst) in main[indices_b4_curr_node::-1] if ((node_type == '_nodetype') and (ast_i > main[i][2]) and (par_lst[-1] == 'cond') and (par_lst_len == len(x)))),None)\n",
        "        if ( If_cond_i != None):\n",
        "          #print(\"ForExec edges {}\".format((For_cond_i, nx_key_sim, {'edge_type': 'ForExec'})))\n",
        "          nx_edges.append((For_cond_i, nx_key_sim, {'edge_type': 'WhileExec'}))\n",
        "          #print(\"ForNext edge {}\".format((nx_key_sim,  For_cond_i, {'edge_type': 'ForNext'})))\n",
        "          nx_edges.append((nx_key_sim,  For_cond_i, {'edge_type': 'ForNext'}))\n",
        "        break\n",
        "    \n",
        "    #NextSib Edge\n",
        "    indices_b4_curr_node = main_indx - 1\n",
        "    for i in range(indices_b4_curr_node, -1, -1):\n",
        "      if (main[i][3] == '_nodetype') and (len(x) - main[i][1] == 1) and (y == '_nodetype'):\n",
        "        NextSib_i = next((ast_i for (main_i, par_lst_len, ast_i, node_type, node_name, par_lst) in main[indices_b4_curr_node::-1] if ((node_type == '_nodetype') and (nx_key_sim - ast_i == 2) and (par_lst_len == len(x)))),None)\n",
        "        if ( NextSib_i != None):\n",
        "          #print(\"NextSib edge {}\".format((NextSib_i, nx_key_sim, {'edge_type': 'NextSib'})))\n",
        "          nx_edges.append((NextSib_i, nx_key_sim, {'edge_type': 'NextSib'}))\n",
        "        break\n",
        "    \n",
        "    \n",
        "    nx_key_sim += 1\n",
        "\n",
        "  else:\n",
        "    indices_b4_curr_attr = main_indx - 1\n",
        "    for i in range(indices_b4_curr_attr, -1, -1):\n",
        "      if (main[i][3] == '_nodetype') and (main[i][1] == len(x)):\n",
        "        node_attrs_lst.append((main[i][2], main[i][4], y, z))\n",
        "        break\n",
        "    main.append((main_indx,len(x),'_', y , z, x))\n",
        "    #print((main_indx, len(x),'_', y , z, x))\n",
        "    \n",
        "\n",
        "    #identifier nodes for NextToken and NextUse use.\n",
        "    indices_b4_curr_node = main_indx - 1\n",
        "    for i in range(indices_b4_curr_node, -1, -1):\n",
        "      if ((main[i][3] == '_nodetype') and (main[i][1] == len(x)) and (z != None) and ((main[i][4], y) in identifier_nodes_types)):\n",
        "        #print((main[i][2], main[i][4], z))\n",
        "        identifiers_nodes.append((main[i][2], main[i][4], z))\n",
        "        if main[i][4] == 'ID':\n",
        "          #print(\"IDs for NextUse{}\".format((main[i][2], main[i][4], z)))\n",
        "          ID_nodes.append((main[i][2], main[i][4], z))\n",
        "        break\n",
        "\n",
        "  \n",
        "  main_indx += 1\n",
        "\n",
        "#NextToken Edge\n",
        "for j,k in zip(identifiers_nodes, identifiers_nodes[1:]):\n",
        "  #print(\"NextToken edge {}\".format((j[0], k[0], {'edge_type': 'NextToken'})))\n",
        "  nx_edges.append((j[0], k[0], {'edge_type': 'NextToken'}))\n",
        "\n",
        "#NextUse Edge\n",
        "indices_b4_curr = (len(ID_nodes) - 1)\n",
        "for item in ID_nodes[:0:-1]:\n",
        "  indices_b4_curr -= 1\n",
        "  NextUse_i = next((ast_i for (ast_i, node_type, node_name) in ID_nodes[indices_b4_curr::-1] if node_name == item[2]),None)\n",
        "  if ( NextUse_i != None):\n",
        "    #print(\"NextUse edge {}\".format((NextUse_i, item[0], {'edge_type': 'NextUse'})))\n",
        "    nx_edges.append((NextUse_i, item[0], {'edge_type': 'NextUse'})) \n",
        "\n",
        "#Sorted Edges\n",
        "sorted_edges = sorted(nx_edges, key = lambda x: x[0])\n"
      ],
      "execution_count": null,
      "outputs": []
    },
    {
      "cell_type": "markdown",
      "metadata": {
        "id": "2u4A5vM5jsCg"
      },
      "source": [
        "## NetworkX implimentation of c ast"
      ]
    },
    {
      "cell_type": "code",
      "metadata": {
        "id": "SW17WPQpAuwc"
      },
      "source": [
        "import networkx as nx"
      ],
      "execution_count": null,
      "outputs": []
    },
    {
      "cell_type": "code",
      "metadata": {
        "id": "3HfJTMdfOfSu"
      },
      "source": [
        "#July 17,2021. Next time we will loop throught ou data list and read the names from there.\n",
        "#Let's build AST nx graph.\n",
        "G = nx.MultiDiGraph(source_code_path = \"Eli's sample c code\", source_code_task = 223)"
      ],
      "execution_count": null,
      "outputs": []
    },
    {
      "cell_type": "code",
      "metadata": {
        "colab": {
          "base_uri": "https://localhost:8080/"
        },
        "id": "ezKgraH8jT9F",
        "outputId": "af03ea11-a95b-4b2c-b6fe-5132d6e39370"
      },
      "source": [
        "G.graph"
      ],
      "execution_count": null,
      "outputs": [
        {
          "output_type": "execute_result",
          "data": {
            "text/plain": [
              "{'source_code_path': \"Eli's sample c code\", 'source_code_task': 223}"
            ]
          },
          "metadata": {},
          "execution_count": 9
        }
      ]
    },
    {
      "cell_type": "code",
      "metadata": {
        "colab": {
          "base_uri": "https://localhost:8080/",
          "height": 35
        },
        "id": "BwlSjIHyLbZZ",
        "outputId": "d2599128-c616-41ae-ed43-b528ddb13a68"
      },
      "source": [
        "G.graph['source_code_path']"
      ],
      "execution_count": null,
      "outputs": [
        {
          "output_type": "execute_result",
          "data": {
            "application/vnd.google.colaboratory.intrinsic+json": {
              "type": "string"
            },
            "text/plain": [
              "\"Eli's sample c code\""
            ]
          },
          "metadata": {},
          "execution_count": 10
        }
      ]
    },
    {
      "cell_type": "code",
      "metadata": {
        "colab": {
          "base_uri": "https://localhost:8080/"
        },
        "id": "CQz5Wp6PLi8i",
        "outputId": "98b0be08-ee33-46f9-b25e-2949c1c96f9d"
      },
      "source": [
        "G.graph['source_code_task']"
      ],
      "execution_count": null,
      "outputs": [
        {
          "output_type": "execute_result",
          "data": {
            "text/plain": [
              "223"
            ]
          },
          "metadata": {},
          "execution_count": 11
        }
      ]
    },
    {
      "cell_type": "code",
      "metadata": {
        "id": "OYsiuw6vl3co"
      },
      "source": [
        "#Add AST Nodes\n",
        "G.add_nodes_from(nx_nodes_uid)"
      ],
      "execution_count": null,
      "outputs": []
    },
    {
      "cell_type": "code",
      "metadata": {
        "colab": {
          "base_uri": "https://localhost:8080/"
        },
        "id": "20lWYmBrsx0a",
        "outputId": "2b25f00f-e174-4741-9594-abf423688b8a"
      },
      "source": [
        "#test\n",
        "G.nodes"
      ],
      "execution_count": null,
      "outputs": [
        {
          "output_type": "execute_result",
          "data": {
            "text/plain": [
              "NodeView((0, 1, 2, 3, 4, 5, 6, 7, 8, 9, 10, 11, 12, 13, 14, 15, 16, 17, 18, 19, 20, 21, 22, 23, 24, 25, 26, 27, 28, 29, 30, 31, 32, 33, 34, 35, 36, 37, 38, 39, 40, 41, 42, 43, 44, 45, 46, 47, 48, 49, 50, 51, 52, 53, 54, 55, 56, 57, 58, 59, 60, 61, 62, 63, 64, 65, 66, 67, 68, 69, 70, 71, 72, 73, 74, 75, 76, 77, 78, 79, 80, 81, 82, 83, 84, 85, 86, 87, 88, 89))"
            ]
          },
          "metadata": {},
          "execution_count": 13
        }
      ]
    },
    {
      "cell_type": "code",
      "metadata": {
        "id": "f5rtTV521Bf_"
      },
      "source": [
        "#Add Nodes Attributes\n",
        "for a, _,c,d in node_attrs_lst:\n",
        "  G.nodes[a][c] = d"
      ],
      "execution_count": null,
      "outputs": []
    },
    {
      "cell_type": "code",
      "metadata": {
        "colab": {
          "base_uri": "https://localhost:8080/"
        },
        "id": "REinyjDmuFRY",
        "outputId": "bc44ed88-44fb-44ba-b1d2-19d911b02a7d"
      },
      "source": [
        "#test\n",
        "G.nodes[2]"
      ],
      "execution_count": null,
      "outputs": [
        {
          "output_type": "execute_result",
          "data": {
            "text/plain": [
              "{'_nodetype': 'TypeDecl', 'coord': '<none>:2:17', 'declname': 'Node'}"
            ]
          },
          "metadata": {},
          "execution_count": 15
        }
      ]
    },
    {
      "cell_type": "code",
      "metadata": {
        "colab": {
          "base_uri": "https://localhost:8080/"
        },
        "id": "gvVesUHJ6yny",
        "outputId": "681897c8-b36b-46c3-e408-98c225de0b52"
      },
      "source": [
        "type(G.nodes[2])"
      ],
      "execution_count": null,
      "outputs": [
        {
          "output_type": "execute_result",
          "data": {
            "text/plain": [
              "dict"
            ]
          },
          "metadata": {},
          "execution_count": 14
        }
      ]
    },
    {
      "cell_type": "code",
      "metadata": {
        "colab": {
          "base_uri": "https://localhost:8080/"
        },
        "id": "pyy6pF3w9PSt",
        "outputId": "b4e6da85-a15d-4b78-936e-3e6d77813ca7"
      },
      "source": [
        "#test\n",
        "list(G.nodes(data=True))"
      ],
      "execution_count": null,
      "outputs": [
        {
          "output_type": "execute_result",
          "data": {
            "text/plain": [
              "[(0, {'_nodetype': 'FileAST', 'coord': 'file :15:01'}),\n",
              " (1,\n",
              "  {'_nodetype': 'Typedef',\n",
              "   'coord': '<none>:2:17',\n",
              "   'name': 'Node',\n",
              "   'storage': ['typedef']}),\n",
              " (2, {'_nodetype': 'TypeDecl', 'coord': '<none>:2:17', 'declname': 'Node'}),\n",
              " (3,\n",
              "  {'_nodetype': 'IdentifierType', 'coord': '<none>:2:13', 'names': ['int']}),\n",
              " (4,\n",
              "  {'_nodetype': 'Typedef',\n",
              "   'coord': '<none>:2:23',\n",
              "   'name': 'Hash',\n",
              "   'storage': ['typedef']}),\n",
              " (5, {'_nodetype': 'TypeDecl', 'coord': '<none>:2:23', 'declname': 'Hash'}),\n",
              " (6,\n",
              "  {'_nodetype': 'IdentifierType', 'coord': '<none>:2:13', 'names': ['int']}),\n",
              " (7, {'_nodetype': 'FuncDef', 'coord': '<none>:3:10', 'param_decls': None}),\n",
              " (8,\n",
              "  {'_nodetype': 'Decl',\n",
              "   'bitsize': None,\n",
              "   'coord': '<none>:3:10',\n",
              "   'init': None,\n",
              "   'name': 'HashPrint'}),\n",
              " (9, {'_nodetype': 'FuncDecl', 'coord': '<none>:3:10'}),\n",
              " (10, {'_nodetype': 'ParamList', 'coord': '<none>:3:24'}),\n",
              " (11,\n",
              "  {'_nodetype': 'Decl',\n",
              "   'bitsize': None,\n",
              "   'coord': '<none>:3:24',\n",
              "   'init': None,\n",
              "   'name': 'hash'}),\n",
              " (12, {'_nodetype': 'PtrDecl', 'coord': '<none>:3:24'}),\n",
              " (13, {'_nodetype': 'TypeDecl', 'coord': '<none>:3:26', 'declname': 'hash'}),\n",
              " (14,\n",
              "  {'_nodetype': 'IdentifierType', 'coord': '<none>:3:20', 'names': ['Hash']}),\n",
              " (15,\n",
              "  {'_nodetype': 'Decl',\n",
              "   'bitsize': None,\n",
              "   'coord': '<none>:3:38',\n",
              "   'init': None,\n",
              "   'name': 'PrintFunc'}),\n",
              " (16, {'_nodetype': 'PtrDecl', 'coord': '<none>:3:38'}),\n",
              " (17, {'_nodetype': 'FuncDecl', 'coord': '<none>:3:38'}),\n",
              " (18, {'_nodetype': 'ParamList', 'coord': '<none>:0:1'}),\n",
              " (19, {'_nodetype': 'Typename', 'coord': '<none>:0:1', 'name': None}),\n",
              " (20, {'_nodetype': 'PtrDecl', 'coord': '<none>:3:54'}),\n",
              " (21, {'_nodetype': 'TypeDecl', 'coord': 'file :15:01', 'declname': None}),\n",
              " (22,\n",
              "  {'_nodetype': 'IdentifierType', 'coord': '<none>:3:50', 'names': ['char']}),\n",
              " (23, {'_nodetype': 'Typename', 'coord': '<none>:0:1', 'name': None}),\n",
              " (24, {'_nodetype': 'PtrDecl', 'coord': '<none>:3:61'}),\n",
              " (25, {'_nodetype': 'TypeDecl', 'coord': 'file :15:01', 'declname': None}),\n",
              " (26,\n",
              "  {'_nodetype': 'IdentifierType', 'coord': '<none>:3:57', 'names': ['char']}),\n",
              " (27,\n",
              "  {'_nodetype': 'TypeDecl', 'coord': '<none>:3:39', 'declname': 'PrintFunc'}),\n",
              " (28,\n",
              "  {'_nodetype': 'IdentifierType', 'coord': '<none>:3:32', 'names': ['void']}),\n",
              " (29,\n",
              "  {'_nodetype': 'TypeDecl', 'coord': '<none>:3:10', 'declname': 'HashPrint'}),\n",
              " (30,\n",
              "  {'_nodetype': 'IdentifierType', 'coord': '<none>:3:5', 'names': ['void']}),\n",
              " (31, {'_nodetype': 'Compound', 'coord': '<none>:4:1'}),\n",
              " (32,\n",
              "  {'_nodetype': 'Decl',\n",
              "   'bitsize': None,\n",
              "   'coord': '<none>:5:22',\n",
              "   'init': None,\n",
              "   'name': 'i'}),\n",
              " (33, {'_nodetype': 'TypeDecl', 'coord': '<none>:5:22', 'declname': 'i'}),\n",
              " (34,\n",
              "  {'_nodetype': 'IdentifierType',\n",
              "   'coord': '<none>:5:9',\n",
              "   'names': ['unsigned', 'int']}),\n",
              " (35, {'_nodetype': 'If', 'coord': '<none>:6:9', 'iffalse': None}),\n",
              " (36, {'_nodetype': 'BinaryOp', 'coord': '<none>:6:13', 'op': '||'}),\n",
              " (37, {'_nodetype': 'BinaryOp', 'coord': '<none>:6:13', 'op': '=='}),\n",
              " (38, {'_nodetype': 'ID', 'coord': '<none>:6:13', 'name': 'hash'}),\n",
              " (39, {'_nodetype': 'ID', 'coord': '<none>:6:21', 'name': 'NULL'}),\n",
              " (40, {'_nodetype': 'BinaryOp', 'coord': '<none>:6:29', 'op': '=='}),\n",
              " (41, {'_nodetype': 'StructRef', 'coord': '<none>:6:29', 'type': '->'}),\n",
              " (42, {'_nodetype': 'ID', 'coord': '<none>:6:29', 'name': 'hash'}),\n",
              " (43, {'_nodetype': 'ID', 'coord': '<none>:6:35', 'name': 'heads'}),\n",
              " (44, {'_nodetype': 'ID', 'coord': '<none>:6:44', 'name': 'NULL'}),\n",
              " (45, {'_nodetype': 'Return', 'coord': '<none>:7:13', 'expr': None}),\n",
              " (46, {'_nodetype': 'For', 'coord': '<none>:8:9'}),\n",
              " (47, {'_nodetype': 'Assignment', 'coord': '<none>:8:14', 'op': '='}),\n",
              " (48, {'_nodetype': 'ID', 'coord': '<none>:8:14', 'name': 'i'}),\n",
              " (49,\n",
              "  {'_nodetype': 'Constant',\n",
              "   'coord': '<none>:8:18',\n",
              "   'type': 'int',\n",
              "   'value': '0'}),\n",
              " (50, {'_nodetype': 'BinaryOp', 'coord': '<none>:8:21', 'op': '<'}),\n",
              " (51, {'_nodetype': 'ID', 'coord': '<none>:8:21', 'name': 'i'}),\n",
              " (52, {'_nodetype': 'StructRef', 'coord': '<none>:8:25', 'type': '->'}),\n",
              " (53, {'_nodetype': 'ID', 'coord': '<none>:8:25', 'name': 'hash'}),\n",
              " (54, {'_nodetype': 'ID', 'coord': '<none>:8:31', 'name': 'table_size'}),\n",
              " (55, {'_nodetype': 'UnaryOp', 'coord': '<none>:8:45', 'op': '++'}),\n",
              " (56, {'_nodetype': 'ID', 'coord': '<none>:8:45', 'name': 'i'}),\n",
              " (57, {'_nodetype': 'Compound', 'coord': '<none>:9:1'}),\n",
              " (58,\n",
              "  {'_nodetype': 'Decl',\n",
              "   'bitsize': None,\n",
              "   'coord': '<none>:10:17',\n",
              "   'name': 'temp'}),\n",
              " (59, {'_nodetype': 'PtrDecl', 'coord': '<none>:10:17'}),\n",
              " (60, {'_nodetype': 'TypeDecl', 'coord': '<none>:10:19', 'declname': 'temp'}),\n",
              " (61,\n",
              "  {'_nodetype': 'IdentifierType', 'coord': '<none>:10:13', 'names': ['Node']}),\n",
              " (62, {'_nodetype': 'ArrayRef', 'coord': '<none>:10:26'}),\n",
              " (63, {'_nodetype': 'StructRef', 'coord': '<none>:10:26', 'type': '->'}),\n",
              " (64, {'_nodetype': 'ID', 'coord': '<none>:10:26', 'name': 'hash'}),\n",
              " (65, {'_nodetype': 'ID', 'coord': '<none>:10:32', 'name': 'heads'}),\n",
              " (66, {'_nodetype': 'ID', 'coord': '<none>:10:38', 'name': 'i'}),\n",
              " (67, {'_nodetype': 'While', 'coord': '<none>:11:13'}),\n",
              " (68, {'_nodetype': 'BinaryOp', 'coord': '<none>:11:20', 'op': '!='}),\n",
              " (69, {'_nodetype': 'ID', 'coord': '<none>:11:20', 'name': 'temp'}),\n",
              " (70, {'_nodetype': 'ID', 'coord': '<none>:11:28', 'name': 'NULL'}),\n",
              " (71, {'_nodetype': 'Compound', 'coord': '<none>:12:1'}),\n",
              " (72, {'_nodetype': 'FuncCall', 'coord': '<none>:13:17'}),\n",
              " (73, {'_nodetype': 'ID', 'coord': '<none>:13:17', 'name': 'PrintFunc'}),\n",
              " (74, {'_nodetype': 'ExprList', 'coord': '<none>:13:27'}),\n",
              " (75, {'_nodetype': 'StructRef', 'coord': '<none>:13:27', 'type': '->'}),\n",
              " (76, {'_nodetype': 'StructRef', 'coord': '<none>:13:27', 'type': '->'}),\n",
              " (77, {'_nodetype': 'ID', 'coord': '<none>:13:27', 'name': 'temp'}),\n",
              " (78, {'_nodetype': 'ID', 'coord': '<none>:13:33', 'name': 'entry'}),\n",
              " (79, {'_nodetype': 'ID', 'coord': '<none>:13:40', 'name': 'key'}),\n",
              " (80, {'_nodetype': 'StructRef', 'coord': '<none>:13:45', 'type': '->'}),\n",
              " (81, {'_nodetype': 'StructRef', 'coord': '<none>:13:45', 'type': '->'}),\n",
              " (82, {'_nodetype': 'ID', 'coord': '<none>:13:45', 'name': 'temp'}),\n",
              " (83, {'_nodetype': 'ID', 'coord': '<none>:13:51', 'name': 'entry'}),\n",
              " (84, {'_nodetype': 'ID', 'coord': '<none>:13:58', 'name': 'value'}),\n",
              " (85, {'_nodetype': 'Assignment', 'coord': '<none>:14:17', 'op': '='}),\n",
              " (86, {'_nodetype': 'ID', 'coord': '<none>:14:17', 'name': 'temp'}),\n",
              " (87, {'_nodetype': 'StructRef', 'coord': '<none>:14:24', 'type': '->'}),\n",
              " (88, {'_nodetype': 'ID', 'coord': '<none>:14:24', 'name': 'temp'}),\n",
              " (89, {'_nodetype': 'ID', 'coord': '<none>:14:30', 'name': 'next'})]"
            ]
          },
          "metadata": {},
          "execution_count": 16
        }
      ]
    },
    {
      "cell_type": "code",
      "metadata": {
        "colab": {
          "base_uri": "https://localhost:8080/"
        },
        "id": "SYAk6ZsO8mp8",
        "outputId": "d8ba73bd-44f7-4b9e-bc3a-7efd62f34563"
      },
      "source": [
        "#Add AST Edges\n",
        "G.add_edges_from(nx_edges)"
      ],
      "execution_count": null,
      "outputs": [
        {
          "output_type": "execute_result",
          "data": {
            "text/plain": [
              "[0,\n",
              " 1,\n",
              " 0,\n",
              " 0,\n",
              " 0,\n",
              " 0,\n",
              " 0,\n",
              " 0,\n",
              " 1,\n",
              " 0,\n",
              " 0,\n",
              " 0,\n",
              " 0,\n",
              " 0,\n",
              " 0,\n",
              " 0,\n",
              " 1,\n",
              " 0,\n",
              " 0,\n",
              " 0,\n",
              " 0,\n",
              " 0,\n",
              " 0,\n",
              " 0,\n",
              " 0,\n",
              " 0,\n",
              " 0,\n",
              " 0,\n",
              " 0,\n",
              " 0,\n",
              " 0,\n",
              " 0,\n",
              " 0,\n",
              " 0,\n",
              " 0,\n",
              " 0,\n",
              " 0,\n",
              " 0,\n",
              " 0,\n",
              " 0,\n",
              " 0,\n",
              " 0,\n",
              " 0,\n",
              " 0,\n",
              " 0,\n",
              " 0,\n",
              " 0,\n",
              " 0,\n",
              " 0,\n",
              " 0,\n",
              " 0,\n",
              " 0,\n",
              " 0,\n",
              " 0,\n",
              " 0,\n",
              " 0,\n",
              " 0,\n",
              " 0,\n",
              " 0,\n",
              " 0,\n",
              " 0,\n",
              " 0,\n",
              " 0,\n",
              " 0,\n",
              " 0,\n",
              " 0,\n",
              " 0,\n",
              " 0,\n",
              " 0,\n",
              " 0,\n",
              " 0,\n",
              " 0,\n",
              " 0,\n",
              " 0,\n",
              " 0,\n",
              " 0,\n",
              " 0,\n",
              " 0,\n",
              " 0,\n",
              " 0,\n",
              " 0,\n",
              " 0,\n",
              " 0,\n",
              " 0,\n",
              " 0,\n",
              " 0,\n",
              " 0,\n",
              " 0,\n",
              " 0,\n",
              " 0,\n",
              " 0,\n",
              " 0,\n",
              " 0,\n",
              " 0,\n",
              " 0,\n",
              " 0,\n",
              " 0,\n",
              " 0,\n",
              " 0,\n",
              " 0,\n",
              " 0,\n",
              " 0,\n",
              " 0,\n",
              " 0,\n",
              " 0,\n",
              " 0,\n",
              " 0,\n",
              " 0,\n",
              " 0,\n",
              " 0,\n",
              " 0,\n",
              " 0,\n",
              " 0,\n",
              " 0,\n",
              " 0,\n",
              " 0,\n",
              " 0,\n",
              " 0,\n",
              " 0,\n",
              " 0,\n",
              " 0,\n",
              " 0,\n",
              " 0,\n",
              " 0,\n",
              " 0,\n",
              " 0,\n",
              " 0,\n",
              " 0,\n",
              " 0,\n",
              " 0,\n",
              " 0,\n",
              " 0,\n",
              " 0,\n",
              " 0,\n",
              " 0,\n",
              " 0,\n",
              " 0,\n",
              " 0,\n",
              " 0,\n",
              " 0,\n",
              " 0,\n",
              " 0,\n",
              " 0,\n",
              " 0,\n",
              " 0,\n",
              " 0,\n",
              " 0,\n",
              " 0,\n",
              " 0,\n",
              " 0,\n",
              " 0,\n",
              " 0,\n",
              " 0,\n",
              " 0,\n",
              " 0,\n",
              " 0,\n",
              " 0,\n",
              " 0,\n",
              " 0,\n",
              " 0,\n",
              " 0,\n",
              " 0,\n",
              " 0,\n",
              " 0,\n",
              " 0,\n",
              " 0,\n",
              " 0,\n",
              " 0,\n",
              " 0,\n",
              " 0,\n",
              " 0,\n",
              " 0,\n",
              " 0,\n",
              " 0,\n",
              " 0,\n",
              " 0,\n",
              " 0,\n",
              " 0,\n",
              " 0,\n",
              " 0,\n",
              " 0,\n",
              " 0,\n",
              " 0,\n",
              " 0,\n",
              " 0,\n",
              " 0,\n",
              " 0,\n",
              " 0,\n",
              " 0,\n",
              " 0,\n",
              " 0,\n",
              " 0,\n",
              " 0,\n",
              " 0,\n",
              " 0,\n",
              " 0,\n",
              " 0,\n",
              " 0,\n",
              " 0,\n",
              " 0,\n",
              " 0,\n",
              " 0,\n",
              " 1,\n",
              " 0,\n",
              " 0,\n",
              " 1,\n",
              " 0,\n",
              " 0,\n",
              " 0,\n",
              " 0,\n",
              " 0,\n",
              " 0,\n",
              " 0,\n",
              " 0,\n",
              " 0,\n",
              " 0,\n",
              " 0,\n",
              " 1,\n",
              " 0,\n",
              " 0,\n",
              " 0,\n",
              " 0,\n",
              " 0,\n",
              " 0,\n",
              " 0,\n",
              " 0,\n",
              " 0,\n",
              " 0,\n",
              " 0,\n",
              " 0,\n",
              " 0,\n",
              " 0,\n",
              " 0,\n",
              " 1,\n",
              " 0,\n",
              " 0,\n",
              " 0,\n",
              " 0,\n",
              " 0,\n",
              " 0,\n",
              " 0,\n",
              " 0,\n",
              " 0,\n",
              " 0,\n",
              " 1,\n",
              " 0,\n",
              " 0]"
            ]
          },
          "metadata": {},
          "execution_count": 17
        }
      ]
    },
    {
      "cell_type": "code",
      "metadata": {
        "colab": {
          "base_uri": "https://localhost:8080/"
        },
        "id": "quSUePTt9wMa",
        "outputId": "b03073ec-e834-486d-b793-94a3b8878468"
      },
      "source": [
        "#test\n",
        "list(G.edges(data=True))"
      ],
      "execution_count": null,
      "outputs": [
        {
          "output_type": "execute_result",
          "data": {
            "text/plain": [
              "[(0, 1, {'edge_type': 'ExtDecl'}),\n",
              " (0, 1, {'edge_type': 'Child'}),\n",
              " (0, 4, {'edge_type': 'ExtDecl'}),\n",
              " (0, 4, {'edge_type': 'Child'}),\n",
              " (0, 7, {'edge_type': 'ExtDecl'}),\n",
              " (0, 7, {'edge_type': 'Child'}),\n",
              " (1, 0, {'edge_type': 'Parent'}),\n",
              " (1, 2, {'edge_type': 'Child'}),\n",
              " (1, 4, {'edge_type': 'NextStmt'}),\n",
              " (1, 4, {'edge_type': 'NextToken'}),\n",
              " (2, 1, {'edge_type': 'Parent'}),\n",
              " (2, 3, {'edge_type': 'Child'}),\n",
              " (3, 2, {'edge_type': 'Parent'}),\n",
              " (4, 0, {'edge_type': 'Parent'}),\n",
              " (4, 5, {'edge_type': 'Child'}),\n",
              " (4, 7, {'edge_type': 'NextStmt'}),\n",
              " (4, 8, {'edge_type': 'NextToken'}),\n",
              " (5, 4, {'edge_type': 'Parent'}),\n",
              " (5, 6, {'edge_type': 'Child'}),\n",
              " (6, 5, {'edge_type': 'Parent'}),\n",
              " (7, 0, {'edge_type': 'Parent'}),\n",
              " (7, 8, {'edge_type': 'Child'}),\n",
              " (7, 31, {'edge_type': 'Child'}),\n",
              " (8, 7, {'edge_type': 'Parent'}),\n",
              " (8, 9, {'edge_type': 'Child'}),\n",
              " (8, 11, {'edge_type': 'NextToken'}),\n",
              " (9, 8, {'edge_type': 'Parent'}),\n",
              " (9, 10, {'edge_type': 'Child'}),\n",
              " (9, 29, {'edge_type': 'Child'}),\n",
              " (10, 9, {'edge_type': 'Parent'}),\n",
              " (10, 11, {'edge_type': 'Child'}),\n",
              " (10, 15, {'edge_type': 'Child'}),\n",
              " (11, 10, {'edge_type': 'Parent'}),\n",
              " (11, 12, {'edge_type': 'Child'}),\n",
              " (11, 15, {'edge_type': 'NextStmt'}),\n",
              " (11, 15, {'edge_type': 'NextToken'}),\n",
              " (12, 11, {'edge_type': 'Parent'}),\n",
              " (12, 13, {'edge_type': 'Child'}),\n",
              " (13, 12, {'edge_type': 'Parent'}),\n",
              " (13, 14, {'edge_type': 'Child'}),\n",
              " (14, 13, {'edge_type': 'Parent'}),\n",
              " (15, 10, {'edge_type': 'Parent'}),\n",
              " (15, 16, {'edge_type': 'Child'}),\n",
              " (15, 32, {'edge_type': 'NextToken'}),\n",
              " (16, 15, {'edge_type': 'Parent'}),\n",
              " (16, 17, {'edge_type': 'Child'}),\n",
              " (17, 16, {'edge_type': 'Parent'}),\n",
              " (17, 18, {'edge_type': 'Child'}),\n",
              " (17, 27, {'edge_type': 'Child'}),\n",
              " (18, 17, {'edge_type': 'Parent'}),\n",
              " (18, 19, {'edge_type': 'Child'}),\n",
              " (18, 23, {'edge_type': 'Child'}),\n",
              " (19, 18, {'edge_type': 'Parent'}),\n",
              " (19, 20, {'edge_type': 'Child'}),\n",
              " (19, 23, {'edge_type': 'NextStmt'}),\n",
              " (20, 19, {'edge_type': 'Parent'}),\n",
              " (20, 21, {'edge_type': 'Child'}),\n",
              " (21, 20, {'edge_type': 'Parent'}),\n",
              " (21, 22, {'edge_type': 'Child'}),\n",
              " (22, 21, {'edge_type': 'Parent'}),\n",
              " (23, 18, {'edge_type': 'Parent'}),\n",
              " (23, 24, {'edge_type': 'Child'}),\n",
              " (24, 23, {'edge_type': 'Parent'}),\n",
              " (24, 25, {'edge_type': 'Child'}),\n",
              " (25, 24, {'edge_type': 'Parent'}),\n",
              " (25, 26, {'edge_type': 'Child'}),\n",
              " (26, 25, {'edge_type': 'Parent'}),\n",
              " (27, 17, {'edge_type': 'Parent'}),\n",
              " (27, 28, {'edge_type': 'Child'}),\n",
              " (28, 27, {'edge_type': 'Parent'}),\n",
              " (29, 9, {'edge_type': 'Parent'}),\n",
              " (29, 30, {'edge_type': 'Child'}),\n",
              " (30, 29, {'edge_type': 'Parent'}),\n",
              " (31, 7, {'edge_type': 'Parent'}),\n",
              " (31, 32, {'edge_type': 'Child'}),\n",
              " (31, 35, {'edge_type': 'Child'}),\n",
              " (31, 46, {'edge_type': 'Child'}),\n",
              " (32, 31, {'edge_type': 'Parent'}),\n",
              " (32, 33, {'edge_type': 'Child'}),\n",
              " (32, 35, {'edge_type': 'NextStmt'}),\n",
              " (32, 38, {'edge_type': 'NextToken'}),\n",
              " (33, 32, {'edge_type': 'Parent'}),\n",
              " (33, 34, {'edge_type': 'Child'}),\n",
              " (34, 33, {'edge_type': 'Parent'}),\n",
              " (35, 31, {'edge_type': 'Parent'}),\n",
              " (35, 36, {'edge_type': 'Child'}),\n",
              " (35, 45, {'edge_type': 'Child'}),\n",
              " (35, 46, {'edge_type': 'NextStmt'}),\n",
              " (36, 35, {'edge_type': 'Parent'}),\n",
              " (36, 37, {'edge_type': 'Child'}),\n",
              " (36, 40, {'edge_type': 'Child'}),\n",
              " (36, 45, {'edge_type': 'CondTrue'}),\n",
              " (37, 36, {'edge_type': 'Parent'}),\n",
              " (37, 38, {'edge_type': 'Child'}),\n",
              " (37, 39, {'edge_type': 'Child'}),\n",
              " (38, 37, {'edge_type': 'Parent'}),\n",
              " (38, 39, {'edge_type': 'NextToken'}),\n",
              " (38, 42, {'edge_type': 'NextUse'}),\n",
              " (39, 37, {'edge_type': 'Parent'}),\n",
              " (39, 41, {'edge_type': 'NextSib'}),\n",
              " (39, 42, {'edge_type': 'NextToken'}),\n",
              " (39, 44, {'edge_type': 'NextUse'}),\n",
              " (40, 36, {'edge_type': 'Parent'}),\n",
              " (40, 41, {'edge_type': 'Child'}),\n",
              " (40, 44, {'edge_type': 'Child'}),\n",
              " (41, 40, {'edge_type': 'Parent'}),\n",
              " (41, 42, {'edge_type': 'Child'}),\n",
              " (41, 43, {'edge_type': 'Child'}),\n",
              " (42, 41, {'edge_type': 'Parent'}),\n",
              " (42, 43, {'edge_type': 'NextToken'}),\n",
              " (42, 53, {'edge_type': 'NextUse'}),\n",
              " (43, 41, {'edge_type': 'Parent'}),\n",
              " (43, 44, {'edge_type': 'NextToken'}),\n",
              " (43, 65, {'edge_type': 'NextUse'}),\n",
              " (44, 40, {'edge_type': 'Parent'}),\n",
              " (44, 48, {'edge_type': 'NextToken'}),\n",
              " (44, 70, {'edge_type': 'NextUse'}),\n",
              " (45, 35, {'edge_type': 'Parent'}),\n",
              " (45, 47, {'edge_type': 'NextSib'}),\n",
              " (46, 31, {'edge_type': 'Parent'}),\n",
              " (46, 47, {'edge_type': 'Child'}),\n",
              " (46, 50, {'edge_type': 'Child'}),\n",
              " (46, 55, {'edge_type': 'Child'}),\n",
              " (46, 57, {'edge_type': 'Child'}),\n",
              " (47, 46, {'edge_type': 'Parent'}),\n",
              " (47, 48, {'edge_type': 'Child'}),\n",
              " (47, 49, {'edge_type': 'Child'}),\n",
              " (48, 47, {'edge_type': 'Parent'}),\n",
              " (48, 51, {'edge_type': 'NextToken'}),\n",
              " (48, 51, {'edge_type': 'NextUse'}),\n",
              " (49, 47, {'edge_type': 'Parent'}),\n",
              " (49, 51, {'edge_type': 'NextSib'}),\n",
              " (50, 46, {'edge_type': 'Parent'}),\n",
              " (50, 51, {'edge_type': 'Child'}),\n",
              " (50, 52, {'edge_type': 'Child'}),\n",
              " (50, 57, {'edge_type': 'WhileExec'}),\n",
              " (51, 50, {'edge_type': 'Parent'}),\n",
              " (51, 53, {'edge_type': 'NextToken'}),\n",
              " (51, 56, {'edge_type': 'NextUse'}),\n",
              " (52, 50, {'edge_type': 'Parent'}),\n",
              " (52, 53, {'edge_type': 'Child'}),\n",
              " (52, 54, {'edge_type': 'Child'}),\n",
              " (53, 52, {'edge_type': 'Parent'}),\n",
              " (53, 54, {'edge_type': 'NextToken'}),\n",
              " (53, 64, {'edge_type': 'NextUse'}),\n",
              " (54, 52, {'edge_type': 'Parent'}),\n",
              " (54, 56, {'edge_type': 'NextToken'}),\n",
              " (55, 46, {'edge_type': 'Parent'}),\n",
              " (55, 56, {'edge_type': 'Child'}),\n",
              " (55, 57, {'edge_type': 'NextSib'}),\n",
              " (56, 55, {'edge_type': 'Parent'}),\n",
              " (56, 58, {'edge_type': 'NextSib'}),\n",
              " (56, 58, {'edge_type': 'NextToken'}),\n",
              " (56, 66, {'edge_type': 'NextUse'}),\n",
              " (57, 46, {'edge_type': 'Parent'}),\n",
              " (57, 50, {'edge_type': 'ForNext'}),\n",
              " (57, 58, {'edge_type': 'Child'}),\n",
              " (57, 67, {'edge_type': 'Child'}),\n",
              " (58, 57, {'edge_type': 'Parent'}),\n",
              " (58, 59, {'edge_type': 'Child'}),\n",
              " (58, 62, {'edge_type': 'Child'}),\n",
              " (58, 67, {'edge_type': 'NextStmt'}),\n",
              " (58, 64, {'edge_type': 'NextToken'}),\n",
              " (59, 58, {'edge_type': 'Parent'}),\n",
              " (59, 60, {'edge_type': 'Child'}),\n",
              " (60, 59, {'edge_type': 'Parent'}),\n",
              " (60, 61, {'edge_type': 'Child'}),\n",
              " (61, 60, {'edge_type': 'Parent'}),\n",
              " (62, 58, {'edge_type': 'Parent'}),\n",
              " (62, 63, {'edge_type': 'Child'}),\n",
              " (62, 66, {'edge_type': 'Child'}),\n",
              " (63, 62, {'edge_type': 'Parent'}),\n",
              " (63, 64, {'edge_type': 'Child'}),\n",
              " (63, 65, {'edge_type': 'Child'}),\n",
              " (64, 63, {'edge_type': 'Parent'}),\n",
              " (64, 65, {'edge_type': 'NextToken'}),\n",
              " (65, 63, {'edge_type': 'Parent'}),\n",
              " (65, 66, {'edge_type': 'NextToken'}),\n",
              " (66, 62, {'edge_type': 'Parent'}),\n",
              " (66, 69, {'edge_type': 'NextToken'}),\n",
              " (67, 57, {'edge_type': 'Parent'}),\n",
              " (67, 68, {'edge_type': 'Child'}),\n",
              " (67, 71, {'edge_type': 'Child'}),\n",
              " (68, 67, {'edge_type': 'Parent'}),\n",
              " (68, 69, {'edge_type': 'Child'}),\n",
              " (68, 70, {'edge_type': 'Child'}),\n",
              " (68, 71, {'edge_type': 'WhileExec'}),\n",
              " (69, 68, {'edge_type': 'Parent'}),\n",
              " (69, 70, {'edge_type': 'NextToken'}),\n",
              " (69, 77, {'edge_type': 'NextUse'}),\n",
              " (70, 68, {'edge_type': 'Parent'}),\n",
              " (70, 72, {'edge_type': 'NextSib'}),\n",
              " (70, 73, {'edge_type': 'NextToken'}),\n",
              " (71, 67, {'edge_type': 'Parent'}),\n",
              " (71, 68, {'edge_type': 'WhileNext'}),\n",
              " (71, 72, {'edge_type': 'Child'}),\n",
              " (71, 85, {'edge_type': 'Child'}),\n",
              " (72, 71, {'edge_type': 'Parent'}),\n",
              " (72, 73, {'edge_type': 'Child'}),\n",
              " (72, 74, {'edge_type': 'Child'}),\n",
              " (72, 85, {'edge_type': 'NextStmt'}),\n",
              " (73, 72, {'edge_type': 'Parent'}),\n",
              " (73, 77, {'edge_type': 'NextToken'}),\n",
              " (74, 72, {'edge_type': 'Parent'}),\n",
              " (74, 75, {'edge_type': 'Child'}),\n",
              " (74, 80, {'edge_type': 'Child'}),\n",
              " (75, 74, {'edge_type': 'Parent'}),\n",
              " (75, 76, {'edge_type': 'Child'}),\n",
              " (75, 79, {'edge_type': 'Child'}),\n",
              " (75, 80, {'edge_type': 'NextStmt'}),\n",
              " (76, 75, {'edge_type': 'Parent'}),\n",
              " (76, 77, {'edge_type': 'Child'}),\n",
              " (76, 78, {'edge_type': 'Child'}),\n",
              " (77, 76, {'edge_type': 'Parent'}),\n",
              " (77, 78, {'edge_type': 'NextToken'}),\n",
              " (77, 82, {'edge_type': 'NextUse'}),\n",
              " (78, 76, {'edge_type': 'Parent'}),\n",
              " (78, 79, {'edge_type': 'NextToken'}),\n",
              " (78, 83, {'edge_type': 'NextUse'}),\n",
              " (79, 75, {'edge_type': 'Parent'}),\n",
              " (79, 81, {'edge_type': 'NextSib'}),\n",
              " (79, 82, {'edge_type': 'NextToken'}),\n",
              " (80, 74, {'edge_type': 'Parent'}),\n",
              " (80, 81, {'edge_type': 'Child'}),\n",
              " (80, 84, {'edge_type': 'Child'}),\n",
              " (81, 80, {'edge_type': 'Parent'}),\n",
              " (81, 82, {'edge_type': 'Child'}),\n",
              " (81, 83, {'edge_type': 'Child'}),\n",
              " (82, 81, {'edge_type': 'Parent'}),\n",
              " (82, 83, {'edge_type': 'NextToken'}),\n",
              " (82, 86, {'edge_type': 'NextUse'}),\n",
              " (83, 81, {'edge_type': 'Parent'}),\n",
              " (83, 84, {'edge_type': 'NextToken'}),\n",
              " (84, 80, {'edge_type': 'Parent'}),\n",
              " (84, 86, {'edge_type': 'NextToken'}),\n",
              " (85, 71, {'edge_type': 'Parent'}),\n",
              " (85, 86, {'edge_type': 'Child'}),\n",
              " (85, 87, {'edge_type': 'Child'}),\n",
              " (86, 85, {'edge_type': 'Parent'}),\n",
              " (86, 88, {'edge_type': 'NextToken'}),\n",
              " (86, 88, {'edge_type': 'NextUse'}),\n",
              " (87, 85, {'edge_type': 'Parent'}),\n",
              " (87, 88, {'edge_type': 'Child'}),\n",
              " (87, 89, {'edge_type': 'Child'}),\n",
              " (88, 87, {'edge_type': 'Parent'}),\n",
              " (88, 89, {'edge_type': 'NextToken'}),\n",
              " (89, 87, {'edge_type': 'Parent'})]"
            ]
          },
          "metadata": {},
          "execution_count": 18
        }
      ]
    },
    {
      "cell_type": "code",
      "metadata": {
        "colab": {
          "base_uri": "https://localhost:8080/"
        },
        "id": "_KHb-f99N5M3",
        "outputId": "1405b192-6037-4ea3-e3c7-08928fbc050a"
      },
      "source": [
        "G.edges([0], data=True)"
      ],
      "execution_count": null,
      "outputs": [
        {
          "output_type": "execute_result",
          "data": {
            "text/plain": [
              "OutMultiEdgeDataView([(0, 1, {'edge_type': 'ExtDecl'}), (0, 1, {'edge_type': 'Child'}), (0, 4, {'edge_type': 'ExtDecl'}), (0, 4, {'edge_type': 'Child'}), (0, 7, {'edge_type': 'ExtDecl'}), (0, 7, {'edge_type': 'Child'})])"
            ]
          },
          "metadata": {
            "tags": []
          },
          "execution_count": 17
        }
      ]
    },
    {
      "cell_type": "code",
      "metadata": {
        "colab": {
          "base_uri": "https://localhost:8080/"
        },
        "id": "UL--7qkd1myn",
        "outputId": "dabb199a-3f25-46dc-f812-765ea414a3e0"
      },
      "source": [
        "G.edges()"
      ],
      "execution_count": null,
      "outputs": [
        {
          "output_type": "execute_result",
          "data": {
            "text/plain": [
              "OutMultiEdgeDataView([(0, 1), (0, 1), (0, 4), (0, 4), (0, 7), (0, 7), (1, 0), (1, 2), (1, 4), (1, 4), (2, 1), (2, 3), (3, 2), (4, 0), (4, 5), (4, 7), (4, 8), (5, 4), (5, 6), (6, 5), (7, 0), (7, 8), (7, 31), (8, 7), (8, 9), (8, 11), (9, 8), (9, 10), (9, 29), (10, 9), (10, 11), (10, 15), (11, 10), (11, 12), (11, 15), (11, 15), (12, 11), (12, 13), (13, 12), (13, 14), (14, 13), (15, 10), (15, 16), (15, 32), (16, 15), (16, 17), (17, 16), (17, 18), (17, 27), (18, 17), (18, 19), (18, 23), (19, 18), (19, 20), (19, 23), (20, 19), (20, 21), (21, 20), (21, 22), (22, 21), (23, 18), (23, 24), (24, 23), (24, 25), (25, 24), (25, 26), (26, 25), (27, 17), (27, 28), (28, 27), (29, 9), (29, 30), (30, 29), (31, 7), (31, 32), (31, 35), (31, 46), (32, 31), (32, 33), (32, 35), (32, 38), (33, 32), (33, 34), (34, 33), (35, 31), (35, 36), (35, 45), (35, 46), (36, 35), (36, 37), (36, 40), (36, 45), (37, 36), (37, 38), (37, 39), (38, 37), (38, 39), (38, 42), (39, 37), (39, 41), (39, 42), (39, 44), (40, 36), (40, 41), (40, 44), (41, 40), (41, 42), (41, 43), (42, 41), (42, 43), (42, 53), (43, 41), (43, 44), (43, 65), (44, 40), (44, 48), (44, 70), (45, 35), (45, 47), (46, 31), (46, 47), (46, 50), (46, 55), (46, 57), (47, 46), (47, 48), (47, 49), (48, 47), (48, 51), (48, 51), (49, 47), (49, 51), (50, 46), (50, 51), (50, 52), (50, 57), (51, 50), (51, 53), (51, 56), (52, 50), (52, 53), (52, 54), (53, 52), (53, 54), (53, 64), (54, 52), (54, 56), (55, 46), (55, 56), (55, 57), (56, 55), (56, 58), (56, 58), (56, 66), (57, 46), (57, 50), (57, 58), (57, 67), (58, 57), (58, 59), (58, 62), (58, 67), (58, 64), (59, 58), (59, 60), (60, 59), (60, 61), (61, 60), (62, 58), (62, 63), (62, 66), (63, 62), (63, 64), (63, 65), (64, 63), (64, 65), (65, 63), (65, 66), (66, 62), (66, 69), (67, 57), (67, 68), (67, 71), (68, 67), (68, 69), (68, 70), (68, 71), (69, 68), (69, 70), (69, 77), (70, 68), (70, 72), (70, 73), (71, 67), (71, 68), (71, 72), (71, 85), (72, 71), (72, 73), (72, 74), (72, 85), (73, 72), (73, 77), (74, 72), (74, 75), (74, 80), (75, 74), (75, 76), (75, 79), (75, 80), (76, 75), (76, 77), (76, 78), (77, 76), (77, 78), (77, 82), (78, 76), (78, 79), (78, 83), (79, 75), (79, 81), (79, 82), (80, 74), (80, 81), (80, 84), (81, 80), (81, 82), (81, 83), (82, 81), (82, 83), (82, 86), (83, 81), (83, 84), (84, 80), (84, 86), (85, 71), (85, 86), (85, 87), (86, 85), (86, 88), (86, 88), (87, 85), (87, 88), (87, 89), (88, 87), (88, 89), (89, 87)])"
            ]
          },
          "metadata": {
            "tags": []
          },
          "execution_count": 21
        }
      ]
    },
    {
      "cell_type": "code",
      "metadata": {
        "colab": {
          "base_uri": "https://localhost:8080/"
        },
        "id": "7ZufyMBD3l1Z",
        "outputId": "b5cda2c7-6f88-4fc7-8c76-13e977a2c123"
      },
      "source": [
        "len(list(G.edges([0])))"
      ],
      "execution_count": null,
      "outputs": [
        {
          "output_type": "execute_result",
          "data": {
            "text/plain": [
              "6"
            ]
          },
          "metadata": {
            "tags": []
          },
          "execution_count": 18
        }
      ]
    },
    {
      "cell_type": "code",
      "metadata": {
        "colab": {
          "base_uri": "https://localhost:8080/"
        },
        "id": "M1iUV8jLXkGd",
        "outputId": "d37142cc-82c6-47a6-d1e8-8ba43670367e"
      },
      "source": [
        "G.degree[0]"
      ],
      "execution_count": null,
      "outputs": [
        {
          "output_type": "execute_result",
          "data": {
            "text/plain": [
              "9"
            ]
          },
          "metadata": {
            "tags": []
          },
          "execution_count": 19
        }
      ]
    },
    {
      "cell_type": "code",
      "metadata": {
        "colab": {
          "base_uri": "https://localhost:8080/"
        },
        "id": "Yt-Tfm-XYbJ0",
        "outputId": "6f74064d-57fb-4dd9-ab1b-6e39fee89402"
      },
      "source": [
        "G.degree"
      ],
      "execution_count": null,
      "outputs": [
        {
          "output_type": "execute_result",
          "data": {
            "text/plain": [
              "DiMultiDegreeView({0: 9, 1: 7, 2: 4, 3: 2, 4: 9, 5: 4, 6: 2, 7: 8, 8: 6, 9: 6, 10: 6, 11: 7, 12: 4, 13: 4, 14: 2, 15: 7, 16: 4, 17: 6, 18: 6, 19: 5, 20: 4, 21: 4, 22: 2, 23: 5, 24: 4, 25: 4, 26: 2, 27: 4, 28: 2, 29: 4, 30: 2, 31: 8, 32: 7, 33: 4, 34: 2, 35: 8, 36: 7, 37: 6, 38: 5, 39: 6, 40: 6, 41: 7, 42: 6, 43: 5, 44: 6, 45: 4, 46: 11, 47: 7, 48: 5, 49: 3, 50: 8, 51: 7, 52: 6, 53: 6, 54: 4, 55: 5, 56: 7, 57: 9, 58: 10, 59: 4, 60: 4, 61: 2, 62: 6, 63: 6, 64: 5, 65: 5, 66: 5, 67: 7, 68: 8, 69: 5, 70: 6, 71: 8, 72: 8, 73: 4, 74: 6, 75: 7, 76: 6, 77: 6, 78: 5, 79: 5, 80: 7, 81: 7, 82: 6, 83: 5, 84: 4, 85: 7, 86: 6, 87: 6, 88: 5, 89: 3})"
            ]
          },
          "metadata": {},
          "execution_count": 19
        }
      ]
    },
    {
      "cell_type": "code",
      "metadata": {
        "colab": {
          "base_uri": "https://localhost:8080/"
        },
        "id": "2DnauD9BAFh8",
        "outputId": "18df4734-1748-49ca-cc99-1d669eff18ca"
      },
      "source": [
        "list(G.adj[0])"
      ],
      "execution_count": null,
      "outputs": [
        {
          "output_type": "execute_result",
          "data": {
            "text/plain": [
              "[1, 4, 7]"
            ]
          },
          "metadata": {
            "tags": []
          },
          "execution_count": 22
        }
      ]
    },
    {
      "cell_type": "code",
      "metadata": {
        "colab": {
          "base_uri": "https://localhost:8080/"
        },
        "id": "_x_KZw6_Doz8",
        "outputId": "979dd52f-77dc-47cf-abc0-71693ceda782"
      },
      "source": [
        "len(G.adj[0])"
      ],
      "execution_count": null,
      "outputs": [
        {
          "output_type": "execute_result",
          "data": {
            "text/plain": [
              "3"
            ]
          },
          "metadata": {
            "tags": []
          },
          "execution_count": 23
        }
      ]
    },
    {
      "cell_type": "code",
      "metadata": {
        "colab": {
          "base_uri": "https://localhost:8080/"
        },
        "id": "KN95gVENB-1V",
        "outputId": "f89bdde0-a4b5-407f-bdce-709079d1f341"
      },
      "source": [
        "G.adj"
      ],
      "execution_count": null,
      "outputs": [
        {
          "output_type": "execute_result",
          "data": {
            "text/plain": [
              "MultiAdjacencyView({0: {1: {0: {'edge_type': 'ExtDecl'}, 1: {'edge_type': 'Child'}}, 4: {0: {'edge_type': 'ExtDecl'}, 1: {'edge_type': 'Child'}}, 7: {0: {'edge_type': 'ExtDecl'}, 1: {'edge_type': 'Child'}}}, 1: {0: {0: {'edge_type': 'Parent'}}, 2: {0: {'edge_type': 'Child'}}, 4: {0: {'edge_type': 'NextStmt'}, 1: {'edge_type': 'NextToken'}}}, 2: {1: {0: {'edge_type': 'Parent'}}, 3: {0: {'edge_type': 'Child'}}}, 3: {2: {0: {'edge_type': 'Parent'}}}, 4: {0: {0: {'edge_type': 'Parent'}}, 5: {0: {'edge_type': 'Child'}}, 7: {0: {'edge_type': 'NextStmt'}}, 8: {0: {'edge_type': 'NextToken'}}}, 5: {4: {0: {'edge_type': 'Parent'}}, 6: {0: {'edge_type': 'Child'}}}, 6: {5: {0: {'edge_type': 'Parent'}}}, 7: {0: {0: {'edge_type': 'Parent'}}, 8: {0: {'edge_type': 'Child'}}, 31: {0: {'edge_type': 'Child'}}}, 8: {7: {0: {'edge_type': 'Parent'}}, 9: {0: {'edge_type': 'Child'}}, 11: {0: {'edge_type': 'NextToken'}}}, 9: {8: {0: {'edge_type': 'Parent'}}, 10: {0: {'edge_type': 'Child'}}, 29: {0: {'edge_type': 'Child'}}}, 10: {9: {0: {'edge_type': 'Parent'}}, 11: {0: {'edge_type': 'Child'}}, 15: {0: {'edge_type': 'Child'}}}, 11: {10: {0: {'edge_type': 'Parent'}}, 12: {0: {'edge_type': 'Child'}}, 15: {0: {'edge_type': 'NextStmt'}, 1: {'edge_type': 'NextToken'}}}, 12: {11: {0: {'edge_type': 'Parent'}}, 13: {0: {'edge_type': 'Child'}}}, 13: {12: {0: {'edge_type': 'Parent'}}, 14: {0: {'edge_type': 'Child'}}}, 14: {13: {0: {'edge_type': 'Parent'}}}, 15: {10: {0: {'edge_type': 'Parent'}}, 16: {0: {'edge_type': 'Child'}}, 32: {0: {'edge_type': 'NextToken'}}}, 16: {15: {0: {'edge_type': 'Parent'}}, 17: {0: {'edge_type': 'Child'}}}, 17: {16: {0: {'edge_type': 'Parent'}}, 18: {0: {'edge_type': 'Child'}}, 27: {0: {'edge_type': 'Child'}}}, 18: {17: {0: {'edge_type': 'Parent'}}, 19: {0: {'edge_type': 'Child'}}, 23: {0: {'edge_type': 'Child'}}}, 19: {18: {0: {'edge_type': 'Parent'}}, 20: {0: {'edge_type': 'Child'}}, 23: {0: {'edge_type': 'NextStmt'}}}, 20: {19: {0: {'edge_type': 'Parent'}}, 21: {0: {'edge_type': 'Child'}}}, 21: {20: {0: {'edge_type': 'Parent'}}, 22: {0: {'edge_type': 'Child'}}}, 22: {21: {0: {'edge_type': 'Parent'}}}, 23: {18: {0: {'edge_type': 'Parent'}}, 24: {0: {'edge_type': 'Child'}}}, 24: {23: {0: {'edge_type': 'Parent'}}, 25: {0: {'edge_type': 'Child'}}}, 25: {24: {0: {'edge_type': 'Parent'}}, 26: {0: {'edge_type': 'Child'}}}, 26: {25: {0: {'edge_type': 'Parent'}}}, 27: {17: {0: {'edge_type': 'Parent'}}, 28: {0: {'edge_type': 'Child'}}}, 28: {27: {0: {'edge_type': 'Parent'}}}, 29: {9: {0: {'edge_type': 'Parent'}}, 30: {0: {'edge_type': 'Child'}}}, 30: {29: {0: {'edge_type': 'Parent'}}}, 31: {7: {0: {'edge_type': 'Parent'}}, 32: {0: {'edge_type': 'Child'}}, 35: {0: {'edge_type': 'Child'}}, 46: {0: {'edge_type': 'Child'}}}, 32: {31: {0: {'edge_type': 'Parent'}}, 33: {0: {'edge_type': 'Child'}}, 35: {0: {'edge_type': 'NextStmt'}}, 38: {0: {'edge_type': 'NextToken'}}}, 33: {32: {0: {'edge_type': 'Parent'}}, 34: {0: {'edge_type': 'Child'}}}, 34: {33: {0: {'edge_type': 'Parent'}}}, 35: {31: {0: {'edge_type': 'Parent'}}, 36: {0: {'edge_type': 'Child'}}, 45: {0: {'edge_type': 'Child'}}, 46: {0: {'edge_type': 'NextStmt'}}}, 36: {35: {0: {'edge_type': 'Parent'}}, 37: {0: {'edge_type': 'Child'}}, 40: {0: {'edge_type': 'Child'}}, 45: {0: {'edge_type': 'CondTrue'}}}, 37: {36: {0: {'edge_type': 'Parent'}}, 38: {0: {'edge_type': 'Child'}}, 39: {0: {'edge_type': 'Child'}}}, 38: {37: {0: {'edge_type': 'Parent'}}, 39: {0: {'edge_type': 'NextToken'}}, 42: {0: {'edge_type': 'NextUse'}}}, 39: {37: {0: {'edge_type': 'Parent'}}, 41: {0: {'edge_type': 'NextSib'}}, 42: {0: {'edge_type': 'NextToken'}}, 44: {0: {'edge_type': 'NextUse'}}}, 40: {36: {0: {'edge_type': 'Parent'}}, 41: {0: {'edge_type': 'Child'}}, 44: {0: {'edge_type': 'Child'}}}, 41: {40: {0: {'edge_type': 'Parent'}}, 42: {0: {'edge_type': 'Child'}}, 43: {0: {'edge_type': 'Child'}}}, 42: {41: {0: {'edge_type': 'Parent'}}, 43: {0: {'edge_type': 'NextToken'}}, 53: {0: {'edge_type': 'NextUse'}}}, 43: {41: {0: {'edge_type': 'Parent'}}, 44: {0: {'edge_type': 'NextToken'}}, 65: {0: {'edge_type': 'NextUse'}}}, 44: {40: {0: {'edge_type': 'Parent'}}, 48: {0: {'edge_type': 'NextToken'}}, 70: {0: {'edge_type': 'NextUse'}}}, 45: {35: {0: {'edge_type': 'Parent'}}, 47: {0: {'edge_type': 'NextSib'}}}, 46: {31: {0: {'edge_type': 'Parent'}}, 47: {0: {'edge_type': 'Child'}}, 50: {0: {'edge_type': 'Child'}}, 55: {0: {'edge_type': 'Child'}}, 57: {0: {'edge_type': 'Child'}}}, 47: {46: {0: {'edge_type': 'Parent'}}, 48: {0: {'edge_type': 'Child'}}, 49: {0: {'edge_type': 'Child'}}}, 48: {47: {0: {'edge_type': 'Parent'}}, 51: {0: {'edge_type': 'NextToken'}, 1: {'edge_type': 'NextUse'}}}, 49: {47: {0: {'edge_type': 'Parent'}}, 51: {0: {'edge_type': 'NextSib'}}}, 50: {46: {0: {'edge_type': 'Parent'}}, 51: {0: {'edge_type': 'Child'}}, 52: {0: {'edge_type': 'Child'}}, 57: {0: {'edge_type': 'WhileExec'}}}, 51: {50: {0: {'edge_type': 'Parent'}}, 53: {0: {'edge_type': 'NextToken'}}, 56: {0: {'edge_type': 'NextUse'}}}, 52: {50: {0: {'edge_type': 'Parent'}}, 53: {0: {'edge_type': 'Child'}}, 54: {0: {'edge_type': 'Child'}}}, 53: {52: {0: {'edge_type': 'Parent'}}, 54: {0: {'edge_type': 'NextToken'}}, 64: {0: {'edge_type': 'NextUse'}}}, 54: {52: {0: {'edge_type': 'Parent'}}, 56: {0: {'edge_type': 'NextToken'}}}, 55: {46: {0: {'edge_type': 'Parent'}}, 56: {0: {'edge_type': 'Child'}}, 57: {0: {'edge_type': 'NextSib'}}}, 56: {55: {0: {'edge_type': 'Parent'}}, 58: {0: {'edge_type': 'NextSib'}, 1: {'edge_type': 'NextToken'}}, 66: {0: {'edge_type': 'NextUse'}}}, 57: {46: {0: {'edge_type': 'Parent'}}, 50: {0: {'edge_type': 'ForNext'}}, 58: {0: {'edge_type': 'Child'}}, 67: {0: {'edge_type': 'Child'}}}, 58: {57: {0: {'edge_type': 'Parent'}}, 59: {0: {'edge_type': 'Child'}}, 62: {0: {'edge_type': 'Child'}}, 67: {0: {'edge_type': 'NextStmt'}}, 64: {0: {'edge_type': 'NextToken'}}}, 59: {58: {0: {'edge_type': 'Parent'}}, 60: {0: {'edge_type': 'Child'}}}, 60: {59: {0: {'edge_type': 'Parent'}}, 61: {0: {'edge_type': 'Child'}}}, 61: {60: {0: {'edge_type': 'Parent'}}}, 62: {58: {0: {'edge_type': 'Parent'}}, 63: {0: {'edge_type': 'Child'}}, 66: {0: {'edge_type': 'Child'}}}, 63: {62: {0: {'edge_type': 'Parent'}}, 64: {0: {'edge_type': 'Child'}}, 65: {0: {'edge_type': 'Child'}}}, 64: {63: {0: {'edge_type': 'Parent'}}, 65: {0: {'edge_type': 'NextToken'}}}, 65: {63: {0: {'edge_type': 'Parent'}}, 66: {0: {'edge_type': 'NextToken'}}}, 66: {62: {0: {'edge_type': 'Parent'}}, 69: {0: {'edge_type': 'NextToken'}}}, 67: {57: {0: {'edge_type': 'Parent'}}, 68: {0: {'edge_type': 'Child'}}, 71: {0: {'edge_type': 'Child'}}}, 68: {67: {0: {'edge_type': 'Parent'}}, 69: {0: {'edge_type': 'Child'}}, 70: {0: {'edge_type': 'Child'}}, 71: {0: {'edge_type': 'WhileExec'}}}, 69: {68: {0: {'edge_type': 'Parent'}}, 70: {0: {'edge_type': 'NextToken'}}, 77: {0: {'edge_type': 'NextUse'}}}, 70: {68: {0: {'edge_type': 'Parent'}}, 72: {0: {'edge_type': 'NextSib'}}, 73: {0: {'edge_type': 'NextToken'}}}, 71: {67: {0: {'edge_type': 'Parent'}}, 68: {0: {'edge_type': 'WhileNext'}}, 72: {0: {'edge_type': 'Child'}}, 85: {0: {'edge_type': 'Child'}}}, 72: {71: {0: {'edge_type': 'Parent'}}, 73: {0: {'edge_type': 'Child'}}, 74: {0: {'edge_type': 'Child'}}, 85: {0: {'edge_type': 'NextStmt'}}}, 73: {72: {0: {'edge_type': 'Parent'}}, 77: {0: {'edge_type': 'NextToken'}}}, 74: {72: {0: {'edge_type': 'Parent'}}, 75: {0: {'edge_type': 'Child'}}, 80: {0: {'edge_type': 'Child'}}}, 75: {74: {0: {'edge_type': 'Parent'}}, 76: {0: {'edge_type': 'Child'}}, 79: {0: {'edge_type': 'Child'}}, 80: {0: {'edge_type': 'NextStmt'}}}, 76: {75: {0: {'edge_type': 'Parent'}}, 77: {0: {'edge_type': 'Child'}}, 78: {0: {'edge_type': 'Child'}}}, 77: {76: {0: {'edge_type': 'Parent'}}, 78: {0: {'edge_type': 'NextToken'}}, 82: {0: {'edge_type': 'NextUse'}}}, 78: {76: {0: {'edge_type': 'Parent'}}, 79: {0: {'edge_type': 'NextToken'}}, 83: {0: {'edge_type': 'NextUse'}}}, 79: {75: {0: {'edge_type': 'Parent'}}, 81: {0: {'edge_type': 'NextSib'}}, 82: {0: {'edge_type': 'NextToken'}}}, 80: {74: {0: {'edge_type': 'Parent'}}, 81: {0: {'edge_type': 'Child'}}, 84: {0: {'edge_type': 'Child'}}}, 81: {80: {0: {'edge_type': 'Parent'}}, 82: {0: {'edge_type': 'Child'}}, 83: {0: {'edge_type': 'Child'}}}, 82: {81: {0: {'edge_type': 'Parent'}}, 83: {0: {'edge_type': 'NextToken'}}, 86: {0: {'edge_type': 'NextUse'}}}, 83: {81: {0: {'edge_type': 'Parent'}}, 84: {0: {'edge_type': 'NextToken'}}}, 84: {80: {0: {'edge_type': 'Parent'}}, 86: {0: {'edge_type': 'NextToken'}}}, 85: {71: {0: {'edge_type': 'Parent'}}, 86: {0: {'edge_type': 'Child'}}, 87: {0: {'edge_type': 'Child'}}}, 86: {85: {0: {'edge_type': 'Parent'}}, 88: {0: {'edge_type': 'NextToken'}, 1: {'edge_type': 'NextUse'}}}, 87: {85: {0: {'edge_type': 'Parent'}}, 88: {0: {'edge_type': 'Child'}}, 89: {0: {'edge_type': 'Child'}}}, 88: {87: {0: {'edge_type': 'Parent'}}, 89: {0: {'edge_type': 'NextToken'}}}, 89: {87: {0: {'edge_type': 'Parent'}}}})"
            ]
          },
          "metadata": {},
          "execution_count": 18
        }
      ]
    },
    {
      "cell_type": "code",
      "metadata": {
        "colab": {
          "base_uri": "https://localhost:8080/"
        },
        "id": "TiVpxeA2Ch0N",
        "outputId": "9ada9b66-41b9-4ac0-9b7f-29c0afe5b1d5"
      },
      "source": [
        "len(list(G.adj))"
      ],
      "execution_count": null,
      "outputs": [
        {
          "output_type": "execute_result",
          "data": {
            "text/plain": [
              "90"
            ]
          },
          "metadata": {
            "tags": []
          },
          "execution_count": 25
        }
      ]
    },
    {
      "cell_type": "code",
      "metadata": {
        "colab": {
          "base_uri": "https://localhost:8080/"
        },
        "id": "owbbuVeiCO1b",
        "outputId": "7764d8d4-7d03-48d7-fc8b-15dbb12cff82"
      },
      "source": [
        "list(G.adj[2])"
      ],
      "execution_count": null,
      "outputs": [
        {
          "output_type": "execute_result",
          "data": {
            "text/plain": [
              "[1, 3]"
            ]
          },
          "metadata": {
            "tags": []
          },
          "execution_count": 27
        }
      ]
    },
    {
      "cell_type": "code",
      "metadata": {
        "colab": {
          "base_uri": "https://localhost:8080/"
        },
        "id": "ztK1nsYmAlmP",
        "outputId": "940f95c5-de57-4656-bf7e-d5da0e2de0ec"
      },
      "source": [
        "G.adj[0]"
      ],
      "execution_count": null,
      "outputs": [
        {
          "output_type": "execute_result",
          "data": {
            "text/plain": [
              "AdjacencyView({1: {0: {'edge_type': 'ExtDecl'}, 1: {'edge_type': 'Child'}}, 4: {0: {'edge_type': 'ExtDecl'}, 1: {'edge_type': 'Child'}}, 7: {0: {'edge_type': 'ExtDecl'}, 1: {'edge_type': 'Child'}}})"
            ]
          },
          "metadata": {
            "tags": []
          },
          "execution_count": 28
        }
      ]
    },
    {
      "cell_type": "code",
      "metadata": {
        "colab": {
          "base_uri": "https://localhost:8080/"
        },
        "id": "B2HICdCr_kGp",
        "outputId": "34bb4113-1fa2-43e3-da48-d17fd218ded6"
      },
      "source": [
        "list(G.adjacency())"
      ],
      "execution_count": null,
      "outputs": [
        {
          "output_type": "execute_result",
          "data": {
            "text/plain": [
              "[(0,\n",
              "  {1: {0: {'edge_type': 'ExtDecl'}, 1: {'edge_type': 'Child'}},\n",
              "   4: {0: {'edge_type': 'ExtDecl'}, 1: {'edge_type': 'Child'}},\n",
              "   7: {0: {'edge_type': 'ExtDecl'}, 1: {'edge_type': 'Child'}}}),\n",
              " (1,\n",
              "  {0: {0: {'edge_type': 'Parent'}},\n",
              "   2: {0: {'edge_type': 'Child'}},\n",
              "   4: {0: {'edge_type': 'NextStmt'}, 1: {'edge_type': 'NextToken'}}}),\n",
              " (2, {1: {0: {'edge_type': 'Parent'}}, 3: {0: {'edge_type': 'Child'}}}),\n",
              " (3, {2: {0: {'edge_type': 'Parent'}}}),\n",
              " (4,\n",
              "  {0: {0: {'edge_type': 'Parent'}},\n",
              "   5: {0: {'edge_type': 'Child'}},\n",
              "   7: {0: {'edge_type': 'NextStmt'}},\n",
              "   8: {0: {'edge_type': 'NextToken'}}}),\n",
              " (5, {4: {0: {'edge_type': 'Parent'}}, 6: {0: {'edge_type': 'Child'}}}),\n",
              " (6, {5: {0: {'edge_type': 'Parent'}}}),\n",
              " (7,\n",
              "  {0: {0: {'edge_type': 'Parent'}},\n",
              "   8: {0: {'edge_type': 'Child'}},\n",
              "   31: {0: {'edge_type': 'Child'}}}),\n",
              " (8,\n",
              "  {7: {0: {'edge_type': 'Parent'}},\n",
              "   9: {0: {'edge_type': 'Child'}},\n",
              "   11: {0: {'edge_type': 'NextToken'}}}),\n",
              " (9,\n",
              "  {8: {0: {'edge_type': 'Parent'}},\n",
              "   10: {0: {'edge_type': 'Child'}},\n",
              "   29: {0: {'edge_type': 'Child'}}}),\n",
              " (10,\n",
              "  {9: {0: {'edge_type': 'Parent'}},\n",
              "   11: {0: {'edge_type': 'Child'}},\n",
              "   15: {0: {'edge_type': 'Child'}}}),\n",
              " (11,\n",
              "  {10: {0: {'edge_type': 'Parent'}},\n",
              "   12: {0: {'edge_type': 'Child'}},\n",
              "   15: {0: {'edge_type': 'NextStmt'}, 1: {'edge_type': 'NextToken'}}}),\n",
              " (12, {11: {0: {'edge_type': 'Parent'}}, 13: {0: {'edge_type': 'Child'}}}),\n",
              " (13, {12: {0: {'edge_type': 'Parent'}}, 14: {0: {'edge_type': 'Child'}}}),\n",
              " (14, {13: {0: {'edge_type': 'Parent'}}}),\n",
              " (15,\n",
              "  {10: {0: {'edge_type': 'Parent'}},\n",
              "   16: {0: {'edge_type': 'Child'}},\n",
              "   32: {0: {'edge_type': 'NextToken'}}}),\n",
              " (16, {15: {0: {'edge_type': 'Parent'}}, 17: {0: {'edge_type': 'Child'}}}),\n",
              " (17,\n",
              "  {16: {0: {'edge_type': 'Parent'}},\n",
              "   18: {0: {'edge_type': 'Child'}},\n",
              "   27: {0: {'edge_type': 'Child'}}}),\n",
              " (18,\n",
              "  {17: {0: {'edge_type': 'Parent'}},\n",
              "   19: {0: {'edge_type': 'Child'}},\n",
              "   23: {0: {'edge_type': 'Child'}}}),\n",
              " (19,\n",
              "  {18: {0: {'edge_type': 'Parent'}},\n",
              "   20: {0: {'edge_type': 'Child'}},\n",
              "   23: {0: {'edge_type': 'NextStmt'}}}),\n",
              " (20, {19: {0: {'edge_type': 'Parent'}}, 21: {0: {'edge_type': 'Child'}}}),\n",
              " (21, {20: {0: {'edge_type': 'Parent'}}, 22: {0: {'edge_type': 'Child'}}}),\n",
              " (22, {21: {0: {'edge_type': 'Parent'}}}),\n",
              " (23, {18: {0: {'edge_type': 'Parent'}}, 24: {0: {'edge_type': 'Child'}}}),\n",
              " (24, {23: {0: {'edge_type': 'Parent'}}, 25: {0: {'edge_type': 'Child'}}}),\n",
              " (25, {24: {0: {'edge_type': 'Parent'}}, 26: {0: {'edge_type': 'Child'}}}),\n",
              " (26, {25: {0: {'edge_type': 'Parent'}}}),\n",
              " (27, {17: {0: {'edge_type': 'Parent'}}, 28: {0: {'edge_type': 'Child'}}}),\n",
              " (28, {27: {0: {'edge_type': 'Parent'}}}),\n",
              " (29, {9: {0: {'edge_type': 'Parent'}}, 30: {0: {'edge_type': 'Child'}}}),\n",
              " (30, {29: {0: {'edge_type': 'Parent'}}}),\n",
              " (31,\n",
              "  {7: {0: {'edge_type': 'Parent'}},\n",
              "   32: {0: {'edge_type': 'Child'}},\n",
              "   35: {0: {'edge_type': 'Child'}},\n",
              "   46: {0: {'edge_type': 'Child'}}}),\n",
              " (32,\n",
              "  {31: {0: {'edge_type': 'Parent'}},\n",
              "   33: {0: {'edge_type': 'Child'}},\n",
              "   35: {0: {'edge_type': 'NextStmt'}},\n",
              "   38: {0: {'edge_type': 'NextToken'}}}),\n",
              " (33, {32: {0: {'edge_type': 'Parent'}}, 34: {0: {'edge_type': 'Child'}}}),\n",
              " (34, {33: {0: {'edge_type': 'Parent'}}}),\n",
              " (35,\n",
              "  {31: {0: {'edge_type': 'Parent'}},\n",
              "   36: {0: {'edge_type': 'Child'}},\n",
              "   45: {0: {'edge_type': 'Child'}},\n",
              "   46: {0: {'edge_type': 'NextStmt'}}}),\n",
              " (36,\n",
              "  {35: {0: {'edge_type': 'Parent'}},\n",
              "   37: {0: {'edge_type': 'Child'}},\n",
              "   40: {0: {'edge_type': 'Child'}},\n",
              "   45: {0: {'edge_type': 'CondTrue'}}}),\n",
              " (37,\n",
              "  {36: {0: {'edge_type': 'Parent'}},\n",
              "   38: {0: {'edge_type': 'Child'}},\n",
              "   39: {0: {'edge_type': 'Child'}}}),\n",
              " (38,\n",
              "  {37: {0: {'edge_type': 'Parent'}},\n",
              "   39: {0: {'edge_type': 'NextToken'}},\n",
              "   42: {0: {'edge_type': 'NextUse'}}}),\n",
              " (39,\n",
              "  {37: {0: {'edge_type': 'Parent'}},\n",
              "   41: {0: {'edge_type': 'NextSib'}},\n",
              "   42: {0: {'edge_type': 'NextToken'}},\n",
              "   44: {0: {'edge_type': 'NextUse'}}}),\n",
              " (40,\n",
              "  {36: {0: {'edge_type': 'Parent'}},\n",
              "   41: {0: {'edge_type': 'Child'}},\n",
              "   44: {0: {'edge_type': 'Child'}}}),\n",
              " (41,\n",
              "  {40: {0: {'edge_type': 'Parent'}},\n",
              "   42: {0: {'edge_type': 'Child'}},\n",
              "   43: {0: {'edge_type': 'Child'}}}),\n",
              " (42,\n",
              "  {41: {0: {'edge_type': 'Parent'}},\n",
              "   43: {0: {'edge_type': 'NextToken'}},\n",
              "   53: {0: {'edge_type': 'NextUse'}}}),\n",
              " (43,\n",
              "  {41: {0: {'edge_type': 'Parent'}},\n",
              "   44: {0: {'edge_type': 'NextToken'}},\n",
              "   65: {0: {'edge_type': 'NextUse'}}}),\n",
              " (44,\n",
              "  {40: {0: {'edge_type': 'Parent'}},\n",
              "   48: {0: {'edge_type': 'NextToken'}},\n",
              "   70: {0: {'edge_type': 'NextUse'}}}),\n",
              " (45, {35: {0: {'edge_type': 'Parent'}}, 47: {0: {'edge_type': 'NextSib'}}}),\n",
              " (46,\n",
              "  {31: {0: {'edge_type': 'Parent'}},\n",
              "   47: {0: {'edge_type': 'Child'}},\n",
              "   50: {0: {'edge_type': 'Child'}},\n",
              "   55: {0: {'edge_type': 'Child'}},\n",
              "   57: {0: {'edge_type': 'Child'}}}),\n",
              " (47,\n",
              "  {46: {0: {'edge_type': 'Parent'}},\n",
              "   48: {0: {'edge_type': 'Child'}},\n",
              "   49: {0: {'edge_type': 'Child'}}}),\n",
              " (48,\n",
              "  {47: {0: {'edge_type': 'Parent'}},\n",
              "   51: {0: {'edge_type': 'NextToken'}, 1: {'edge_type': 'NextUse'}}}),\n",
              " (49, {47: {0: {'edge_type': 'Parent'}}, 51: {0: {'edge_type': 'NextSib'}}}),\n",
              " (50,\n",
              "  {46: {0: {'edge_type': 'Parent'}},\n",
              "   51: {0: {'edge_type': 'Child'}},\n",
              "   52: {0: {'edge_type': 'Child'}},\n",
              "   57: {0: {'edge_type': 'WhileExec'}}}),\n",
              " (51,\n",
              "  {50: {0: {'edge_type': 'Parent'}},\n",
              "   53: {0: {'edge_type': 'NextToken'}},\n",
              "   56: {0: {'edge_type': 'NextUse'}}}),\n",
              " (52,\n",
              "  {50: {0: {'edge_type': 'Parent'}},\n",
              "   53: {0: {'edge_type': 'Child'}},\n",
              "   54: {0: {'edge_type': 'Child'}}}),\n",
              " (53,\n",
              "  {52: {0: {'edge_type': 'Parent'}},\n",
              "   54: {0: {'edge_type': 'NextToken'}},\n",
              "   64: {0: {'edge_type': 'NextUse'}}}),\n",
              " (54, {52: {0: {'edge_type': 'Parent'}}, 56: {0: {'edge_type': 'NextToken'}}}),\n",
              " (55,\n",
              "  {46: {0: {'edge_type': 'Parent'}},\n",
              "   56: {0: {'edge_type': 'Child'}},\n",
              "   57: {0: {'edge_type': 'NextSib'}}}),\n",
              " (56,\n",
              "  {55: {0: {'edge_type': 'Parent'}},\n",
              "   58: {0: {'edge_type': 'NextSib'}, 1: {'edge_type': 'NextToken'}},\n",
              "   66: {0: {'edge_type': 'NextUse'}}}),\n",
              " (57,\n",
              "  {46: {0: {'edge_type': 'Parent'}},\n",
              "   50: {0: {'edge_type': 'ForNext'}},\n",
              "   58: {0: {'edge_type': 'Child'}},\n",
              "   67: {0: {'edge_type': 'Child'}}}),\n",
              " (58,\n",
              "  {57: {0: {'edge_type': 'Parent'}},\n",
              "   59: {0: {'edge_type': 'Child'}},\n",
              "   62: {0: {'edge_type': 'Child'}},\n",
              "   64: {0: {'edge_type': 'NextToken'}},\n",
              "   67: {0: {'edge_type': 'NextStmt'}}}),\n",
              " (59, {58: {0: {'edge_type': 'Parent'}}, 60: {0: {'edge_type': 'Child'}}}),\n",
              " (60, {59: {0: {'edge_type': 'Parent'}}, 61: {0: {'edge_type': 'Child'}}}),\n",
              " (61, {60: {0: {'edge_type': 'Parent'}}}),\n",
              " (62,\n",
              "  {58: {0: {'edge_type': 'Parent'}},\n",
              "   63: {0: {'edge_type': 'Child'}},\n",
              "   66: {0: {'edge_type': 'Child'}}}),\n",
              " (63,\n",
              "  {62: {0: {'edge_type': 'Parent'}},\n",
              "   64: {0: {'edge_type': 'Child'}},\n",
              "   65: {0: {'edge_type': 'Child'}}}),\n",
              " (64, {63: {0: {'edge_type': 'Parent'}}, 65: {0: {'edge_type': 'NextToken'}}}),\n",
              " (65, {63: {0: {'edge_type': 'Parent'}}, 66: {0: {'edge_type': 'NextToken'}}}),\n",
              " (66, {62: {0: {'edge_type': 'Parent'}}, 69: {0: {'edge_type': 'NextToken'}}}),\n",
              " (67,\n",
              "  {57: {0: {'edge_type': 'Parent'}},\n",
              "   68: {0: {'edge_type': 'Child'}},\n",
              "   71: {0: {'edge_type': 'Child'}}}),\n",
              " (68,\n",
              "  {67: {0: {'edge_type': 'Parent'}},\n",
              "   69: {0: {'edge_type': 'Child'}},\n",
              "   70: {0: {'edge_type': 'Child'}},\n",
              "   71: {0: {'edge_type': 'WhileExec'}}}),\n",
              " (69,\n",
              "  {68: {0: {'edge_type': 'Parent'}},\n",
              "   70: {0: {'edge_type': 'NextToken'}},\n",
              "   77: {0: {'edge_type': 'NextUse'}}}),\n",
              " (70,\n",
              "  {68: {0: {'edge_type': 'Parent'}},\n",
              "   72: {0: {'edge_type': 'NextSib'}},\n",
              "   73: {0: {'edge_type': 'NextToken'}}}),\n",
              " (71,\n",
              "  {67: {0: {'edge_type': 'Parent'}},\n",
              "   68: {0: {'edge_type': 'WhileNext'}},\n",
              "   72: {0: {'edge_type': 'Child'}},\n",
              "   85: {0: {'edge_type': 'Child'}}}),\n",
              " (72,\n",
              "  {71: {0: {'edge_type': 'Parent'}},\n",
              "   73: {0: {'edge_type': 'Child'}},\n",
              "   74: {0: {'edge_type': 'Child'}},\n",
              "   85: {0: {'edge_type': 'NextStmt'}}}),\n",
              " (73, {72: {0: {'edge_type': 'Parent'}}, 77: {0: {'edge_type': 'NextToken'}}}),\n",
              " (74,\n",
              "  {72: {0: {'edge_type': 'Parent'}},\n",
              "   75: {0: {'edge_type': 'Child'}},\n",
              "   80: {0: {'edge_type': 'Child'}}}),\n",
              " (75,\n",
              "  {74: {0: {'edge_type': 'Parent'}},\n",
              "   76: {0: {'edge_type': 'Child'}},\n",
              "   79: {0: {'edge_type': 'Child'}},\n",
              "   80: {0: {'edge_type': 'NextStmt'}}}),\n",
              " (76,\n",
              "  {75: {0: {'edge_type': 'Parent'}},\n",
              "   77: {0: {'edge_type': 'Child'}},\n",
              "   78: {0: {'edge_type': 'Child'}}}),\n",
              " (77,\n",
              "  {76: {0: {'edge_type': 'Parent'}},\n",
              "   78: {0: {'edge_type': 'NextToken'}},\n",
              "   82: {0: {'edge_type': 'NextUse'}}}),\n",
              " (78,\n",
              "  {76: {0: {'edge_type': 'Parent'}},\n",
              "   79: {0: {'edge_type': 'NextToken'}},\n",
              "   83: {0: {'edge_type': 'NextUse'}}}),\n",
              " (79,\n",
              "  {75: {0: {'edge_type': 'Parent'}},\n",
              "   81: {0: {'edge_type': 'NextSib'}},\n",
              "   82: {0: {'edge_type': 'NextToken'}}}),\n",
              " (80,\n",
              "  {74: {0: {'edge_type': 'Parent'}},\n",
              "   81: {0: {'edge_type': 'Child'}},\n",
              "   84: {0: {'edge_type': 'Child'}}}),\n",
              " (81,\n",
              "  {80: {0: {'edge_type': 'Parent'}},\n",
              "   82: {0: {'edge_type': 'Child'}},\n",
              "   83: {0: {'edge_type': 'Child'}}}),\n",
              " (82,\n",
              "  {81: {0: {'edge_type': 'Parent'}},\n",
              "   83: {0: {'edge_type': 'NextToken'}},\n",
              "   86: {0: {'edge_type': 'NextUse'}}}),\n",
              " (83, {81: {0: {'edge_type': 'Parent'}}, 84: {0: {'edge_type': 'NextToken'}}}),\n",
              " (84, {80: {0: {'edge_type': 'Parent'}}, 86: {0: {'edge_type': 'NextToken'}}}),\n",
              " (85,\n",
              "  {71: {0: {'edge_type': 'Parent'}},\n",
              "   86: {0: {'edge_type': 'Child'}},\n",
              "   87: {0: {'edge_type': 'Child'}}}),\n",
              " (86,\n",
              "  {85: {0: {'edge_type': 'Parent'}},\n",
              "   88: {0: {'edge_type': 'NextToken'}, 1: {'edge_type': 'NextUse'}}}),\n",
              " (87,\n",
              "  {85: {0: {'edge_type': 'Parent'}},\n",
              "   88: {0: {'edge_type': 'Child'}},\n",
              "   89: {0: {'edge_type': 'Child'}}}),\n",
              " (88, {87: {0: {'edge_type': 'Parent'}}, 89: {0: {'edge_type': 'NextToken'}}}),\n",
              " (89, {87: {0: {'edge_type': 'Parent'}}})]"
            ]
          },
          "metadata": {
            "tags": []
          },
          "execution_count": 29
        }
      ]
    },
    {
      "cell_type": "code",
      "metadata": {
        "colab": {
          "base_uri": "https://localhost:8080/"
        },
        "id": "O3Y6uI4pC8uj",
        "outputId": "6959e153-db35-4a8c-ac7d-0fe3b68b6201"
      },
      "source": [
        "len(list(G.adjacency()))"
      ],
      "execution_count": null,
      "outputs": [
        {
          "output_type": "execute_result",
          "data": {
            "text/plain": [
              "90"
            ]
          },
          "metadata": {
            "tags": []
          },
          "execution_count": 31
        }
      ]
    },
    {
      "cell_type": "code",
      "metadata": {
        "colab": {
          "base_uri": "https://localhost:8080/"
        },
        "id": "EjaVSSXADD6U",
        "outputId": "fb857104-5093-4843-dd59-7faa1f789519"
      },
      "source": [
        "list(G.adjacency())[0]"
      ],
      "execution_count": null,
      "outputs": [
        {
          "output_type": "execute_result",
          "data": {
            "text/plain": [
              "(0,\n",
              " {1: {0: {'edge_type': 'ExtDecl'}, 1: {'edge_type': 'Child'}},\n",
              "  4: {0: {'edge_type': 'ExtDecl'}, 1: {'edge_type': 'Child'}},\n",
              "  7: {0: {'edge_type': 'ExtDecl'}, 1: {'edge_type': 'Child'}}})"
            ]
          },
          "metadata": {
            "tags": []
          },
          "execution_count": 32
        }
      ]
    },
    {
      "cell_type": "code",
      "metadata": {
        "colab": {
          "base_uri": "https://localhost:8080/"
        },
        "id": "h7jqOpPF_aaT",
        "outputId": "aded8f12-1afc-449f-9686-c0baae44e351"
      },
      "source": [
        "#test\n",
        "G.edges"
      ],
      "execution_count": null,
      "outputs": [
        {
          "output_type": "execute_result",
          "data": {
            "text/plain": [
              "OutMultiEdgeView([(0, 1, 0), (0, 1, 1), (0, 4, 0), (0, 4, 1), (0, 7, 0), (0, 7, 1), (1, 0, 0), (1, 2, 0), (1, 4, 0), (1, 4, 1), (2, 1, 0), (2, 3, 0), (3, 2, 0), (4, 0, 0), (4, 5, 0), (4, 7, 0), (4, 8, 0), (5, 4, 0), (5, 6, 0), (6, 5, 0), (7, 0, 0), (7, 8, 0), (7, 31, 0), (8, 7, 0), (8, 9, 0), (8, 11, 0), (9, 8, 0), (9, 10, 0), (9, 29, 0), (10, 9, 0), (10, 11, 0), (10, 15, 0), (11, 10, 0), (11, 12, 0), (11, 15, 0), (11, 15, 1), (12, 11, 0), (12, 13, 0), (13, 12, 0), (13, 14, 0), (14, 13, 0), (15, 10, 0), (15, 16, 0), (15, 32, 0), (16, 15, 0), (16, 17, 0), (17, 16, 0), (17, 18, 0), (17, 27, 0), (18, 17, 0), (18, 19, 0), (18, 23, 0), (19, 18, 0), (19, 20, 0), (19, 23, 0), (20, 19, 0), (20, 21, 0), (21, 20, 0), (21, 22, 0), (22, 21, 0), (23, 18, 0), (23, 24, 0), (24, 23, 0), (24, 25, 0), (25, 24, 0), (25, 26, 0), (26, 25, 0), (27, 17, 0), (27, 28, 0), (28, 27, 0), (29, 9, 0), (29, 30, 0), (30, 29, 0), (31, 7, 0), (31, 32, 0), (31, 35, 0), (31, 46, 0), (32, 31, 0), (32, 33, 0), (32, 35, 0), (32, 38, 0), (33, 32, 0), (33, 34, 0), (34, 33, 0), (35, 31, 0), (35, 36, 0), (35, 45, 0), (35, 46, 0), (36, 35, 0), (36, 37, 0), (36, 40, 0), (36, 45, 0), (37, 36, 0), (37, 38, 0), (37, 39, 0), (38, 37, 0), (38, 39, 0), (38, 42, 0), (39, 37, 0), (39, 41, 0), (39, 42, 0), (39, 44, 0), (40, 36, 0), (40, 41, 0), (40, 44, 0), (41, 40, 0), (41, 42, 0), (41, 43, 0), (42, 41, 0), (42, 43, 0), (42, 53, 0), (43, 41, 0), (43, 44, 0), (43, 65, 0), (44, 40, 0), (44, 48, 0), (44, 70, 0), (45, 35, 0), (45, 47, 0), (46, 31, 0), (46, 47, 0), (46, 50, 0), (46, 55, 0), (46, 57, 0), (47, 46, 0), (47, 48, 0), (47, 49, 0), (48, 47, 0), (48, 51, 0), (48, 51, 1), (49, 47, 0), (49, 51, 0), (50, 46, 0), (50, 51, 0), (50, 52, 0), (50, 57, 0), (51, 50, 0), (51, 53, 0), (51, 56, 0), (52, 50, 0), (52, 53, 0), (52, 54, 0), (53, 52, 0), (53, 54, 0), (53, 64, 0), (54, 52, 0), (54, 56, 0), (55, 46, 0), (55, 56, 0), (55, 57, 0), (56, 55, 0), (56, 58, 0), (56, 58, 1), (56, 66, 0), (57, 46, 0), (57, 50, 0), (57, 58, 0), (57, 67, 0), (58, 57, 0), (58, 59, 0), (58, 62, 0), (58, 67, 0), (58, 64, 0), (59, 58, 0), (59, 60, 0), (60, 59, 0), (60, 61, 0), (61, 60, 0), (62, 58, 0), (62, 63, 0), (62, 66, 0), (63, 62, 0), (63, 64, 0), (63, 65, 0), (64, 63, 0), (64, 65, 0), (65, 63, 0), (65, 66, 0), (66, 62, 0), (66, 69, 0), (67, 57, 0), (67, 68, 0), (67, 71, 0), (68, 67, 0), (68, 69, 0), (68, 70, 0), (68, 71, 0), (69, 68, 0), (69, 70, 0), (69, 77, 0), (70, 68, 0), (70, 72, 0), (70, 73, 0), (71, 67, 0), (71, 68, 0), (71, 72, 0), (71, 85, 0), (72, 71, 0), (72, 73, 0), (72, 74, 0), (72, 85, 0), (73, 72, 0), (73, 77, 0), (74, 72, 0), (74, 75, 0), (74, 80, 0), (75, 74, 0), (75, 76, 0), (75, 79, 0), (75, 80, 0), (76, 75, 0), (76, 77, 0), (76, 78, 0), (77, 76, 0), (77, 78, 0), (77, 82, 0), (78, 76, 0), (78, 79, 0), (78, 83, 0), (79, 75, 0), (79, 81, 0), (79, 82, 0), (80, 74, 0), (80, 81, 0), (80, 84, 0), (81, 80, 0), (81, 82, 0), (81, 83, 0), (82, 81, 0), (82, 83, 0), (82, 86, 0), (83, 81, 0), (83, 84, 0), (84, 80, 0), (84, 86, 0), (85, 71, 0), (85, 86, 0), (85, 87, 0), (86, 85, 0), (86, 88, 0), (86, 88, 1), (87, 85, 0), (87, 88, 0), (87, 89, 0), (88, 87, 0), (88, 89, 0), (89, 87, 0)])"
            ]
          },
          "metadata": {
            "tags": []
          },
          "execution_count": 33
        }
      ]
    },
    {
      "cell_type": "markdown",
      "metadata": {
        "id": "gTa9fxKDH-J5"
      },
      "source": [
        "## Draw Networkx AST graph"
      ]
    },
    {
      "cell_type": "code",
      "metadata": {
        "id": "ltMYUHWvOrkf"
      },
      "source": [
        "import matplotlib.pyplot as plt"
      ],
      "execution_count": null,
      "outputs": []
    },
    {
      "cell_type": "code",
      "metadata": {
        "colab": {
          "base_uri": "https://localhost:8080/",
          "height": 319
        },
        "id": "9kBaadOB4B8U",
        "outputId": "62d48c73-1b91-4059-8539-991bac238645"
      },
      "source": [
        "nx.draw(G)"
      ],
      "execution_count": null,
      "outputs": [
        {
          "output_type": "display_data",
          "data": {
            "image/png": "[encoded data removed]",
            "text/plain": [
              "<Figure size 432x288 with 1 Axes>"
            ]
          },
          "metadata": {
            "tags": []
          }
        }
      ]
    },
    {
      "cell_type": "code",
      "metadata": {
        "colab": {
          "base_uri": "https://localhost:8080/"
        },
        "id": "xt3EmbLRBT6t",
        "outputId": "27ab9c21-9422-472a-85e4-a57cf4c7322b"
      },
      "source": [
        "# https://gist.github.com/korakot/a80c04a1945b06e2f4a053f92fecfbf9\n",
        "!apt install libgraphviz-dev"
      ],
      "execution_count": null,
      "outputs": [
        {
          "output_type": "stream",
          "text": [
            "Reading package lists... Done\n",
            "Building dependency tree       \n",
            "Reading state information... Done\n",
            "The following additional packages will be installed:\n",
            "  libgail-common libgail18 libgtk2.0-0 libgtk2.0-bin libgtk2.0-common\n",
            "  libgvc6-plugins-gtk libxdot4\n",
            "Suggested packages:\n",
            "  gvfs\n",
            "The following NEW packages will be installed:\n",
            "  libgail-common libgail18 libgraphviz-dev libgtk2.0-0 libgtk2.0-bin\n",
            "  libgtk2.0-common libgvc6-plugins-gtk libxdot4\n",
            "0 upgraded, 8 newly installed, 0 to remove and 40 not upgraded.\n",
            "Need to get 2,120 kB of archives.\n",
            "After this operation, 7,128 kB of additional disk space will be used.\n",
            "Get:1 http://archive.ubuntu.com/ubuntu bionic/main amd64 libgtk2.0-common all 2.24.32-1ubuntu1 [125 kB]\n",
            "Get:2 http://archive.ubuntu.com/ubuntu bionic/main amd64 libgtk2.0-0 amd64 2.24.32-1ubuntu1 [1,769 kB]\n",
            "Get:3 http://archive.ubuntu.com/ubuntu bionic/main amd64 libgail18 amd64 2.24.32-1ubuntu1 [14.2 kB]\n",
            "Get:4 http://archive.ubuntu.com/ubuntu bionic/main amd64 libgail-common amd64 2.24.32-1ubuntu1 [112 kB]\n",
            "Get:5 http://archive.ubuntu.com/ubuntu bionic/universe amd64 libxdot4 amd64 2.40.1-2 [15.7 kB]\n",
            "Get:6 http://archive.ubuntu.com/ubuntu bionic/universe amd64 libgvc6-plugins-gtk amd64 2.40.1-2 [18.2 kB]\n",
            "Get:7 http://archive.ubuntu.com/ubuntu bionic/universe amd64 libgraphviz-dev amd64 2.40.1-2 [57.3 kB]\n",
            "Get:8 http://archive.ubuntu.com/ubuntu bionic/main amd64 libgtk2.0-bin amd64 2.24.32-1ubuntu1 [7,536 B]\n",
            "Fetched 2,120 kB in 1s (2,110 kB/s)\n",
            "Selecting previously unselected package libgtk2.0-common.\n",
            "(Reading database ... 160837 files and directories currently installed.)\n",
            "Preparing to unpack .../0-libgtk2.0-common_2.24.32-1ubuntu1_all.deb ...\n",
            "Unpacking libgtk2.0-common (2.24.32-1ubuntu1) ...\n",
            "Selecting previously unselected package libgtk2.0-0:amd64.\n",
            "Preparing to unpack .../1-libgtk2.0-0_2.24.32-1ubuntu1_amd64.deb ...\n",
            "Unpacking libgtk2.0-0:amd64 (2.24.32-1ubuntu1) ...\n",
            "Selecting previously unselected package libgail18:amd64.\n",
            "Preparing to unpack .../2-libgail18_2.24.32-1ubuntu1_amd64.deb ...\n",
            "Unpacking libgail18:amd64 (2.24.32-1ubuntu1) ...\n",
            "Selecting previously unselected package libgail-common:amd64.\n",
            "Preparing to unpack .../3-libgail-common_2.24.32-1ubuntu1_amd64.deb ...\n",
            "Unpacking libgail-common:amd64 (2.24.32-1ubuntu1) ...\n",
            "Selecting previously unselected package libxdot4.\n",
            "Preparing to unpack .../4-libxdot4_2.40.1-2_amd64.deb ...\n",
            "Unpacking libxdot4 (2.40.1-2) ...\n",
            "Selecting previously unselected package libgvc6-plugins-gtk.\n",
            "Preparing to unpack .../5-libgvc6-plugins-gtk_2.40.1-2_amd64.deb ...\n",
            "Unpacking libgvc6-plugins-gtk (2.40.1-2) ...\n",
            "Selecting previously unselected package libgraphviz-dev.\n",
            "Preparing to unpack .../6-libgraphviz-dev_2.40.1-2_amd64.deb ...\n",
            "Unpacking libgraphviz-dev (2.40.1-2) ...\n",
            "Selecting previously unselected package libgtk2.0-bin.\n",
            "Preparing to unpack .../7-libgtk2.0-bin_2.24.32-1ubuntu1_amd64.deb ...\n",
            "Unpacking libgtk2.0-bin (2.24.32-1ubuntu1) ...\n",
            "Setting up libgtk2.0-common (2.24.32-1ubuntu1) ...\n",
            "Setting up libxdot4 (2.40.1-2) ...\n",
            "Setting up libgtk2.0-0:amd64 (2.24.32-1ubuntu1) ...\n",
            "Setting up libgail18:amd64 (2.24.32-1ubuntu1) ...\n",
            "Setting up libgail-common:amd64 (2.24.32-1ubuntu1) ...\n",
            "Setting up libgvc6-plugins-gtk (2.40.1-2) ...\n",
            "Setting up libgraphviz-dev (2.40.1-2) ...\n",
            "Setting up libgtk2.0-bin (2.24.32-1ubuntu1) ...\n",
            "Processing triggers for man-db (2.8.3-2ubuntu0.1) ...\n",
            "Processing triggers for libc-bin (2.27-3ubuntu1.2) ...\n",
            "/sbin/ldconfig.real: /usr/local/lib/python3.7/dist-packages/ideep4py/lib/libmkldnn.so.0 is not a symbolic link\n",
            "\n"
          ],
          "name": "stdout"
        }
      ]
    },
    {
      "cell_type": "code",
      "metadata": {
        "colab": {
          "base_uri": "https://localhost:8080/"
        },
        "id": "Q3HiMAFhINTi",
        "outputId": "1e6c6ea0-4cc8-4c38-c6f2-5c7df6b881b2"
      },
      "source": [
        "!pip install pygraphviz"
      ],
      "execution_count": null,
      "outputs": [
        {
          "output_type": "stream",
          "text": [
            "Collecting pygraphviz\n",
            "  Downloading pygraphviz-1.7.zip (118 kB)\n",
            "\u001b[K     |████████████████████████████████| 118 kB 5.1 MB/s \n",
            "\u001b[?25hBuilding wheels for collected packages: pygraphviz\n",
            "  Building wheel for pygraphviz (setup.py) ... \u001b[?25l\u001b[?25hdone\n",
            "  Created wheel for pygraphviz: filename=pygraphviz-1.7-cp37-cp37m-linux_x86_64.whl size=165770 sha256=b404f76c3dfb5112aba3bd93cbf6c89b38bc5a6e122beaa6ad333cfbb2ec30f4\n",
            "  Stored in directory: /root/.cache/pip/wheels/8c/bc/0c/ac35392b72556e75107ff610cb31b313e8471918a6d280e34c\n",
            "Successfully built pygraphviz\n",
            "Installing collected packages: pygraphviz\n",
            "Successfully installed pygraphviz-1.7\n"
          ],
          "name": "stdout"
        }
      ]
    },
    {
      "cell_type": "code",
      "metadata": {
        "id": "DSyBlbvNIOkP"
      },
      "source": [
        "from networkx.drawing.nx_agraph import graphviz_layout"
      ],
      "execution_count": null,
      "outputs": []
    },
    {
      "cell_type": "code",
      "metadata": {
        "id": "jR9sSBtg5LHZ"
      },
      "source": [
        "# write dot file to use with graphviz\n",
        "# run \"dot -Tpng test.dot >test.png\"\n",
        "nx.nx_agraph.write_dot(G,'test.dot')"
      ],
      "execution_count": null,
      "outputs": []
    },
    {
      "cell_type": "code",
      "metadata": {
        "colab": {
          "base_uri": "https://localhost:8080/",
          "height": 264
        },
        "id": "v0wA60zJ5-v0",
        "outputId": "aaa2ae62-bfe6-43e1-b5b8-3064aeb78d58"
      },
      "source": [
        "# same layout using matplotlib with no labels\n",
        "plt.title('c_AST_nx_Graph')\n",
        "pos=graphviz_layout(G, prog='dot')\n",
        "nx.draw(G, pos, with_labels=True, arrows=True)\n",
        "plt.savefig('nx_test.png')"
      ],
      "execution_count": null,
      "outputs": [
        {
          "output_type": "display_data",
          "data": {
            "image/png": "[encoded data removed]",
            "text/plain": [
              "<Figure size 432x288 with 1 Axes>"
            ]
          },
          "metadata": {
            "tags": []
          }
        }
      ]
    },
    {
      "cell_type": "code",
      "metadata": {
        "colab": {
          "base_uri": "https://localhost:8080/"
        },
        "id": "sxszgOlf7lcr",
        "outputId": "445eaf46-b8bc-459d-a236-966bfa605f58"
      },
      "source": [
        "!ls"
      ],
      "execution_count": null,
      "outputs": [
        {
          "output_type": "stream",
          "text": [
            "nx_test.png  sample_data  test.dot\n"
          ],
          "name": "stdout"
        }
      ]
    },
    {
      "cell_type": "code",
      "metadata": {
        "colab": {
          "base_uri": "https://localhost:8080/",
          "height": 305
        },
        "id": "c1jPoDiL7q0J",
        "outputId": "8d20f720-2554-473a-e134-dd150e99f4f8"
      },
      "source": [
        "from IPython.display import Image\n",
        "Image('nx_test.png')"
      ],
      "execution_count": null,
      "outputs": [
        {
          "output_type": "execute_result",
          "data": {
            "image/png": "[encoded data removed]",
            "text/plain": [
              "<IPython.core.display.Image object>"
            ]
          },
          "metadata": {
            "tags": []
          },
          "execution_count": 40
        }
      ]
    },
    {
      "cell_type": "code",
      "metadata": {
        "colab": {
          "base_uri": "https://localhost:8080/",
          "height": 917
        },
        "id": "UHwIS8998WO5",
        "outputId": "eca7ecee-d7a2-4130-b0c0-8030736a9709"
      },
      "source": [
        "Image(\"nx_test.png\", width=700, height=900)"
      ],
      "execution_count": null,
      "outputs": [
        {
          "output_type": "execute_result",
          "data": {
            "image/png": "[encoded data removed]",
            "text/plain": [
              "<IPython.core.display.Image object>"
            ]
          },
          "metadata": {
            "tags": [],
            "image/png": {
              "width": 700,
              "height": 900
            }
          },
          "execution_count": 41
        }
      ]
    }
  ]
}